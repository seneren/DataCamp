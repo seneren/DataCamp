{
 "cells": [
  {
   "cell_type": "markdown",
   "metadata": {},
   "source": [
    "## **Building graphs for chatbots**\n",
    "\n",
    "We'll learn how to create custom chatbots using LangGraph. We'll first the states that manage __Workflow management__, which are\n",
    "1. Graph states\n",
    "2. Agent states\n",
    "\n",
    "Then we'll build chatbots using \n",
    "1. Nodes\n",
    "2. Edges\n",
    "\n",
    "### **Graph and agent states**\n",
    "\n",
    "In LangGraph, __Graph State__\n",
    "- Organizes different tasks, such as\n",
    "  - Tool use\n",
    "  - LLM calls\n",
    "- Order of tasks = __workflow__\n",
    "\n",
    "The graph uses __Agent State__ to\n",
    "- Tracks agent's progress\n",
    "- Logs task completion\n",
    "\n",
    "### **Building an agent with LangGraph**\n",
    "\n",
    "Let's start by building an education chatbot that uses an LLM to answer questions.\n",
    "\n",
    "We only need three nodes and two edges to get started.\n",
    "\n",
    "<div style=\"display: flex;\">\n",
    "    <!-- Left Column -->\n",
    "    <div style=\"width: 45%; padding: 10px;\">\n",
    "    In LangGraph, nodes represent\n",
    "    <ul> \n",
    "       <li>Functions or actions, such as </li>\n",
    "        <ul>\n",
    "          <li>response</li>\n",
    "          <li>tool calls</li>\n",
    "        </ul>\n",
    "    </ul>\n",
    "    while edges define the connections between these nodes. <br><br>\n",
    "    Here, and edge connects the Start of the workflow to the Chatbot node, and another edge connects the Chatbot to the End of the workflow. <br><br>\n",
    "    The START and END nodes to define the start and the end of the workflow will be directly imported from LangGraph.\n",
    "    </div>\n",
    "    <!-- Right Column -->\n",
    "    <div style=\"width: 48%; padding: 10px;\">\n",
    "        <img src='./images/2n1e.png' width=33%>\n",
    "    </div>\n",
    "</div>\n",
    "\n",
    "Let's build the full graph.\n",
    "\n",
    "### **Building graph and agent states**\n",
    "\n",
    "We'll need the following modules:\n",
    "\n",
    "```python\n",
    "# Modules for structuring text\n",
    "from typing import Annotated\n",
    "from typing_extensions import TypedDict\n",
    "\n",
    "# LangGraph modules for defining graphs\n",
    "from langgraph.graph import StateGraph, START, END\n",
    "from langgraph.graph.message import add_message\n",
    "\n",
    "# Module for setting uo OpenAI\n",
    "from langchain_openai import ChatOpenAI\n",
    "```\n",
    "\n",
    "The `Annotated` and `TypedDict` modules will help organize the chatbot's text data.\n",
    "\n",
    "`StateGraph`, `START`, and `END` will be needed to set up our chatbot's workflow and add text messages.\n",
    "\n",
    "To get started,\n",
    "1. we'll set OpenAI as our `llm`. \n",
    "2. Then we'll create an agent state called `State` that accepts `TypedDict` to structure messages. \n",
    "   - We'll define `messages` as a `list` that will store all text interactions with the chatbot. The `Annotated` type, combined with `add_messages`, ensures that new messages are added to the list with metadata. \n",
    "3. Next, we'll initialze a `StateGraph()` called `graph_builder` and pass in our `State` structure. The `graph_builder` will organize the nodes and edges in the chatbot's workflow.\n",
    "\n",
    "```python\n",
    "# Define the llm\n",
    "llm = ChatOpenAI(model=\"gpt-4o-mini\", api_key=api_key)\n",
    "\n",
    "# Define the State\n",
    "class State(TypedDict):\n",
    "\n",
    "    # Define messages with metadata\n",
    "    messages: Annotated[list, add_messages]\n",
    "  \n",
    "# Initialize StateGraph\n",
    "graph_builder = StateGraph(State)\n",
    "```\n",
    "\n",
    "### **Adding nodes and edges**\n",
    "\n",
    "Let's now define the main function node called \"`chatbot`\" that accepts the State class. Using the `llm.invoke()` method, it'll use the \"`messages`\" content on the state dictionary to generate a response based on the conversation so far. This chatbot node can then be added to the `graph_builder` using the `.add_node()` method, coupled with the label \"`chatbot`\".\n",
    "\n",
    "```python\n",
    "# Define chatbot function to respond with the model\n",
    "def chatbot(state: State):\n",
    "    return {\"messages\": [llm.invoke(state[\"messages\"])]}\n",
    "\n",
    "# Add chatbot node to the graph\n",
    "graph_builder.add_node(\"chatbot\", chatbot)\n",
    "```\n",
    "\n",
    "Next, we'll connect the `START` node to the chatbot node to begin the conversation, and then connect the chatbot node to the `END` node to finish it. Now that the `graph_builder` is ready, we can compile the `graph` as an application using the `.compile()` method.\n",
    "\n",
    "```python\n",
    "# Define the start and end of the conversation flow\n",
    "graph_builder.add_edge(START, \"chatbot\")\n",
    "graph_builder.add_edge(\"chatbot\", END)\n",
    "\n",
    "# Compile the graph to prepare for execution\n",
    "graph = graph_builder.compile()\n",
    "```"
   ]
  },
  {
   "cell_type": "code",
   "execution_count": 1,
   "metadata": {},
   "outputs": [],
   "source": [
    "# Modules for structuring text\n",
    "from typing import Annotated\n",
    "from typing_extensions import TypedDict\n",
    "\n",
    "# LangGraph modules for defining graphs\n",
    "from langgraph.graph import StateGraph, START, END\n",
    "from langgraph.graph.message import add_messages\n",
    "\n",
    "# Module for setting uo OpenAI\n",
    "from langchain_openai import ChatOpenAI\n",
    "import os\n",
    "\n",
    "# Set up the API key\n",
    "api_key = os.environ[\"OPENAI_API_KEY\"]\n",
    "\n",
    "# Define the llm\n",
    "llm = ChatOpenAI(model=\"gpt-4o-mini\", api_key=api_key)\n",
    "\n",
    "# Define the State\n",
    "class State(TypedDict):\n",
    "\n",
    "    # Define messages with metadata\n",
    "    messages: Annotated[list, add_messages]\n",
    "  \n",
    "# Initialize StateGraph\n",
    "graph_builder = StateGraph(State)\n",
    "\n",
    "# Define chatbot function to respond with the model\n",
    "def chatbot(state: State):\n",
    "    return {\"messages\": [llm.invoke(state[\"messages\"])]}\n",
    "\n",
    "# Add chatbot node to the graph\n",
    "graph_builder.add_node(\"chatbot\", chatbot)\n",
    "\n",
    "# Define the start and end of the conversation flow\n",
    "graph_builder.add_edge(START, \"chatbot\")\n",
    "graph_builder.add_edge(\"chatbot\", END)\n",
    "\n",
    "# Compile the graph to prepare for execution\n",
    "graph = graph_builder.compile()"
   ]
  },
  {
   "cell_type": "markdown",
   "metadata": {},
   "source": [
    "## **Generating chatbot responses**\n",
    "\n",
    "<div style=\"display: flex;\">\n",
    "    <!-- Left Column -->\n",
    "    <div style=\"width: 45%; padding: 10px;\">\n",
    "    <ul> \n",
    "       <li>Streaming events from a graph allows us to process the steps in an agent's workflow in real time.</li><br>\n",
    "       <li>As we stream, each event represents a single step in the graph, like generating a response or calling a tool.</li><br>\n",
    "       <li>This lets us track the chatbot agent's progress </li><br>\n",
    "       <li>by displaying responses as soon as they're ready. </li><br>\n",
    "    </ul>\n",
    "    Here, we've printed four events, which include the user's query.\n",
    "    </div>\n",
    "    <!-- Right Column -->\n",
    "    <div style=\"width: 48%; padding: 10px;\">\n",
    "        <img src='./images/flow.png' width=65%>\n",
    "    </div>\n",
    "</div>\n",
    "\n",
    "Let's first test the chatbot with just the LLM.\n",
    "\n",
    "We'll start by defining a function called `stream_graph_updates()` to run the chatbot based on queries supplied as a string called `user_input`. <br>\n",
    "Inside the function, we'll apply the `.stream()` method to the `graph`, passing in the `user_input` labeled `\"user\"` to a dictionary key called `\"messages\"`. This lets the graph start processing the user's question. <br>\n",
    "Next, we'll loop through each `event` generated by the graph, retrieving the last chatbot response by accessing `event.values()` and printing the `\"messages\"` in the value dictionary. This displays the chatbot response as soon as it's ready. <br>\n",
    "Finally, we'll define a test query with the string `'Who is Mary Shelley?'`, passing it to `stream_graph_updates()` to return a response based just on the LLM.\n"
   ]
  },
  {
   "cell_type": "code",
   "execution_count": 2,
   "metadata": {},
   "outputs": [
    {
     "name": "stdout",
     "output_type": "stream",
     "text": [
      "Agent: [AIMessage(content='Mary Shelley (1797–1851) was an English novelist best known for her groundbreaking work in the genre of science fiction. She is most famous for her novel \"Frankenstein; or, The Modern Prometheus,\" published in 1818 when she was just 20 years old. The novel tells the story of Victor Frankenstein, a scientist who creates a sentient creature through an unorthodox scientific experiment, exploring themes of ambition, the nature of humanity, and the consequences of playing God.\\n\\nShelley\\'s life was marked by personal tragedy and intellectual engagement. She was the daughter of the feminist writer Mary Wollstonecraft and the political philosopher William Godwin. Her tumultuous relationship with the poet Percy Bysshe Shelley, whom she married, also influenced her writing. The couple were part of the Romantic literary circle, which included well-known figures like Lord Byron.\\n\\nIn addition to \"Frankenstein,\" Mary Shelley wrote other novels, short stories, essays, and travelogues, and she actively participated in the literary and philosophical debates of her time. She is now regarded as a key figure in gothic literature and an early pioneer of science fiction. Her work raises profound questions about ethics, creation, and the responsibilities of knowledge, making her a relevant figure in discussions of science and humanity even today.', additional_kwargs={'refusal': None}, response_metadata={'token_usage': {'completion_tokens': 262, 'prompt_tokens': 12, 'total_tokens': 274, 'completion_tokens_details': {'accepted_prediction_tokens': 0, 'audio_tokens': 0, 'reasoning_tokens': 0, 'rejected_prediction_tokens': 0}, 'prompt_tokens_details': {'audio_tokens': 0, 'cached_tokens': 0}}, 'model_name': 'gpt-4o-mini-2024-07-18', 'system_fingerprint': 'fp_06737a9306', 'finish_reason': 'stop', 'logprobs': None}, id='run-8c00f711-a083-4eab-804c-fc382f7534a3-0', usage_metadata={'input_tokens': 12, 'output_tokens': 262, 'total_tokens': 274, 'input_token_details': {'audio': 0, 'cache_read': 0}, 'output_token_details': {'audio': 0, 'reasoning': 0}})]\n"
     ]
    }
   ],
   "source": [
    "# Define a function to execute the chatbot based on user input\n",
    "\n",
    "def stream_graph_updates(user_input: str):\n",
    "\n",
    "    # Start streaming events from the graph with the user's input\n",
    "    for event in graph.stream({\"messages\": [(\"user\", user_input)]}):\n",
    "\n",
    "        # Retrieve and print the chatbot node responses\n",
    "        for value in event.values():\n",
    "            print(\"Agent:\", value[\"messages\"])\n",
    "\n",
    "# Define the user query and run the chatbot\n",
    "user_query = \"Who is Mary Shelley?\"\n",
    "stream_graph_updates(user_query)"
   ]
  },
  {
   "cell_type": "markdown",
   "metadata": {},
   "source": [
    "Since our chatbot currently doesn't use any tools, it'll use the LLM's knowledge base to return an answer about the celebrated science fiction author of \"Frankenstein\" - Mary Shelley, in the `AIMessage` field labeled \"`content`\".\n",
    "\n",
    "When using LLMs, always check original sources, as even powerful LLMs can be prone to hallucinations. To limit errors, we can ask LangGraph to show us how the nodes and edges are connected by displaying the graph:\n",
    "\n",
    "We'll first import the modules `Image` and `display` from `IPython.display`. \n",
    "\n",
    "Then we'll create a try-and-except block where the `.get_graph()` method is applied to graph to retrieve its structure. The `.draw_mermaid_png()` method is then used to render this structure as a visual diagram.\n",
    "\n",
    "Fially, the entire statement is wrapped in `Image()` and passed to `display()` to show the diagram. We'll then define an exception that returns an error message if other dependencies for Python visualization are required, depending on our coding environment."
   ]
  },
  {
   "cell_type": "code",
   "execution_count": 3,
   "metadata": {},
   "outputs": [
    {
     "data": {
      "image/png": "[encoded data removed]",
      "text/plain": [
       "<IPython.core.display.Image object>"
      ]
     },
     "metadata": {},
     "output_type": "display_data"
    }
   ],
   "source": [
    "# Import modules for chatbot diagram\n",
    "from IPython.display import Image, display\n",
    "\n",
    "# Try generating and displaying the graph diagram\n",
    "try:\n",
    "    display(Image(graph.get_graph().draw_mermaid_png()))\n",
    "\n",
    "# Return an exception if necessary\n",
    "except Exception:\n",
    "    print(\"Additional dependencies required.\")"
   ]
  },
  {
   "cell_type": "markdown",
   "metadata": {},
   "source": [
    "## **Adding external tools to a chatbot**\n",
    "\n",
    "Now let's try incorporating an external API tool into our chatbot. \n",
    "\n",
    "Tools with API capabilities help augment chatbot agents by enabling access to external resources, such as\n",
    "\n",
    "- news\n",
    "- databases\n",
    "- social media\n",
    "- etc.\n",
    "\n",
    "### **Adding a Wikipedia tool**\n",
    "\n",
    "Using LangGraph, let's expand our education chatbot's knowledge by including a _Wikipedia API_.\n",
    "\n",
    "We'll start with two modules:\n",
    "\n",
    "- `from langchain_community.utilities import WikipediaAPIWrapper` allows us to interact with the Wikipedia API,\n",
    "- `from langchain_community.tools import WikipediaQueryRun` enables us to run queries on Wikipedia. WikipediaQueryRun makes the API a tool for running queries. \n",
    "\n",
    "Next, we'll initialize `WikipediaAPIWrapper`, setting `top_k_results` to one to keep responses relevant. Then, we'll create `wikipedia_tool` with `WikipediaQueryRun`, passing in the `api_wrapper` to connect directly to Wikipedia and retrieve detailed information when needed. \n",
    "\n",
    "Finally, we'll store `wikipedia_tool` in a list called tools, which can hold multiple tools if required."
   ]
  },
  {
   "cell_type": "code",
   "execution_count": 4,
   "metadata": {},
   "outputs": [],
   "source": [
    "from langchain_community.utilities import WikipediaAPIWrapper\n",
    "from langchain_community.tools import WikipediaQueryRun\n",
    "\n",
    "# initialize Wikipedia API wrapper to fetch top 1 result\n",
    "api_wrapper = WikipediaAPIWrapper(top_k_results=1)\n",
    "\n",
    "# Create a Wikipedia query tool using the API wrapper\n",
    "wikipedia_tool = WikipediaQueryRun(api_wrapper=api_wrapper)\n",
    "tools = [wikipedia_tool]"
   ]
  },
  {
   "cell_type": "markdown",
   "metadata": {},
   "source": [
    "We can bind our tools list to the language model using `.bind_tools()` and store it in a variable called `llm_with_tools`.\n",
    "\n",
    "Next, we'll _update_ our original `chatbot` function to use `llm_with_tools` instead of `llm`, enabling responses from the Wikipedia tool when needed, rather than relying on the language model alone. This modified function passes the full conversation stored in `\"messages\"` to `llm_with_tools`, allowing the language model to decide when to pull information from Wikipedia to enhance its responses."
   ]
  },
  {
   "cell_type": "code",
   "execution_count": 5,
   "metadata": {},
   "outputs": [],
   "source": [
    "# Bind the Wikipedia tool to the language model\n",
    "\n",
    "llm_with_tools = llm.bind_tools(tools)\n",
    "\n",
    "# Modify chatbot function to respond with Wikipedia\n",
    "def chatbot(state: State):\n",
    "    return{\"messages\": [llm_with_tools.invoke(state[\"messages\"])]}"
   ]
  },
  {
   "cell_type": "markdown",
   "metadata": {},
   "source": [
    "### **Other API tools**\n",
    "\n",
    "For more details on how to add different tools with external APIs, be sure to reference LangChain's [API documentation](https://python.langchain.com/docs/integrations/tools/)."
   ]
  },
  {
   "cell_type": "markdown",
   "metadata": {},
   "source": []
  },
  {
   "cell_type": "markdown",
   "metadata": {},
   "source": [
    "## **Adding tool nodes**\n",
    "\n",
    "Now that we have our Wikipedia tool, the next modules we need to import are `ToolNode` and `tools_condition` from `graph_tool_nodes`. These modules will help us add the tool to our chatbot's graph. As with the basic chatbot, we'll start by adding our chatbot node labeled `\"chatbot\"` to the `graph_builder` using the `.add_node()` method.\n",
    "\n",
    "Then we'll define a tool_node by passing in the `wikipedia_tool` to the tools argument in LangGraph's `ToolNode()` class, before adding this node labeled `\"tools\"` to the `graph_builder`.\n",
    "\n",
    "\n",
    "<div style=\"display: flex;\">\n",
    "    <!-- Left Column -->\n",
    "    <div style=\"width: 45%; padding: 10px;\">\n",
    "    Next, before adding an <b>END</b> node explicitly, we'll use the <b>.add_conditional_edges()</b> method with <b>tools_condition</b> to let the chatbot decide if a tool is needed. If it is, the chatbot will call a tool. If not, the chatbot will end without a response.<br><br>\n",
    "\n",
    "For LLM or tool calls that generate a response, we'll connect <b>\"tools\"</b> back to the <b>\"chatbot\"</b> using the <b>.add_edge()</b> method, then add a <b>START</b> node which connects to the <b>\"chatbot\"</b>, before finally connecting the <b>\"chatbot\"</b> to the added <b>END</b> node.\n",
    "    </div>\n",
    "    <!-- Right Column -->\n",
    "    <div style=\"width: 48%; padding: 10px;\">\n",
    "        <img src='./images/conditional.svg' width=48%>\n",
    "    </div>\n",
    "</div>\n",
    "\n"
   ]
  },
  {
   "cell_type": "code",
   "execution_count": 21,
   "metadata": {},
   "outputs": [],
   "source": [
    "# Modules for adding tool conditions and nodes\n",
    "from langgraph.prebuilt import ToolNode, tools_condition\n",
    "\n",
    "# Add chatbot node to the graph after Reinitializing the graph\n",
    "graph_builder = StateGraph(State)\n",
    "graph_builder.add_node(\"chatbot\", chatbot)\n",
    "\n",
    "# Create a ToolNode to handle tool calls and add it to the graph\n",
    "tool_node = ToolNode(tools=[wikipedia_tool])\n",
    "graph_builder.add_node(\"tools\", tool_node)\n",
    "\n",
    "\n",
    "# Set up a condition to direct from chatbot to tool or end node\n",
    "graph_builder.add_conditional_edges(\"chatbot\", tools_condition)\n",
    "\n",
    "# Connect tools back to chatbot and add START and END nodes\n",
    "graph_builder.add_edge(\"tools\", \"chatbot\")\n",
    "graph_builder.add_edge(START, \"chatbot\")\n",
    "graph_builder.add_edge(\"chatbot\", END)\n",
    "\n",
    "graph = graph_builder.compile()"
   ]
  },
  {
   "cell_type": "markdown",
   "metadata": {},
   "source": [
    "## **Adding memory and conversation**\n",
    "\n",
    "We'll use our graph display function to check the graph without the try-except block, since we've already tested this feature. \n",
    "\n",
    "Then, we'll set up our streaming function now labeled `stream_tool_responses`, to see if the tool was correctly called. Inside this function, we'll access the messages stored in the chatbot's events, which should refer to specific tools. Finally, we'll pass a test query, `\"House of Lords\"`."
   ]
  },
  {
   "cell_type": "code",
   "execution_count": 24,
   "metadata": {},
   "outputs": [
    {
     "data": {
      "image/png": "[encoded data removed]",
      "text/plain": [
       "<IPython.core.display.Image object>"
      ]
     },
     "metadata": {},
     "output_type": "display_data"
    },
    {
     "name": "stdout",
     "output_type": "stream",
     "text": [
      "Agent: [AIMessage(content='', additional_kwargs={'tool_calls': [{'id': 'call_urN9RHNTVuzgBOr44eKLQTAA', 'function': {'arguments': '{\"query\":\"House of Lords\"}', 'name': 'wikipedia'}, 'type': 'function'}], 'refusal': None}, response_metadata={'token_usage': {'completion_tokens': 16, 'prompt_tokens': 84, 'total_tokens': 100, 'completion_tokens_details': {'accepted_prediction_tokens': 0, 'audio_tokens': 0, 'reasoning_tokens': 0, 'rejected_prediction_tokens': 0}, 'prompt_tokens_details': {'audio_tokens': 0, 'cached_tokens': 0}}, 'model_name': 'gpt-4o-mini-2024-07-18', 'system_fingerprint': 'fp_06737a9306', 'finish_reason': 'tool_calls', 'logprobs': None}, id='run-2d901d94-a4da-48b7-bcdf-01171afe9431-0', tool_calls=[{'name': 'wikipedia', 'args': {'query': 'House of Lords'}, 'id': 'call_urN9RHNTVuzgBOr44eKLQTAA', 'type': 'tool_call'}], usage_metadata={'input_tokens': 84, 'output_tokens': 16, 'total_tokens': 100, 'input_token_details': {'audio': 0, 'cache_read': 0}, 'output_token_details': {'audio': 0, 'reasoning': 0}})]\n",
      "Agent: [ToolMessage(content='Page: House of Lords\\nSummary: The House of Lords is the upper house of the Parliament of the United Kingdom. Like the lower house, the House of Commons, it meets in the Palace of Westminster in London, England. One of the oldest extant institutions in the world, its origins lie in the early 11th century and the emergence of bicameralism in the 13th century.\\nIn contrast to the House of Commons, membership of the Lords is not generally acquired by election. Most members are appointed for life, on either a political or non-political basis.  Hereditary membership was limited in 1999 to 92 excepted hereditary peers: 90 elected through internal by-elections, plus the Earl Marshal and Lord Great Chamberlain as members ex officio. No members directly inherit their seats any longer. The House of Lords also includes up to 26 archbishops and bishops of the Church of England, known as Lords Spiritual. Since 2014, membership may be voluntarily relinquished or terminated upon expulsion.\\nAs the upper house of Parliament, the House of Lords has many similar functions to the House of Commons. It scrutinises legislation, holds the government to account, and considers and reports upon public policy. Peers may also seek to introduce legislation or propose amendments to bills. While it is unable to prevent bills passing into law, except in certain limited circumstances, it may delay the enactment of bills for up to one year. In this capacity, as a body independent from the pressures of the political process, the House of Lords is said to act as a \"revising chamber\" focusing on legislative detail, while occasionally asking the House of Commons to reconsider its plans.\\nWhile peers may also serve as government ministers, they are typically only selected to serve as junior ministers, except for the Leader of the House of Lords. The House of Lords does not control the term of the prime minister or of the government; only the Commons may vote to require the prime minister to resign or call an election. Unlike the House of Commons, which has a defined number of seats, the number of members in the House of Lords is not fixed. As of 10 March 2025, it has 832 sitting members. The House of Lords is the only upper house of any bicameral parliament in the world to be larger than its lower house, and is the second-largest legislative chamber in the world, behind the National People\\'s Congress of China.\\nThe King\\'s Speech is delivered in the House of Lords chamber during the State Opening of Parliament. In addition to its role as the upper house, the House of Lords, through the Law Lords, acted as the final court of appeal in the United Kingdom judicial system until the establishment of the Supreme Court in 2009. The House of Lords also has a Church of England role, in that Church Measures must be tabled within the House by the Lords Spiritual.', name='wikipedia', id='d52883c8-8a72-4851-9572-43faa7913ae0', tool_call_id='call_urN9RHNTVuzgBOr44eKLQTAA')]\n",
      "Agent: [AIMessage(content='The House of Lords is the upper house of the Parliament of the United Kingdom, meeting in the Palace of Westminster, London. It is one of the world\\'s oldest institutions, with origins dating back to the early 11th century and the establishment of bicameralism in the 13th century.\\n\\nMembership in the House of Lords is not typically acquired through elections; most members are appointed for life, either politically or non-politically. Since 1999, hereditary membership has been limited to 92 excepted hereditary peers, and there are also up to 26 Lords Spiritual, who are archbishops and bishops of the Church of England. Unlike the House of Commons, the number of members in the House of Lords is not fixed; as of March 2025, it has 832 sitting members.\\n\\nThe House of Lords performs many of the same functions as the House of Commons, including scrutinizing legislation, holding the government accountable, and reviewing public policy. It serves as a \"revising chamber\" that focuses on legislative details and can delay the passing of bills for up to a year. However, it does not have the power to prevent bills from becoming law under most circumstances.\\n\\nThe King\\'s Speech is delivered in the House of Lords during the State Opening of Parliament. The House of Lords also played a judicial role as the final court of appeal in the UK until the Supreme Court was established in 2009. Additionally, Church Measures must be considered within the House by the Lords Spiritual.', additional_kwargs={'refusal': None}, response_metadata={'token_usage': {'completion_tokens': 302, 'prompt_tokens': 698, 'total_tokens': 1000, 'completion_tokens_details': {'accepted_prediction_tokens': 0, 'audio_tokens': 0, 'reasoning_tokens': 0, 'rejected_prediction_tokens': 0}, 'prompt_tokens_details': {'audio_tokens': 0, 'cached_tokens': 0}}, 'model_name': 'gpt-4o-mini-2024-07-18', 'system_fingerprint': 'fp_06737a9306', 'finish_reason': 'stop', 'logprobs': None}, id='run-1c8085b0-acf7-4f85-86c0-6d567db555d0-0', usage_metadata={'input_tokens': 698, 'output_tokens': 302, 'total_tokens': 1000, 'input_token_details': {'audio': 0, 'cache_read': 0}, 'output_token_details': {'audio': 0, 'reasoning': 0}})]\n"
     ]
    }
   ],
   "source": [
    "# Produce the chatbot graph\n",
    "display(Image(graph.get_graph().draw_mermaid_png()))\n",
    "\n",
    "# Define a function to execute the chatbot, streaming each message\n",
    "def stream_tool_responses(user_input: str):\n",
    "    for event in graph.stream({\"messages\": [(\"user\", user_input)]}):\n",
    "        for value in event.values():\n",
    "            print(\"Agent:\", value[\"messages\"])\n",
    "\n",
    "# Define the query and run the chatbot\n",
    "user_query = \"House of Lords\"\n",
    "stream_tool_responses(user_query)"
   ]
  },
  {
   "cell_type": "markdown",
   "metadata": {},
   "source": [
    "The diagram shows the tools node added, with all nodes and edges correctly implemented, reflecting all of the possible conversation outcomes.\n",
    "\n",
    "The abbreviated output shows the test query passed to the chatbot, along with the Wikipedia tool call in the metadata field called `\"name\"`. The next response shows a summary generated from the _House of Lords_ Wikipedia page. The chatbot's final answer modifies the content from the Wikipedia summary using the LLM to enhance the clarity of its response. Additional details appear in the response_metadata field. \n",
    "\n",
    "### **Adding memory**\n",
    "\n",
    "Rather than independently responding to different queries, let's add memory to our chatbot so it can maintain a conversation. \n",
    "\n",
    "First, we'll import `MemorySaver` from `langgraph.checkpoint.memory` to handle memory storage within our graph. \n",
    "\n",
    "Then, we'll create a `MemorySaver` instance called `memory`, which will act as our checkpoint for storing messages. \n",
    "\n",
    "Next, we'll compile the graph with `graph_builder.compile()`, passing memory as the checkpoint, so the chatbot retains conversation context.\n",
    "\n",
    "### **Streaming outputs with memory**\n",
    "\n",
    "To set up a chatbot that remembers context, we'll define a streaming function called `stream_memory_responses` for a single conversation.\n",
    "\n",
    "First, we'll create a `config` dictionary with a unique thread ID, `\"single_session_memory\"`, which lets us maintain message history.\n",
    "\n",
    "Next, we'll use a for loop to stream events from the graph using `.stream()`, passing in the user’s input message along with the config dictionary.\n",
    "\n",
    "Finally, we'll extract and print the agent's last response by checking for messages in each event's values, allowing the chatbot to answer follow-up questions with context."
   ]
  },
  {
   "cell_type": "code",
   "execution_count": 28,
   "metadata": {},
   "outputs": [
    {
     "name": "stdout",
     "output_type": "stream",
     "text": [
      "Agent: [AIMessage(content='', additional_kwargs={'tool_calls': [{'id': 'call_w0NXrEmFBpeZZyQeH4qdl0V5', 'function': {'arguments': '{\"query\":\"Colosseum\"}', 'name': 'wikipedia'}, 'type': 'function'}], 'refusal': None}, response_metadata={'token_usage': {'completion_tokens': 16, 'prompt_tokens': 88, 'total_tokens': 104, 'completion_tokens_details': {'accepted_prediction_tokens': 0, 'audio_tokens': 0, 'reasoning_tokens': 0, 'rejected_prediction_tokens': 0}, 'prompt_tokens_details': {'audio_tokens': 0, 'cached_tokens': 0}}, 'model_name': 'gpt-4o-mini-2024-07-18', 'system_fingerprint': 'fp_06737a9306', 'finish_reason': 'tool_calls', 'logprobs': None}, id='run-a3fa2f8f-eb49-41a6-881e-872f9721161d-0', tool_calls=[{'name': 'wikipedia', 'args': {'query': 'Colosseum'}, 'id': 'call_w0NXrEmFBpeZZyQeH4qdl0V5', 'type': 'tool_call'}], usage_metadata={'input_tokens': 88, 'output_tokens': 16, 'total_tokens': 104, 'input_token_details': {'audio': 0, 'cache_read': 0}, 'output_token_details': {'audio': 0, 'reasoning': 0}})]\n",
      "Agent: [ToolMessage(content='Page: Colosseum\\nSummary: The Colosseum ( KOL-ə-SEE-əm; Italian: Colosseo [kolosˈsɛːo], ultimately from Ancient Greek word \"kolossos\" meaning a large statue or giant) is an elliptical amphitheatre in the centre of the city of Rome, Italy, just east of the Roman Forum. It is the largest ancient amphitheatre ever built, and is still the largest standing amphitheatre in the world, despite its age. Construction began under the Emperor Vespasian (r.\\u200969–79 AD) in 72 and was completed in AD 80 under his successor and heir, Titus (r.\\u200979–81). Further modifications were made during the reign of Domitian (r.\\u200981–96). The three emperors who were patrons of the work are known as the Flavian dynasty, and the amphitheatre was named the Flavian Amphitheatre (Latin: Amphitheatrum Flavium; Italian: Anfiteatro Flavio [aɱfiteˈaːtro ˈflaːvjo]) by later classicists and archaeologists for its association with their family name (Flavius).\\nThe Colosseum is built of travertine limestone, tuff (volcanic rock), and brick-faced concrete. It could hold an estimated 50,000 to 80,000 spectators at various points in its history, having an average audience of some 65,000; it was used for gladiatorial contests and public spectacles including animal hunts, executions, re-enactments of famous battles, dramas based on Roman mythology, and briefly mock sea battles. The building ceased to be used for entertainment in the early medieval era. It was later reused for such purposes as housing, workshops, quarters for a religious order, a fortress, a quarry, and a Christian shrine.\\nAlthough substantially ruined by earthquakes and stone robbers taking spolia, the Colosseum is still a renowned symbol of Imperial Rome and was listed as one of the New 7 Wonders of the World. It is one of Rome\\'s most popular tourist attractions and has links to the Catholic Church, as each Good Friday the Pope leads a torchlit \"Way of the Cross\" procession that starts in the area around the Colosseum. The Colosseum is depicted on the Italian version of the 5 euro cent coin.', name='wikipedia', id='be94d378-b631-4870-ac21-cac3215e1276', tool_call_id='call_w0NXrEmFBpeZZyQeH4qdl0V5')]\n",
      "Agent: [AIMessage(content='The Colosseum, known in Italian as \"Colosseo,\" is an elliptical amphitheatre located in the center of Rome, Italy, just east of the Roman Forum. It is the largest ancient amphitheatre ever built and remains the largest standing amphitheatre in the world. Construction began under Emperor Vespasian in 72 AD and was completed in AD 80 under his successor, Titus. Further modifications were made during the reign of Domitian.\\n\\nOriginally named the Flavian Amphitheatre (Latin: Amphitheatrum Flavium) in honor of the Flavian dynasty, the Colosseum was built using travertine limestone, tuff (a type of volcanic rock), and brick-faced concrete. It could accommodate between 50,000 to 80,000 spectators, hosting events such as gladiatorial contests, animal hunts, executions, and reenactments of historical battles. \\n\\nThe Colosseum ceased to be used for entertainment in the early medieval era and was repurposed for various uses over the centuries, including housing, workshops, and even religious purposes. Despite suffering significant damage from earthquakes and looting, it remains a symbol of Imperial Rome and is one of the most popular tourist attractions in the city. It is recognized as one of the New 7 Wonders of the World and is also featured on the Italian 5 euro cent coin. Additionally, the Pope leads a torchlit \"Way of the Cross\" procession near the Colosseum each Good Friday.', additional_kwargs={'refusal': None}, response_metadata={'token_usage': {'completion_tokens': 303, 'prompt_tokens': 608, 'total_tokens': 911, 'completion_tokens_details': {'accepted_prediction_tokens': 0, 'audio_tokens': 0, 'reasoning_tokens': 0, 'rejected_prediction_tokens': 0}, 'prompt_tokens_details': {'audio_tokens': 0, 'cached_tokens': 0}}, 'model_name': 'gpt-4o-mini-2024-07-18', 'system_fingerprint': 'fp_06737a9306', 'finish_reason': 'stop', 'logprobs': None}, id='run-72fafc01-fcc4-4c2f-9a8c-064b315670f0-0', usage_metadata={'input_tokens': 608, 'output_tokens': 303, 'total_tokens': 911, 'input_token_details': {'audio': 0, 'cache_read': 0}, 'output_token_details': {'audio': 0, 'reasoning': 0}})]\n",
      "Agent: [AIMessage(content='', additional_kwargs={'tool_calls': [{'id': 'call_q1I3NJ8fIc8jqanlbl9SSbOj', 'function': {'arguments': '{\"query\":\"Colosseum construction history\"}', 'name': 'wikipedia'}, 'type': 'function'}], 'refusal': None}, response_metadata={'token_usage': {'completion_tokens': 18, 'prompt_tokens': 921, 'total_tokens': 939, 'completion_tokens_details': {'accepted_prediction_tokens': 0, 'audio_tokens': 0, 'reasoning_tokens': 0, 'rejected_prediction_tokens': 0}, 'prompt_tokens_details': {'audio_tokens': 0, 'cached_tokens': 0}}, 'model_name': 'gpt-4o-mini-2024-07-18', 'system_fingerprint': 'fp_06737a9306', 'finish_reason': 'tool_calls', 'logprobs': None}, id='run-aac95309-c6f5-4ce4-9fd6-5f52deac24ce-0', tool_calls=[{'name': 'wikipedia', 'args': {'query': 'Colosseum construction history'}, 'id': 'call_q1I3NJ8fIc8jqanlbl9SSbOj', 'type': 'tool_call'}], usage_metadata={'input_tokens': 921, 'output_tokens': 18, 'total_tokens': 939, 'input_token_details': {'audio': 0, 'cache_read': 0}, 'output_token_details': {'audio': 0, 'reasoning': 0}})]\n",
      "Agent: [ToolMessage(content='Page: Colosseum\\nSummary: The Colosseum ( KOL-ə-SEE-əm; Italian: Colosseo [kolosˈsɛːo], ultimately from Ancient Greek word \"kolossos\" meaning a large statue or giant) is an elliptical amphitheatre in the centre of the city of Rome, Italy, just east of the Roman Forum. It is the largest ancient amphitheatre ever built, and is still the largest standing amphitheatre in the world, despite its age. Construction began under the Emperor Vespasian (r.\\u200969–79 AD) in 72 and was completed in AD 80 under his successor and heir, Titus (r.\\u200979–81). Further modifications were made during the reign of Domitian (r.\\u200981–96). The three emperors who were patrons of the work are known as the Flavian dynasty, and the amphitheatre was named the Flavian Amphitheatre (Latin: Amphitheatrum Flavium; Italian: Anfiteatro Flavio [aɱfiteˈaːtro ˈflaːvjo]) by later classicists and archaeologists for its association with their family name (Flavius).\\nThe Colosseum is built of travertine limestone, tuff (volcanic rock), and brick-faced concrete. It could hold an estimated 50,000 to 80,000 spectators at various points in its history, having an average audience of some 65,000; it was used for gladiatorial contests and public spectacles including animal hunts, executions, re-enactments of famous battles, dramas based on Roman mythology, and briefly mock sea battles. The building ceased to be used for entertainment in the early medieval era. It was later reused for such purposes as housing, workshops, quarters for a religious order, a fortress, a quarry, and a Christian shrine.\\nAlthough substantially ruined by earthquakes and stone robbers taking spolia, the Colosseum is still a renowned symbol of Imperial Rome and was listed as one of the New 7 Wonders of the World. It is one of Rome\\'s most popular tourist attractions and has links to the Catholic Church, as each Good Friday the Pope leads a torchlit \"Way of the Cross\" procession that starts in the area around the Colosseum. The Colosseum is depicted on the Italian version of the 5 euro cent coin.', name='wikipedia', id='97677b04-5a5e-46bc-a362-438e52bb12f1', tool_call_id='call_q1I3NJ8fIc8jqanlbl9SSbOj')]\n",
      "Agent: [AIMessage(content='The Colosseum was constructed under the direction of three Roman emperors from the Flavian dynasty. The construction began under Emperor Vespasian in 72 AD and was completed in AD 80 under his successor, Titus. Further modifications occurred during the reign of Emperor Domitian. The name \"Flavian Amphitheatre\" reflects its association with this dynasty, as the emperors who commissioned its construction were all members of the Flavian family.', additional_kwargs={'refusal': None}, response_metadata={'token_usage': {'completion_tokens': 91, 'prompt_tokens': 1443, 'total_tokens': 1534, 'completion_tokens_details': {'accepted_prediction_tokens': 0, 'audio_tokens': 0, 'reasoning_tokens': 0, 'rejected_prediction_tokens': 0}, 'prompt_tokens_details': {'audio_tokens': 0, 'cached_tokens': 0}}, 'model_name': 'gpt-4o-mini-2024-07-18', 'system_fingerprint': 'fp_06737a9306', 'finish_reason': 'stop', 'logprobs': None}, id='run-4675231b-0a0b-4f0c-b520-42c39e7790fd-0', usage_metadata={'input_tokens': 1443, 'output_tokens': 91, 'total_tokens': 1534, 'input_token_details': {'audio': 0, 'cache_read': 0}, 'output_token_details': {'audio': 0, 'reasoning': 0}})]\n"
     ]
    }
   ],
   "source": [
    "# Import the modules for saving memory\n",
    "from langgraph.checkpoint.memory import MemorySaver\n",
    "\n",
    "# Modify the graph with memory checkpointing\n",
    "memory = MemorySaver()\n",
    "\n",
    "# Compile the graph passing in memory\n",
    "graph = graph_builder.compile(checkpointer=memory)\n",
    "\n",
    "# Set up a streaming function for a single user\n",
    "def stream_memory_responses(user_input: str):\n",
    "    config = {\"configurable\": {\"thread_id\": \"single_session_memory\"}}\n",
    "\n",
    "    # Stram the events in the graph\n",
    "    for event in graph.stream({\"messages\": [(\"user\", user_input)]}, config):\n",
    "\n",
    "        # Return the agent's last response\n",
    "        for value in event.values():\n",
    "            if \"messages\" in value and value[\"messages\"]:\n",
    "                print(\"Agent:\", value[\"messages\"])\n",
    "\n",
    "stream_memory_responses(\"What is the Colosseum?\")\n",
    "stream_memory_responses(\"who built it?\")"
   ]
  },
  {
   "cell_type": "markdown",
   "metadata": {},
   "source": [
    "### **Generating output with memory**\n",
    "\n",
    "Let's inspect the output! \n",
    "\n",
    "First, the chatbot processes the query and calls the Wikipedia tool to retrieve information on the Colosseum. \n",
    "\n",
    "Then it provides a summary, describing the Colosseum as Rome’s largest ancient amphitheater. \n",
    "\n",
    "Next, the chatbot answers, explaining it was built by Emperor Vespasian for gladiatorial events.\n",
    "\n",
    "Since we passed config parameters for a single session of memory, the chatbot answers the follow-up question with the same tool, noting completion under Titus and modifications under Domitian."
   ]
  },
  {
   "cell_type": "markdown",
   "metadata": {},
   "source": []
  }
 ],
 "metadata": {
  "kernelspec": {
   "display_name": "Python 3",
   "language": "python",
   "name": "python3"
  },
  "language_info": {
   "codemirror_mode": {
    "name": "ipython",
    "version": 3
   },
   "file_extension": ".py",
   "mimetype": "text/x-python",
   "name": "python",
   "nbconvert_exporter": "python",
   "pygments_lexer": "ipython3",
   "version": "3.12.4"
  }
 },
 "nbformat": 4,
 "nbformat_minor": 2
}
