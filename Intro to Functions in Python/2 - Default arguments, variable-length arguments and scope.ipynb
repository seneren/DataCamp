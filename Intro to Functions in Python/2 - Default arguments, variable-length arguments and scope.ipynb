{
 "cells": [
  {
   "cell_type": "markdown",
   "id": "5844240c-fb6f-4bbd-b622-e95e1941af00",
   "metadata": {},
   "source": [
    "## Scope and user-defined functions"
   ]
  },
  {
   "cell_type": "markdown",
   "id": "7dc2dcff-c3e1-4007-84ac-2bf5de425447",
   "metadata": {},
   "source": [
    "There are three types of scope that you should know. <br>\n",
    "1. Global scope<br>\n",
    "    A name that is in the global scope means that it is defined in the main body of a script or a Python program. <br>\n",
    "2. Local scope<br>\n",
    "    A name that is in a local scope means that it is defined within a function. Once the execution of a function is done, any name inside the local scope ceases to exist, which means you cannot access those names anymore outside of the function definition.<br>\n",
    "3. Built-in scope<br>\n",
    "    This consists of names in the pre-defined built-ins module Python provides, such as print and sum."
   ]
  },
  {
   "cell_type": "code",
   "execution_count": 57,
   "id": "efe98e4f-03d7-4408-b584-18b6f3c069ef",
   "metadata": {},
   "outputs": [
    {
     "name": "stdout",
     "output_type": "stream",
     "text": [
      "9\n"
     ]
    }
   ],
   "source": [
    "def square(value):\n",
    "    new_val = value ** 2\n",
    "    return new_val\n",
    "print(square(3))"
   ]
  },
  {
   "cell_type": "code",
   "execution_count": 59,
   "id": "08264424",
   "metadata": {},
   "outputs": [
    {
     "data": {
      "text/plain": [
       "100"
      ]
     },
     "execution_count": 59,
     "metadata": {},
     "output_type": "execute_result"
    }
   ],
   "source": [
    "new_val"
   ]
  },
  {
   "cell_type": "markdown",
   "id": "39bf7758",
   "metadata": {},
   "source": [
    "`new_val` is not defined outside the function. This is because it is only defined in the local scope of the function `square`.<br>\n",
    "The name `new_val` was not defined globally, so it is not available in the global scope. If you want to access the value of `new_val` outside the function you need to return it from the function."
   ]
  },
  {
   "cell_type": "code",
   "execution_count": 4,
   "id": "a4ef4573",
   "metadata": {},
   "outputs": [
    {
     "data": {
      "text/plain": [
       "9"
      ]
     },
     "execution_count": 4,
     "metadata": {},
     "output_type": "execute_result"
    }
   ],
   "source": [
    "new_val = 10 \n",
    "def square(value):\n",
    "    new_val = value ** 2\n",
    "    return new_val\n",
    "square(3)"
   ]
  },
  {
   "cell_type": "markdown",
   "id": "a75465f7",
   "metadata": {},
   "source": [
    "Any time we call the name in the local scope of the function, it will look first in the local scope. That's why calling `square(3)` results in `9` and not `10`."
   ]
  },
  {
   "cell_type": "code",
   "execution_count": 6,
   "id": "b2f713b1",
   "metadata": {},
   "outputs": [
    {
     "data": {
      "text/plain": [
       "10"
      ]
     },
     "execution_count": 6,
     "metadata": {},
     "output_type": "execute_result"
    }
   ],
   "source": [
    "new_val"
   ]
  },
  {
   "cell_type": "markdown",
   "id": "74e54225",
   "metadata": {},
   "source": [
    "The value of `new_val` is still 10, because the `new_val` inside the function is a different variable than the one outside the function."
   ]
  },
  {
   "cell_type": "code",
   "execution_count": 9,
   "id": "47431665",
   "metadata": {},
   "outputs": [
    {
     "data": {
      "text/plain": [
       "100"
      ]
     },
     "execution_count": 9,
     "metadata": {},
     "output_type": "execute_result"
    }
   ],
   "source": [
    "new_val = 10\n",
    "def square(value):\n",
    "    new_value2 = new_val ** 2\n",
    "    return new_value2\n",
    "square(3)"
   ]
  },
  {
   "cell_type": "markdown",
   "id": "871fa282",
   "metadata": {},
   "source": [
    "In this case, the function `square` can access the global variable `new_val` because it is defined outside the function. Note that the global value accessed is the value at the time the function is called, not the value when the function is defined. Thus, if we re-assign `new_val` and call the function `square`, we see that the new value of `new_val` is accessed. This is because Python will look for the name in the local scope first, and if it doesn't find it, it will look in the global scope."
   ]
  },
  {
   "cell_type": "code",
   "execution_count": 15,
   "id": "0de0ddea",
   "metadata": {},
   "outputs": [
    {
     "data": {
      "text/plain": [
       "100"
      ]
     },
     "execution_count": 15,
     "metadata": {},
     "output_type": "execute_result"
    }
   ],
   "source": [
    "new_val = 10\n",
    "def square(value):\n",
    "    global new_val\n",
    "    new_val = new_val ** 2\n",
    "    return new_val\n",
    "square(3)"
   ]
  },
  {
   "cell_type": "markdown",
   "id": "84e58758",
   "metadata": {},
   "source": [
    " In this case, the function `square` can modify the global variable `new_val` because we have declared it as global inside the function. Note that the global value modified is the value at the time the function is called, not the value when the function is defined. Thus, if we re-assign `new_val` and call the function `square`, we see that the new value of `new_val` is modified. This is because Python will look for the name in the local scope first, and if it doesn't find it, it will look in the global scope."
   ]
  },
  {
   "cell_type": "code",
   "execution_count": 16,
   "id": "8fe723a3",
   "metadata": {},
   "outputs": [
    {
     "data": {
      "text/plain": [
       "100"
      ]
     },
     "execution_count": 16,
     "metadata": {},
     "output_type": "execute_result"
    }
   ],
   "source": [
    "new_val"
   ]
  },
  {
   "cell_type": "code",
   "execution_count": 17,
   "id": "6dd09c48",
   "metadata": {},
   "outputs": [
    {
     "name": "stdout",
     "output_type": "stream",
     "text": [
      "teen titans\n",
      "justice league\n"
     ]
    }
   ],
   "source": [
    "# Create a string: team\n",
    "team = \"teen titans\"\n",
    "\n",
    "# Define change_team()\n",
    "def change_team():\n",
    "    \"\"\"Change the value of the global variable team.\"\"\"\n",
    "\n",
    "    # Use team in global scope\n",
    "    global team\n",
    "\n",
    "    # Change the value of team in global: team\n",
    "    team = \"justice league\"\n",
    "# Print team\n",
    "print(team)\n",
    "\n",
    "# Call change_team()\n",
    "change_team()\n",
    "\n",
    "# Print team\n",
    "print(team)"
   ]
  },
  {
   "cell_type": "markdown",
   "id": "ec2cc58c",
   "metadata": {},
   "source": [
    "In th this exercise, we have a global variable `team` which is a string. We then define a function `change_team` which modifies the global variable `team` to a new string. We then call the function `change_team` and print the global variable `team` to see that it has been modified."
   ]
  },
  {
   "cell_type": "markdown",
   "id": "19ac7b04",
   "metadata": {},
   "source": [
    "## Nested Functions\n",
    "\n",
    "Let's take a look at the following function"
   ]
  },
  {
   "cell_type": "code",
   "execution_count": 24,
   "id": "789efb5c",
   "metadata": {},
   "outputs": [
    {
     "name": "stdout",
     "output_type": "stream",
     "text": [
      "(6, 5, 6)\n"
     ]
    }
   ],
   "source": [
    "def mod2plus5(x1, x2, x3):\n",
    "    \"\"\"Returns the remainder plus 5 of three values.\"\"\"\n",
    "    new_x1 = x1 % 2 + 5\n",
    "    new_x2 = x2 % 2 + 5\n",
    "    new_x3 = x3 % 2 + 5\n",
    "    return (new_x1, new_x2, new_x3)\n",
    "\n",
    "print(mod2plus5(1, 2, 3))"
   ]
  },
  {
   "cell_type": "markdown",
   "id": "bc5dcb1b",
   "metadata": {},
   "source": [
    "This function is a bit tedious. We have to repeat the same operation for each input argument. We can make this more concise by using a nested function. A nested function is a function defined inside another function. Here's how we can do this:"
   ]
  },
  {
   "cell_type": "code",
   "execution_count": 20,
   "id": "b8f53537",
   "metadata": {},
   "outputs": [
    {
     "name": "stdout",
     "output_type": "stream",
     "text": [
      "(6, 5, 6)\n"
     ]
    }
   ],
   "source": [
    "def mod2plus5(x1, x2, x3):\n",
    "    \"\"\"Returns the remainder plus 5 of three values.\"\"\"\n",
    "    def inner(x):\n",
    "        \"\"\"Returns the remainder plus 5 of a value.\"\"\"\n",
    "        return x % 2 + 5\n",
    "    return (inner(x1), inner(x2), inner(x3))\n",
    "\n",
    "print(mod2plus5(1, 2, 3))"
   ]
  },
  {
   "cell_type": "markdown",
   "id": "bd0b2559",
   "metadata": {},
   "source": [
    "Now we can call the function `mod2plus5` with three arguments and it will return a tuple of three values, each of which is the remainder plus 5 of the corresponding input argument."
   ]
  },
  {
   "cell_type": "markdown",
   "id": "287681af",
   "metadata": {},
   "source": [
    "### Returning Functions"
   ]
  },
  {
   "cell_type": "code",
   "execution_count": 26,
   "id": "7b766c50",
   "metadata": {},
   "outputs": [],
   "source": [
    "def raise_val(n):\n",
    "    \"\"\"Returns the inner function.\"\"\"\n",
    "    def inner(x):\n",
    "        \"\"\"Raise x to the power of n.\"\"\"\n",
    "        raised = x ** n\n",
    "        return raised\n",
    "    return inner"
   ]
  },
  {
   "cell_type": "markdown",
   "id": "e9c3d0ec",
   "metadata": {},
   "source": [
    "Now look at what `raise_val`al` returns: it returns the inner function inner!\n",
    "\n",
    "`raise_val` takes an argument n and creates a function inner that returns the nth power of any number."
   ]
  },
  {
   "cell_type": "code",
   "execution_count": 56,
   "id": "c9c0a3d9",
   "metadata": {},
   "outputs": [
    {
     "name": "stdout",
     "output_type": "stream",
     "text": [
      "4 64\n"
     ]
    }
   ],
   "source": [
    "square = raise_val(2)\n",
    "cube = raise_val(3)\n",
    "print(square(2), cube(4))"
   ]
  },
  {
   "cell_type": "markdown",
   "id": "a03fb671",
   "metadata": {},
   "source": [
    "### nonlocal"
   ]
  },
  {
   "cell_type": "code",
   "execution_count": 29,
   "id": "259cce29",
   "metadata": {},
   "outputs": [
    {
     "name": "stdout",
     "output_type": "stream",
     "text": [
      "2\n",
      "2\n"
     ]
    }
   ],
   "source": [
    "def outer():\n",
    "    \"\"\"Prints the value of n.\"\"\"\n",
    "    n = 1\n",
    "\n",
    "    def inner():\n",
    "        nonlocal n\n",
    "        n = 2\n",
    "        print(n)\n",
    "\n",
    "    inner()\n",
    "    print(n)\n",
    "\n",
    "outer()"
   ]
  },
  {
   "cell_type": "markdown",
   "id": "0d8acf46",
   "metadata": {},
   "source": [
    " The `nonlocal` keyword is used to work with variables inside nested functions, where the variable should not belong to the inner function.\n",
    "\n",
    " Here, we have a variable n that is defined in the outer function. We then have an inner function that also defines a variable n. When we call the inner function, it prints the value of n, which is `2`. Then, when we call the outer function, it prints the value of n, which is `2` again. This is because the `nonlocal` keyword is used to work with the variable n in the outer function."
   ]
  },
  {
   "cell_type": "markdown",
   "id": "55f1c65c",
   "metadata": {},
   "source": [
    "Scope searchrching rule, known as LEGB rule:\n",
    "\n",
    "1. __Local scope__: The local scope is the innermost scope, and it is created when a function is called. It contains the local variables of the function.\n",
    "2. __Enclosing scope__: The enclosing scope is the scope of the outer function. It is created when a function is defined inside another function.\n",
    "3. __Global scope__: The global scope is the scope of the module. It is created when a module is imported.\n",
    "4. __Built-in scope__: The built-in scope is the scope of the built-in functions. It is created when Python is started."
   ]
  },
  {
   "cell_type": "markdown",
   "id": "62ea041a",
   "metadata": {},
   "source": [
    "### Exercise\n",
    "\n",
    "In this exercise, inside a function `three_shouts()`, you will define a nested function `inner()` that concatenates a string object with `!!!`. `three_shouts()` then returns a tuple of three elements, each a string concatenated with `!!!` using `inner()`."
   ]
  },
  {
   "cell_type": "code",
   "execution_count": 30,
   "id": "6d857947",
   "metadata": {},
   "outputs": [
    {
     "name": "stdout",
     "output_type": "stream",
     "text": [
      "('a!!!', 'b!!!', 'c!!!')\n"
     ]
    }
   ],
   "source": [
    "# Define three_shouts\n",
    "def three_shouts(word1, word2, word3):\n",
    "    \"\"\"Returns a tuple of strings\n",
    "    concatenated with '!!!'.\"\"\"\n",
    "\n",
    "    # Define inner\n",
    "    def inner(word):\n",
    "        \"\"\"Returns a string concatenated with '!!!'.\"\"\"\n",
    "        return word + '!!!'\n",
    "\n",
    "    # Return a tuple of strings\n",
    "    return (inner(word1), inner(word2), inner(word3))\n",
    "\n",
    "# Call three_shouts() and print\n",
    "print(three_shouts('a', 'b', 'c'))"
   ]
  },
  {
   "cell_type": "code",
   "execution_count": 31,
   "id": "b40f7d8d",
   "metadata": {},
   "outputs": [
    {
     "name": "stdout",
     "output_type": "stream",
     "text": [
      "hellohello hellohellohello\n"
     ]
    }
   ],
   "source": [
    "# Define echo\n",
    "def echo(n):\n",
    "    \"\"\"Return the inner_echo function.\"\"\"\n",
    "\n",
    "    # Define inner_echo\n",
    "    def inner_echo(word1):\n",
    "        \"\"\"Concatenate n copies of word1.\"\"\"\n",
    "        echo_word = word1 * n\n",
    "        return echo_word\n",
    "\n",
    "    # Return inner_echo\n",
    "    return inner_echo\n",
    "\n",
    "# Call echo: twice\n",
    "twice = echo(2)\n",
    "\n",
    "# Call echo: thrice\n",
    "thrice = echo(3)\n",
    "\n",
    "# Call twice() and thrice() then print\n",
    "print(twice('hello'), thrice('hello'))"
   ]
  },
  {
   "cell_type": "code",
   "execution_count": 32,
   "id": "de698d5e",
   "metadata": {},
   "outputs": [
    {
     "name": "stdout",
     "output_type": "stream",
     "text": [
      "hellohello\n",
      "hellohello!!!\n"
     ]
    }
   ],
   "source": [
    "# Define echo_shout()\n",
    "def echo_shout(word):\n",
    "    \"\"\"Change the value of a nonlocal variable\"\"\"\n",
    "    \n",
    "    # Concatenate word with itself: echo_word\n",
    "    echo_word = word * 2\n",
    "    \n",
    "    # Print echo_word\n",
    "    print(echo_word)\n",
    "    \n",
    "    # Define inner function shout()\n",
    "    def shout():\n",
    "        \"\"\"Alter a variable in the enclosing scope\"\"\"    \n",
    "        # Use echo_word in nonlocal scope\n",
    "        nonlocal echo_word\n",
    "        \n",
    "        # Change echo_word to echo_word concatenated with '!!!'\n",
    "        echo_word = echo_word + '!!!'\n",
    "    \n",
    "    # Call function shout()\n",
    "    shout()\n",
    "    \n",
    "    # Print echo_word\n",
    "    print(echo_word)\n",
    "\n",
    "# Call function echo_shout() with argument 'hello'\n",
    "echo_shout('hello')"
   ]
  },
  {
   "cell_type": "markdown",
   "id": "27146ca9",
   "metadata": {},
   "source": [
    "Above is an example of nonlocal variable.'echo_shout' is a function that has a nonlocal variable 'echo_word'. The inner function 'shout' changes the value of 'echo_word' by adding '!!!' to it. \n",
    "\n",
    "The output of the above code is:\n",
    "hellohello\n",
    "hellohello!!!\n",
    "\n",
    "First one 'hellohello' is the output of the first print statement in 'echo_shout' function. The second one 'hellohello!!!' is the output of the second print statement in 'echo_shout' function after the inner function 'shout' has changed the value of 'echo_word'. "
   ]
  },
  {
   "cell_type": "markdown",
   "id": "d5f691f9",
   "metadata": {},
   "source": [
    "## Default and flexible arguments"
   ]
  },
  {
   "cell_type": "code",
   "execution_count": 37,
   "id": "7fa3b425",
   "metadata": {},
   "outputs": [
    {
     "name": "stdout",
     "output_type": "stream",
     "text": [
      "81\n",
      "5.0\n",
      "9\n"
     ]
    }
   ],
   "source": [
    "\"\"\" Default argument \"\"\"\n",
    "\n",
    "def power(number, pow=1):\n",
    "    \"\"\"Raise number to the power of pow.\"\"\"\n",
    "    new_value = number ** pow\n",
    "    return new_value\n",
    "print(power(9, 2))\n",
    "print(power(25, 0.5))\n",
    "print(power(9))"
   ]
  },
  {
   "cell_type": "markdown",
   "id": "293949b6",
   "metadata": {},
   "source": [
    "We can call the function on `power()` with two arguments or one argument. If we call the function with one argument, it will use the default value of `pow` which is `1`. If we call the function with th two arguments, it will use the value of `pow` that we pass to it."
   ]
  },
  {
   "cell_type": "markdown",
   "id": "021b3a1e",
   "metadata": {},
   "source": [
    "### Flexible arguments: *args and **kwargs\n",
    "\n",
    "### *args\n",
    "\n",
    "Lets say that we want to write a function but we are not sure how many arguments it will have. We can use `*args` to make the function accept any number of arguments. For example, a function that takes floats or ints and adds them all up, irrespective of how many there are. This is where fkexible arguments come in handy."
   ]
  },
  {
   "cell_type": "code",
   "execution_count": 41,
   "id": "0be3757c",
   "metadata": {},
   "outputs": [
    {
     "data": {
      "text/plain": [
       "1"
      ]
     },
     "execution_count": 41,
     "metadata": {},
     "output_type": "execute_result"
    }
   ],
   "source": [
    "def add_all(*args):\n",
    "    \"\"\"Sum all values in *args together.\"\"\"\n",
    "\n",
    "    # Initialize sum\n",
    "    sum_all = 0\n",
    "\n",
    "    # Accumulate the sum\n",
    "    for num in args:\n",
    "        sum_all += num\n",
    "\n",
    "    return sum_all\n",
    "\n",
    "add_all(1)\n"
   ]
  },
  {
   "cell_type": "code",
   "execution_count": 42,
   "id": "7c8d5430",
   "metadata": {},
   "outputs": [
    {
     "data": {
      "text/plain": [
       "3"
      ]
     },
     "execution_count": 42,
     "metadata": {},
     "output_type": "execute_result"
    }
   ],
   "source": [
    "add_all(1,2)"
   ]
  },
  {
   "cell_type": "code",
   "execution_count": 43,
   "id": "937e66aa",
   "metadata": {},
   "outputs": [
    {
     "data": {
      "text/plain": [
       "50"
      ]
     },
     "execution_count": 43,
     "metadata": {},
     "output_type": "execute_result"
    }
   ],
   "source": [
    "add_all(5,10,15,20)"
   ]
  },
  {
   "cell_type": "markdown",
   "id": "a40dae43",
   "metadata": {},
   "source": [
    "### **kwargs"
   ]
  },
  {
   "cell_type": "markdown",
   "id": "c9a29787",
   "metadata": {},
   "source": [
    "We can also use a double star to pass an arbitrary number of keyword arguments, also called kwargs, that is, argument preceeded by identifiers. We write such a function called `print_all` that prints out the identifiers and parameters passed to them:"
   ]
  },
  {
   "cell_type": "markdown",
   "id": "655e322a",
   "metadata": {},
   "source": [
    "To write such a funtion, we use the parameter kwargs preceded by a double star. This turns the identifier-keyword pairs into a dictionary within the function body.\n",
    "\n",
    "Then, in the function body all we need to do is to print all the key-value pairs stored in the dictionary.\n",
    "\n",
    "__Note__:  It is NOT the names args and kwargs that are important when using flexible arguments, but rather the single star and double star symbols."
   ]
  },
  {
   "cell_type": "code",
   "execution_count": 49,
   "id": "e46ada47",
   "metadata": {},
   "outputs": [
    {
     "name": "stdout",
     "output_type": "stream",
     "text": [
      "name: Eren\n",
      "city: Manisa\n"
     ]
    }
   ],
   "source": [
    "def print_all(**kwargs):\n",
    "    \"\"\"Print out key-value pairs in **kwargs.\"\"\"\n",
    "\n",
    "    # Print out the key-value pairs\n",
    "    for key, value in kwargs.items():\n",
    "        print(key + \": \" + value)\n",
    "\n",
    "print_all(name=\"Eren\", city=\"Manisa\")"
   ]
  },
  {
   "cell_type": "code",
   "execution_count": 50,
   "id": "c04478d5",
   "metadata": {},
   "outputs": [
    {
     "name": "stdout",
     "output_type": "stream",
     "text": [
      "Hey!!!\n",
      "HeyHeyHeyHeyHey!!!\n"
     ]
    }
   ],
   "source": [
    "# Define shout_echo\n",
    "def shout_echo(word1, echo=1):\n",
    "    \"\"\"Concatenate echo copies of word1 and three\n",
    "     exclamation marks at the end of the string.\"\"\"\n",
    "\n",
    "    # Concatenate echo copies of word1 using *: echo_word\n",
    "    echo_word = word1 * echo\n",
    "\n",
    "    # Concatenate '!!!' to echo_word: shout_word\n",
    "    shout_word = echo_word + '!!!'\n",
    "\n",
    "    # Return shout_word\n",
    "    return shout_word\n",
    "\n",
    "# Call shout_echo() with \"Hey\": no_echo\n",
    "no_echo = shout_echo('Hey')\n",
    "\n",
    "# Call shout_echo() with \"Hey\" and echo=5: with_echo\n",
    "with_echo = shout_echo('Hey', echo=5)\n",
    "\n",
    "# Print no_echo and with_echo\n",
    "print(no_echo)\n",
    "print(with_echo)"
   ]
  },
  {
   "cell_type": "markdown",
   "id": "c74ac70b",
   "metadata": {},
   "source": [
    "The above is an example that uses default argument. When `echo` is not specified, it is set to `1` by default. If `echo` is specified, it is set to the specified value. For example, `shout_echo('Hey', echo=5)` will return `HeyHeyHeyHeyHey!!!` and `shout_echo('Hey')` will return `Hey!!!`."
   ]
  },
  {
   "cell_type": "code",
   "execution_count": 52,
   "id": "faa6afa7",
   "metadata": {},
   "outputs": [
    {
     "name": "stdout",
     "output_type": "stream",
     "text": [
      "luke\n",
      "lukeleiahanobidarth\n"
     ]
    }
   ],
   "source": [
    "\"\"\" An example for *args \"\"\"\n",
    "\n",
    "# Define gibberish\n",
    "def gibberish(*args):\n",
    "    \"\"\"Concatenate strings in *args together.\"\"\"\n",
    "\n",
    "    # Initialize an empty string: hodgepodge\n",
    "    hodgepodge = ''\n",
    "\n",
    "    # Concatenate the strings in args\n",
    "    for word in args:\n",
    "        hodgepodge += word\n",
    "\n",
    "    # Return hodgepodge\n",
    "    return hodgepodge\n",
    "\n",
    "# Call gibberish() with one string: one_word\n",
    "one_word = gibberish('luke')\n",
    "\n",
    "# Call gibberish() with five strings: many_words\n",
    "many_words = gibberish(\"luke\", \"leia\", \"han\", \"obi\", \"darth\")\n",
    "\n",
    "# Print one_word and many_words\n",
    "print(one_word)\n",
    "print(many_words)"
   ]
  },
  {
   "cell_type": "code",
   "execution_count": 54,
   "id": "7f5dfd5c",
   "metadata": {},
   "outputs": [
    {
     "name": "stdout",
     "output_type": "stream",
     "text": [
      "\n",
      "BEGIN: REPORT\n",
      "\n",
      "name: luke\n",
      "affiliation: jedi\n",
      "status: missing\n",
      "\n",
      "END REPORT\n",
      "\n",
      "BEGIN: REPORT\n",
      "\n",
      "name: anakin\n",
      "affiliation: sith lord\n",
      "status: deceased\n",
      "\n",
      "END REPORT\n"
     ]
    }
   ],
   "source": [
    "\"\"\" An example for **kwargs \"\"\"\n",
    "\n",
    "# Define report_status\n",
    "def report_status(**kwargs):\n",
    "    \"\"\"Print out the status of a movie character.\"\"\"\n",
    "\n",
    "    print(\"\\nBEGIN: REPORT\\n\")\n",
    "\n",
    "    # Iterate over the key-value pairs of kwargs\n",
    "    for key, value in kwargs.items():\n",
    "        # Print out the keys and values, separated by a colon ':'\n",
    "        print(key + \": \" + value)\n",
    "\n",
    "    print(\"\\nEND REPORT\")\n",
    "\n",
    "# First call to report_status()\n",
    "report_status(name='luke', affiliation='jedi', status='missing')\n",
    "\n",
    "# Second call to report_status()\n",
    "report_status(name='anakin', affiliation='sith lord', status='deceased')"
   ]
  },
  {
   "cell_type": "markdown",
   "id": "501e58e5",
   "metadata": {},
   "source": [
    "## Bring it all together"
   ]
  },
  {
   "cell_type": "markdown",
   "id": "96e51eb2",
   "metadata": {},
   "source": [
    "Recall the Bringing it all together exercise in the previous chapter where you did a simple Twitter analysis by developing a function that counts how many tweets are in certain languages. The output of your function was a dictionary that had the language as the keys and the counts of tweets in that language as the value.\n",
    "\n",
    "In this exercise, we will generalize the Twitter language analysis that you did in the previous chapter. You will do that by including a __default argument__ that takes a column name.\n",
    "\n",
    "- __Instructions__\n",
    "  *  Complete the function header by supplying the parameter for a DataFrame `df` and the parameter col_name with a default value of `'lang'` for the DataFrame column name.\n",
    "  * Call `count_entries()` by passing the `tweets_df` DataFrame and the column name `'lang'`. Assign the result to `result1`. Note that since `'lang'` is the default value of the col_name parameter, you don't have to specify it here.\n",
    "  * Call `count_entries()` by passing the `tweets_df` DataFrame and the column name `'source'`. Assign the result to `result2`."
   ]
  },
  {
   "cell_type": "code",
   "execution_count": 1,
   "id": "dfc0ac89",
   "metadata": {},
   "outputs": [
    {
     "name": "stdout",
     "output_type": "stream",
     "text": [
      "{'en': 97, 'et': 1, 'und': 2}\n",
      "{'<a href=\"http://twitter.com\" rel=\"nofollow\">Twitter Web Client</a>': 24, '<a href=\"http://www.facebook.com/twitter\" rel=\"nofollow\">Facebook</a>': 1, '<a href=\"http://twitter.com/download/android\" rel=\"nofollow\">Twitter for Android</a>': 26, '<a href=\"http://twitter.com/download/iphone\" rel=\"nofollow\">Twitter for iPhone</a>': 33, '<a href=\"http://www.twitter.com\" rel=\"nofollow\">Twitter for BlackBerry</a>': 2, '<a href=\"http://www.google.com/\" rel=\"nofollow\">Google</a>': 2, '<a href=\"http://twitter.com/#!/download/ipad\" rel=\"nofollow\">Twitter for iPad</a>': 6, '<a href=\"http://linkis.com\" rel=\"nofollow\">Linkis.com</a>': 2, '<a href=\"http://rutracker.org/forum/viewforum.php?f=93\" rel=\"nofollow\">newzlasz</a>': 2, '<a href=\"http://ifttt.com\" rel=\"nofollow\">IFTTT</a>': 1, '<a href=\"http://www.myplume.com/\" rel=\"nofollow\">Plume\\xa0for\\xa0Android</a>': 1}\n"
     ]
    }
   ],
   "source": [
    "import pandas as pd\n",
    "# Import tweets.csv\n",
    "tweets_df = pd.read_csv('../Databases/tweets.csv')\n",
    "\n",
    "# Define count_entries()\n",
    "def count_entries(df, col_name):\n",
    "    \"\"\"Return a dictionary with counts of\n",
    "    occurrences as value for each key.\"\"\"\n",
    "\n",
    "    # Initialize an empty dictionary: cols_count\n",
    "    cols_count = {}\n",
    "\n",
    "    # Extract column from DataFrame: col\n",
    "    col = df[col_name]\n",
    "    \n",
    "    # Iterate over the column in DataFrame\n",
    "    for entry in col:\n",
    "\n",
    "        # If entry is in cols_count, add 1\n",
    "        if entry in cols_count.keys():\n",
    "            cols_count[entry] += 1\n",
    "\n",
    "        # Else add the entry to cols_count, set the value to 1\n",
    "        else:\n",
    "            cols_count[entry] = 1\n",
    "\n",
    "    # Return the cols_count dictionary\n",
    "    return cols_count\n",
    "\n",
    "# Call count_entries(): result1\n",
    "result1 = count_entries(tweets_df, 'lang')\n",
    "\n",
    "# Call count_entries(): result2\n",
    "result2 = count_entries(tweets_df, 'source')\n",
    "\n",
    "# Print result1 and result2\n",
    "print(result1)\n",
    "print(result2)"
   ]
  },
  {
   "cell_type": "markdown",
   "id": "754ba4f3",
   "metadata": {},
   "source": [
    "We're now going to generalize this function one step further by allowing the user to pass it a flexible argument, that is, in this case, as many column names as the user would like!\n",
    "\n",
    "* __Instructions__\n",
    "  * Complete the function header by supplying the parameter for the DataFrame `df` and the flexible argument `*args`.\n",
    "  * Complete the for loop within the function definition so that the loop occurs over the tuple `args`.\n",
    "  * Call `count_entries()` by passing the `tweets_df` DataFrame and the column name `'lang'`. Assign the result to `result1`.\n",
    "  * Call `count_entries()` by passing the `tweets_df` DataFrame and the column names `'lang'` and `'source'`. Assign the result to `result2`."
   ]
  },
  {
   "cell_type": "code",
   "execution_count": null,
   "id": "66ebfb96",
   "metadata": {},
   "outputs": [],
   "source": [
    "# Define count_entries()\n",
    "def count_entries(df, *args):\n",
    "    \"\"\"Return a dictionary with counts of\n",
    "    occurrences as value for each key.\"\"\"\n",
    "    \n",
    "    #Initialize an empty dictionary: cols_count\n",
    "    cols_count = {}\n",
    "    \n",
    "    # Iterate over column names in args\n",
    "    for col_name in args:\n",
    "    \n",
    "        # Extract column from DataFrame: col\n",
    "        col = df[col_name]\n",
    "    \n",
    "        # Iterate over the column in DataFrame\n",
    "        for entry in col:\n",
    "    \n",
    "            # If entry is in cols_count, add 1\n",
    "            if entry in cols_count.keys():\n",
    "                cols_count[entry] += 1\n",
    "    \n",
    "            # Else add the entry to cols_count, set the value to 1\n",
    "            else:\n",
    "                cols_count[entry] = 1\n",
    "\n",
    "    # Return the cols_count dictionary\n",
    "    return cols_count\n",
    "\n",
    "# Call count_entries(): result1\n",
    "result1 = count_entries(tweets_df, 'lang')\n",
    "\n",
    "# Call count_entries(): result2\n",
    "result2 = count_entries(tweets_df, 'lang', 'source')\n",
    "\n",
    "# Print result1 and result2\n",
    "print(result1)\n",
    "print(result2)"
   ]
  }
 ],
 "metadata": {
  "kernelspec": {
   "display_name": "Python 3",
   "language": "python",
   "name": "python3"
  },
  "language_info": {
   "codemirror_mode": {
    "name": "ipython",
    "version": 3
   },
   "file_extension": ".py",
   "mimetype": "text/x-python",
   "name": "python",
   "nbconvert_exporter": "python",
   "pygments_lexer": "ipython3",
   "version": "3.12.4"
  }
 },
 "nbformat": 4,
 "nbformat_minor": 5
}
