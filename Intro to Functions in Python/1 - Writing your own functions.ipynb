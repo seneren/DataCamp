{
 "cells": [
  {
   "cell_type": "markdown",
   "id": "03a44e64-46aa-49e1-9427-bc76e2e56998",
   "metadata": {},
   "source": [
    "## Defining a Function"
   ]
  },
  {
   "cell_type": "code",
   "execution_count": 4,
   "id": "21442f38-a11f-4aa0-98e5-6897ed41f427",
   "metadata": {},
   "outputs": [
    {
     "name": "stdout",
     "output_type": "stream",
     "text": [
      "16\n"
     ]
    }
   ],
   "source": [
    "def square():   # Function header\n",
    "    new_value = 4 ** 2   # Function body\n",
    "    print(new_value)\n",
    "square()"
   ]
  },
  {
   "cell_type": "markdown",
   "id": "13c0da8e-42ca-4293-ac86-9a8d249a4f67",
   "metadata": {},
   "source": [
    "## Function parameters\n",
    "\n",
    "Instead of defining a function for one number/item, we can do it for general terms:"
   ]
  },
  {
   "cell_type": "code",
   "execution_count": 9,
   "id": "0678602a-e7d8-4d85-bbd9-40ca5655fe12",
   "metadata": {},
   "outputs": [
    {
     "name": "stdout",
     "output_type": "stream",
     "text": [
      "16\n"
     ]
    }
   ],
   "source": [
    "def square(value):\n",
    "    new_value = value ** 2\n",
    "    print(new_value)\n",
    "\n",
    "square(4)"
   ]
  },
  {
   "cell_type": "markdown",
   "id": "16aad011-dc69-4724-b66a-1aaacaa20bf4",
   "metadata": {},
   "source": [
    "When we define a function, we write parameters in the function header.<br>\n",
    "When we call a funcction, we pass arguments into the function."
   ]
  },
  {
   "cell_type": "markdown",
   "id": "2cac5673-364f-4339-9333-9a8967d0949f",
   "metadata": {},
   "source": [
    "## Return values from functions\n",
    "\n",
    "When we dont want to print the value directly and instead we want to return squared value and assign it to some variable, We can have our function return the new value by adding the __return__ keyword, followed by the value to return. Then we can assign to a variable __num_ the result of the function call:"
   ]
  },
  {
   "cell_type": "code",
   "execution_count": 11,
   "id": "4ae956de-f1ac-4bff-9182-fee6b5337191",
   "metadata": {},
   "outputs": [
    {
     "name": "stdout",
     "output_type": "stream",
     "text": [
      "16\n"
     ]
    }
   ],
   "source": [
    "def square(value):\n",
    "    new_value = value ** 2\n",
    "    return new_value\n",
    "\n",
    "num = square(4)\n",
    "print(num)"
   ]
  },
  {
   "cell_type": "markdown",
   "id": "a5c2c19a-56fd-490d-bc64-fba660289f41",
   "metadata": {},
   "source": [
    "## Docstrings\n",
    "\n",
    "Docstrings are used to describe what your function does, such as the computations it performs or its return values. Serve as documentation for our function. Place in the immediate line after the function header. In between triple double quotes _\"\"\"_"
   ]
  },
  {
   "cell_type": "code",
   "execution_count": 12,
   "id": "ee932f19-b07d-4ac9-91f7-f585b820c24e",
   "metadata": {},
   "outputs": [],
   "source": [
    "def square(value):\n",
    "    \"\"\"Returns the square of a value.\"\"\"\n",
    "    new_value = value ** 2\n",
    "    return new_value"
   ]
  },
  {
   "cell_type": "markdown",
   "id": "2d7a6b55-59a7-447e-86a0-0b59a1c0eebb",
   "metadata": {},
   "source": [
    "### Exercise\n",
    "\n",
    "Define the function shout which prints out a string with three exclamation marks <br>\n",
    "Complete the function header by adding the appropriate function name, `shout`.<br>\n",
    "In the function body, concatenate the string, `'congratulations'` with another string, `'!!!'`. Assign the result to `shout_word`.<br>\n",
    "Print the value of shout_word.<br>\n",
    "Call the `shout` function.<br>"
   ]
  },
  {
   "cell_type": "code",
   "execution_count": 13,
   "id": "74132de5-57f8-4d66-9c01-64d97fa1574f",
   "metadata": {},
   "outputs": [
    {
     "name": "stdout",
     "output_type": "stream",
     "text": [
      "congratulations!!!\n"
     ]
    }
   ],
   "source": [
    "\n",
    "def shout():\n",
    "    \"\"\"Print a string with three exclamation marks\"\"\"\n",
    "    # Concatenate the strings: shout_word\n",
    "    shout_word = \"congratulations\" + \"!!!\"\n",
    "\n",
    "    # Print shout_word\n",
    "    print(shout_word)\n",
    "\n",
    "# Call shout\n",
    "shout()"
   ]
  },
  {
   "cell_type": "markdown",
   "id": "df664116-e86b-47e3-a08e-42d989426e05",
   "metadata": {},
   "source": [
    "### Exercise cont'd\n",
    "\n",
    "We will now update `shout()` by adding a parameter so that it can accept and process any string argument passed to it. Also note that `shout(word)`, the part of the header that specifies the function name and parameter(s), is known as the signature of the function.\n",
    "\n",
    "Complete the function header by adding the parameter name, `word`. <br>\n",
    "Assign the result of concatenating word with `'!!!'` to `shout_word`.<br>\n",
    "Print the value of `shout_word`.<br>\n",
    "Call the `shout()` function, passing to it the string, `'congratulations'`.<br>"
   ]
  },
  {
   "cell_type": "code",
   "execution_count": 14,
   "id": "00f7a796-0311-412a-82df-1dffcd865ffc",
   "metadata": {},
   "outputs": [
    {
     "name": "stdout",
     "output_type": "stream",
     "text": [
      "congratulations!!!\n"
     ]
    }
   ],
   "source": [
    "# Define shout with the parameter, word\n",
    "def shout(word):\n",
    "    \"\"\"Print a string with three exclamation marks\"\"\"\n",
    "    # Concatenate the strings: shout_word\n",
    "    shout_word = word + '!!!'\n",
    "\n",
    "    # Print shout_word\n",
    "    print(shout_word)\n",
    "\n",
    "# Call shout with the string 'congratulations'\n",
    "shout('congratulations')"
   ]
  },
  {
   "cell_type": "markdown",
   "id": "4f192f9c-67c1-40bc-a54d-df7cc55647f0",
   "metadata": {},
   "source": [
    "### Exercise cont'd\n",
    "\n",
    "Returning values is generally more desirable than printing them out because, as you saw earlier, a `print()` call assigned to a variable has type `NoneType`.\n",
    "\n",
    "In the function body, concatenate the string in word with `'!!!'` and assign to `shout_word`. <br>\n",
    "Replace the `print()` statement with the appropriate `return` statement. <br>\n",
    "Call the `shout()` function, passing to it the string, `'congratulations'`, and assigning the call to the variable, `yell`. <br>\n",
    "To check if `yell` contains the value returned by `shout()`, print the value of `yell`. <br>"
   ]
  },
  {
   "cell_type": "code",
   "execution_count": 15,
   "id": "10422428-6ae7-4793-ac86-42ec78eeb883",
   "metadata": {},
   "outputs": [
    {
     "name": "stdout",
     "output_type": "stream",
     "text": [
      "congratulations!!!\n"
     ]
    }
   ],
   "source": [
    "# Define shout with the parameter, word\n",
    "def shout(word):\n",
    "    \"\"\"Return a string with three exclamation marks\"\"\"\n",
    "    # Concatenate the strings: shout_word\n",
    "    shout_word = word + \"!!!\"\n",
    "\n",
    "    # Replace print with return\n",
    "    return(shout_word)\n",
    "\n",
    "# Pass 'congratulations' to shout: yell\n",
    "yell = shout('congratulations')\n",
    "\n",
    "# Print yell\n",
    "print(yell)"
   ]
  },
  {
   "cell_type": "markdown",
   "id": "b4b2f6c8-75c0-4f86-b685-86c807b209ee",
   "metadata": {},
   "source": [
    "## Multiple parameters and return values\n",
    "\n",
    "Suppose that, instead of simply squaring a value, we'd like to raise a value to the power of another value that's also passed to the function. We can do this by having our function accept two parameters instead of just one. You should also change your function name __AND__ docstrings to reflect this new behavior.\n",
    "\n",
    "\n",
    "Call funtction: # of arguments = # of parameters"
   ]
  },
  {
   "cell_type": "code",
   "execution_count": 19,
   "id": "5ff4b76f-bab8-4735-9819-0c8e9a1abd6d",
   "metadata": {},
   "outputs": [
    {
     "name": "stdout",
     "output_type": "stream",
     "text": [
      "8\n"
     ]
    }
   ],
   "source": [
    "def raise_to_power(value1, value2):\n",
    "    \"\"\"Raise value1 to the power of value2\"\"\"\n",
    "    new_value = value1 ** value2\n",
    "    return new_value\n",
    "result = raise_to_power(2,3)\n",
    "\n",
    "print(result)"
   ]
  },
  {
   "cell_type": "code",
   "execution_count": 24,
   "id": "94a1ac2d-09d9-4d1d-b043-831b5164571e",
   "metadata": {},
   "outputs": [
    {
     "name": "stdout",
     "output_type": "stream",
     "text": [
      "2\n",
      "4\n",
      "4\n",
      "4\n"
     ]
    }
   ],
   "source": [
    "even_nums = (2,4,6)\n",
    "\n",
    "a,b,c = even_nums\n",
    "print(a)\n",
    "print(b)\n",
    "\n",
    "# another accessing way in tuple\n",
    "\n",
    "print(even_nums[1])\n",
    "\n",
    "#or\n",
    "\n",
    "second_num = even_nums[1]\n",
    "print(second_num)"
   ]
  },
  {
   "cell_type": "code",
   "execution_count": 27,
   "id": "8986888b-c71d-4383-b1a4-2530afef5a51",
   "metadata": {},
   "outputs": [
    {
     "name": "stdout",
     "output_type": "stream",
     "text": [
      "(8, 9)\n"
     ]
    }
   ],
   "source": [
    "def raise_both(value1,value2):\n",
    "    \"\"\"Raise value1 to the power of value2, and vice versa\"\"\"\n",
    "\n",
    "    new_value1 = value1 ** value2\n",
    "    new_value2 = value2 ** value1\n",
    "\n",
    "    new_tuple = (new_value1, new_value2)\n",
    "\n",
    "    return new_tuple\n",
    "\n",
    "result = raise_both(2,3)\n",
    "print(result)"
   ]
  },
  {
   "cell_type": "markdown",
   "id": "12418da0-570e-4d45-a145-513962d1cea4",
   "metadata": {},
   "source": [
    "### Exercise cont'd"
   ]
  },
  {
   "cell_type": "code",
   "execution_count": 28,
   "id": "19df223c-16c3-4c52-846d-1b9ac235039d",
   "metadata": {},
   "outputs": [
    {
     "name": "stdout",
     "output_type": "stream",
     "text": [
      "congratulations!!!you!!!\n"
     ]
    }
   ],
   "source": [
    "# Define shout with parameters word1 and word2\n",
    "def shout(word1, word2):\n",
    "    \"\"\"Concatenate strings with three exclamation marks\"\"\"\n",
    "    # Concatenate word1 with '!!!': shout1\n",
    "    shout1 = word1 + '!!!'\n",
    "    \n",
    "    # Concatenate word2 with '!!!': shout2\n",
    "    shout2 = word2 + '!!!'\n",
    "    \n",
    "    # Concatenate shout1 with shout2: new_shout\n",
    "    new_shout = shout1 + shout2\n",
    "\n",
    "    # Return new_shout\n",
    "    return new_shout\n",
    "\n",
    "# Pass 'congratulations' and 'you' to shout(): yell\n",
    "yell = shout('congratulations', 'you')\n",
    "\n",
    "# Print yell\n",
    "print(yell)"
   ]
  },
  {
   "cell_type": "code",
   "execution_count": 29,
   "id": "5e1b01be-6251-4d7b-9199-320f0ce97bc5",
   "metadata": {},
   "outputs": [
    {
     "name": "stdout",
     "output_type": "stream",
     "text": [
      "congratulations!!!\n",
      "you!!!\n"
     ]
    }
   ],
   "source": [
    "# Define shout_all with parameters word1 and word2\n",
    "def shout_all(word1, word2):\n",
    "    \n",
    "    # Concatenate word1 with '!!!': shout1\n",
    "    shout1 = word1 +'!!!'\n",
    "    \n",
    "    # Concatenate word2 with '!!!': shout2\n",
    "    shout2 = word2 +'!!!'\n",
    "    \n",
    "    # Construct a tuple with shout1 and shout2: shout_words\n",
    "    shout_words = (shout1, shout2)\n",
    "\n",
    "    # Return shout_words\n",
    "    return shout_words\n",
    "\n",
    "# Pass 'congratulations' and 'you' to shout_all(): yell1, yell2\n",
    "yell1, yell2 = shout_all('congratulations','you')\n",
    "\n",
    "# Print yell1 and yell2\n",
    "print(yell1)\n",
    "print(yell2)"
   ]
  },
  {
   "cell_type": "markdown",
   "id": "b89f8041-f7a6-4bbd-95f4-98ee1f42b646",
   "metadata": {},
   "source": [
    "## Bring it all together\n",
    "\n",
    "The dataset contains Twitter data and you will iterate over entries in a column to build a dictionary in which the keys are the names of languages and the values are the number of tweets in the given language. The file `tweets.csv` is available in your current directory.\n",
    "\n",
    "Import the pandas package with the alias pd. <br>\n",
    "Import the file `'tweets.csv'` using the pandas function `read_csv()`. Assign the resulting DataFrame to `df`.<br>\n",
    "Complete the `for` loop by iterating over `col`, the `'lang'` column in the DataFrame `df`.<br>\n",
    "Complete the bodies of the `if-else` statements in the for loop: if the key is in the dictionary langs_count, add 1 to the value corresponding to this key in the dictionary, else add the key to langs_count and set the corresponding value to 1. Use the loop variable entry in your code."
   ]
  },
  {
   "cell_type": "code",
   "execution_count": 1,
   "id": "3333660f-619c-4473-84a7-6161fec05418",
   "metadata": {},
   "outputs": [
    {
     "name": "stdout",
     "output_type": "stream",
     "text": [
      "{'en': 97, 'et': 1, 'und': 2}\n"
     ]
    }
   ],
   "source": [
    "import pandas as pd\n",
    "\n",
    "# Import pandas\n",
    "import pandas as pd\n",
    "\n",
    "# Import Twitter data as DataFrame: df\n",
    "df = pd.read_csv('../Databases/tweets.csv')\n",
    "\n",
    "# Initialize an empty dictionary: langs_count\n",
    "langs_count = {}\n",
    "\n",
    "# Extract column from DataFrame: col\n",
    "col = df['lang']\n",
    "\n",
    "# Iterate over lang column in DataFrame\n",
    "for entry in col:\n",
    "\n",
    "    # If the language is in langs_count, add 1 \n",
    "    if entry in langs_count.keys():\n",
    "        langs_count[entry] +=1\n",
    "    # Else add the language to langs_count, set the value to 1\n",
    "    else:\n",
    "        langs_count[entry] = 1\n",
    "\n",
    "# Print the populated dictionary\n",
    "print(langs_count)"
   ]
  },
  {
   "cell_type": "markdown",
   "id": "40cbd584-df03-443d-bda9-513a4227a175",
   "metadata": {},
   "source": [
    "In this exercise, we will define a function with the functionality you developed in the previous exercise, return the resulting dictionary from within the function, and call the function with the appropriate arguments."
   ]
  },
  {
   "cell_type": "code",
   "execution_count": 2,
   "id": "9d81d186-e5f2-4b57-b198-36374de9fc09",
   "metadata": {},
   "outputs": [
    {
     "name": "stdout",
     "output_type": "stream",
     "text": [
      "{'en': 97, 'et': 1, 'und': 2}\n"
     ]
    }
   ],
   "source": [
    "# Run the above cell, so that you don't have to import pandas again.\n",
    "\n",
    "tweets_df = pd.read_csv('../Databases/tweets.csv')\n",
    "\n",
    "# Define count_entries()\n",
    "def count_entries(df, col_name):\n",
    "    \"\"\"Return a dictionary with counts of \n",
    "    occurrences as value for each key.\"\"\"\n",
    "\n",
    "    # Initialize an empty dictionary: langs_count\n",
    "    langs_count = {}\n",
    "    \n",
    "    # Extract column from DataFrame: col\n",
    "    col = df[col_name]\n",
    "    \n",
    "    # Iterate over lang column in DataFrame\n",
    "    for entry in col:\n",
    "\n",
    "        # If the language is in langs_count, add 1\n",
    "        if entry in langs_count.keys():\n",
    "            langs_count[entry] +=1\n",
    "        # Else add the language to langs_count, set the value to 1\n",
    "        else:\n",
    "            langs_count[entry] = 1\n",
    "\n",
    "    # Return the langs_count dictionary\n",
    "    return langs_count\n",
    "\n",
    "# Call count_entries(): result\n",
    "result = count_entries(tweets_df, 'lang')\n",
    "\n",
    "# Print the result\n",
    "print(result)"
   ]
  }
 ],
 "metadata": {
  "kernelspec": {
   "display_name": "Python 3",
   "language": "python",
   "name": "python3"
  },
  "language_info": {
   "codemirror_mode": {
    "name": "ipython",
    "version": 3
   },
   "file_extension": ".py",
   "mimetype": "text/x-python",
   "name": "python",
   "nbconvert_exporter": "python",
   "pygments_lexer": "ipython3",
   "version": "3.12.4"
  }
 },
 "nbformat": 4,
 "nbformat_minor": 5
}
