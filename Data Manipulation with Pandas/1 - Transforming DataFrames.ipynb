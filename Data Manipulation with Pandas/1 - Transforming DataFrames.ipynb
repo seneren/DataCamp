{
 "cells": [
  {
   "cell_type": "markdown",
   "id": "96125ef3-63e0-47af-b80f-1a762cfdf40e",
   "metadata": {},
   "source": [
    "# Transforming DataFrames"
   ]
  },
  {
   "cell_type": "markdown",
   "id": "e801fcd9-7df0-41c2-8f94-6cefd3c82fae",
   "metadata": {},
   "source": [
    "Let's say we have a DataFrame named df. \n",
    "\n",
    "When we first receive a dataset, we want to quickly explore it and get a sense of its content: \n",
    "1. ```print(df.head())``` is a way of getting info, which displays first 5 rows of the data.\n",
    "2. ```print(df.info())``` displays the names of the columns, the data types they contain, and whether they have ant missing _values_.\n",
    "3. ```print(df.shape)``` contains a tuple that shows the number of rows and number of columns, (nr of rows, nr of columns)\n",
    "\n",
    "    Since .shape is an _attribute_, not a _method_, we write it without parantheses.\n",
    "4. ```print(df.describe())``` method computes some summary _statistics_ for _numerical columns_, such as _mean_, _standard deviaton_, _min_, _max_, and _count_. ___count___ is the number of non-missing values in each column.\n",
    "5. DataFrames consists of three different components, accesible using attribues.\n",
    "    + `print(df.values)` prints out an array of columns (think of df as a dictionary where column labels are keys, and inputs are values), and the datatype. So, the _values_ attribute contains the data values in a 2-dim'l NumPy array.\n",
    "    + The other two are `print(df.columns)` and `print(df.index)`, labels for columns and rows. These are contains column names, and row numbers (or row names), respectively."
   ]
  },
  {
   "cell_type": "code",
   "execution_count": null,
   "id": "f41d51ae-b62d-4abc-9d27-0026556d41e2",
   "metadata": {},
   "outputs": [
    {
     "name": "stdout",
     "output_type": "stream",
     "text": [
      "   Unnamed: 0              region       state  individuals  family_members  \\\n",
      "0           0  East South Central     Alabama       2570.0           864.0   \n",
      "1           1             Pacific      Alaska       1434.0           582.0   \n",
      "2           2            Mountain     Arizona       7259.0          2606.0   \n",
      "3           3  West South Central    Arkansas       2280.0           432.0   \n",
      "4           4             Pacific  California     109008.0         20964.0   \n",
      "\n",
      "   state_pop  \n",
      "0    4887681  \n",
      "1     735139  \n",
      "2    7158024  \n",
      "3    3009733  \n",
      "4   39461588  \n"
     ]
    }
   ],
   "source": [
    "# We first import pandas, then read homelessness dataset and perform the above marks.\n",
    "import pandas as pd\n",
    "\n",
    "#pd.set_option('display.expand_frame_repr', False)   # Make the display wider.\n",
    "\n",
    "homelessness = pd.read_csv('./datasets/homelessness.csv')\n",
    "print(homelessness.head())\n"
   ]
  },
  {
   "cell_type": "code",
   "execution_count": 12,
   "id": "ecdd4078-965f-46d6-9bc4-a5c52b31ff24",
   "metadata": {},
   "outputs": [
    {
     "name": "stdout",
     "output_type": "stream",
     "text": [
      "<class 'pandas.core.frame.DataFrame'>\n",
      "RangeIndex: 51 entries, 0 to 50\n",
      "Data columns (total 6 columns):\n",
      " #   Column          Non-Null Count  Dtype  \n",
      "---  ------          --------------  -----  \n",
      " 0   Unnamed: 0      51 non-null     int64  \n",
      " 1   region          51 non-null     object \n",
      " 2   state           51 non-null     object \n",
      " 3   individuals     51 non-null     float64\n",
      " 4   family_members  51 non-null     float64\n",
      " 5   state_pop       51 non-null     int64  \n",
      "dtypes: float64(2), int64(2), object(2)\n",
      "memory usage: 2.5+ KB\n",
      "None\n"
     ]
    }
   ],
   "source": [
    "print(homelessness.info())"
   ]
  },
  {
   "cell_type": "code",
   "execution_count": 13,
   "id": "f5bddcbb-e640-4a41-871d-300951abe8f0",
   "metadata": {},
   "outputs": [
    {
     "name": "stdout",
     "output_type": "stream",
     "text": [
      "(51, 6)\n"
     ]
    }
   ],
   "source": [
    "print(homelessness.shape)"
   ]
  },
  {
   "cell_type": "code",
   "execution_count": 14,
   "id": "c9abe7c8-38fb-4ba6-973c-44a4d8c3ea71",
   "metadata": {},
   "outputs": [
    {
     "name": "stdout",
     "output_type": "stream",
     "text": [
      "       Unnamed: 0    individuals  family_members     state_pop\n",
      "count   51.000000      51.000000       51.000000  5.100000e+01\n",
      "mean    25.000000    7225.784314     3504.882353  6.405637e+06\n",
      "std     14.866069   15991.025083     7805.411811  7.327258e+06\n",
      "min      0.000000     434.000000       75.000000  5.776010e+05\n",
      "25%     12.500000    1446.500000      592.000000  1.777414e+06\n",
      "50%     25.000000    3082.000000     1482.000000  4.461153e+06\n",
      "75%     37.500000    6781.500000     3196.000000  7.340946e+06\n",
      "max     50.000000  109008.000000    52070.000000  3.946159e+07\n"
     ]
    }
   ],
   "source": [
    "print(homelessness.describe())"
   ]
  },
  {
   "cell_type": "code",
   "execution_count": 15,
   "id": "b031c7bb-f19b-46dc-a372-91b23f9dcccf",
   "metadata": {},
   "outputs": [
    {
     "name": "stdout",
     "output_type": "stream",
     "text": [
      "[[0 'East South Central' 'Alabama' 2570.0 864.0 4887681]\n",
      " [1 'Pacific' 'Alaska' 1434.0 582.0 735139]\n",
      " [2 'Mountain' 'Arizona' 7259.0 2606.0 7158024]\n",
      " [3 'West South Central' 'Arkansas' 2280.0 432.0 3009733]\n",
      " [4 'Pacific' 'California' 109008.0 20964.0 39461588]\n",
      " [5 'Mountain' 'Colorado' 7607.0 3250.0 5691287]\n",
      " [6 'New England' 'Connecticut' 2280.0 1696.0 3571520]\n",
      " [7 'South Atlantic' 'Delaware' 708.0 374.0 965479]\n",
      " [8 'South Atlantic' 'District of Columbia' 3770.0 3134.0 701547]\n",
      " [9 'South Atlantic' 'Florida' 21443.0 9587.0 21244317]\n",
      " [10 'South Atlantic' 'Georgia' 6943.0 2556.0 10511131]\n",
      " [11 'Pacific' 'Hawaii' 4131.0 2399.0 1420593]\n",
      " [12 'Mountain' 'Idaho' 1297.0 715.0 1750536]\n",
      " [13 'East North Central' 'Illinois' 6752.0 3891.0 12723071]\n",
      " [14 'East North Central' 'Indiana' 3776.0 1482.0 6695497]\n",
      " [15 'West North Central' 'Iowa' 1711.0 1038.0 3148618]\n",
      " [16 'West North Central' 'Kansas' 1443.0 773.0 2911359]\n",
      " [17 'East South Central' 'Kentucky' 2735.0 953.0 4461153]\n",
      " [18 'West South Central' 'Louisiana' 2540.0 519.0 4659690]\n",
      " [19 'New England' 'Maine' 1450.0 1066.0 1339057]\n",
      " [20 'South Atlantic' 'Maryland' 4914.0 2230.0 6035802]\n",
      " [21 'New England' 'Massachusetts' 6811.0 13257.0 6882635]\n",
      " [22 'East North Central' 'Michigan' 5209.0 3142.0 9984072]\n",
      " [23 'West North Central' 'Minnesota' 3993.0 3250.0 5606249]\n",
      " [24 'East South Central' 'Mississippi' 1024.0 328.0 2981020]\n",
      " [25 'West North Central' 'Missouri' 3776.0 2107.0 6121623]\n",
      " [26 'Mountain' 'Montana' 983.0 422.0 1060665]\n",
      " [27 'West North Central' 'Nebraska' 1745.0 676.0 1925614]\n",
      " [28 'Mountain' 'Nevada' 7058.0 486.0 3027341]\n",
      " [29 'New England' 'New Hampshire' 835.0 615.0 1353465]\n",
      " [30 'Mid-Atlantic' 'New Jersey' 6048.0 3350.0 8886025]\n",
      " [31 'Mountain' 'New Mexico' 1949.0 602.0 2092741]\n",
      " [32 'Mid-Atlantic' 'New York' 39827.0 52070.0 19530351]\n",
      " [33 'South Atlantic' 'North Carolina' 6451.0 2817.0 10381615]\n",
      " [34 'West North Central' 'North Dakota' 467.0 75.0 758080]\n",
      " [35 'East North Central' 'Ohio' 6929.0 3320.0 11676341]\n",
      " [36 'West South Central' 'Oklahoma' 2823.0 1048.0 3940235]\n",
      " [37 'Pacific' 'Oregon' 11139.0 3337.0 4181886]\n",
      " [38 'Mid-Atlantic' 'Pennsylvania' 8163.0 5349.0 12800922]\n",
      " [39 'New England' 'Rhode Island' 747.0 354.0 1058287]\n",
      " [40 'South Atlantic' 'South Carolina' 3082.0 851.0 5084156]\n",
      " [41 'West North Central' 'South Dakota' 836.0 323.0 878698]\n",
      " [42 'East South Central' 'Tennessee' 6139.0 1744.0 6771631]\n",
      " [43 'West South Central' 'Texas' 19199.0 6111.0 28628666]\n",
      " [44 'Mountain' 'Utah' 1904.0 972.0 3153550]\n",
      " [45 'New England' 'Vermont' 780.0 511.0 624358]\n",
      " [46 'South Atlantic' 'Virginia' 3928.0 2047.0 8501286]\n",
      " [47 'Pacific' 'Washington' 16424.0 5880.0 7523869]\n",
      " [48 'South Atlantic' 'West Virginia' 1021.0 222.0 1804291]\n",
      " [49 'East North Central' 'Wisconsin' 2740.0 2167.0 5807406]\n",
      " [50 'Mountain' 'Wyoming' 434.0 205.0 577601]] \n",
      "\n",
      "Index(['Unnamed: 0', 'region', 'state', 'individuals', 'family_members',\n",
      "       'state_pop'],\n",
      "      dtype='object') \n",
      "\n",
      "RangeIndex(start=0, stop=51, step=1)\n"
     ]
    }
   ],
   "source": [
    "print(str(homelessness.values), '\\n')\n",
    "print(str(homelessness.columns), '\\n')\n",
    "print(homelessness.index)"
   ]
  },
  {
   "cell_type": "markdown",
   "id": "f56ae7e8-5080-4243-a171-b60c40199695",
   "metadata": {},
   "source": [
    "### Sorting and Subsetting\n",
    "\n",
    "We will use dogs dataset.\n"
   ]
  },
  {
   "cell_type": "code",
   "execution_count": 12,
   "id": "c19219d0-5e7d-4ab3-93e7-74f279e09a73",
   "metadata": {},
   "outputs": [
    {
     "name": "stdout",
     "output_type": "stream",
     "text": [
      "      name        breed  color  height_cm  weight_kg date_of_birth\n",
      "0    Bella     Labrador  Brown         56         24    2013-07-11\n",
      "1  Charlie       Poodle  Black         43         24    2016-09-16\n",
      "2     Lucy    Chow Chow  Brown         46         24    2014-08-25\n",
      "3   Cooper    Schnauzer   Gray         49         17    2011-12-11\n",
      "4      Max     Labrador  Black         59         29    2017-01-20\n",
      "5   Stella    Chihuahua    Tan         18          2    2015-04-20\n",
      "6   Bernie  St. Bernard  White         77         74    2018-02-27\n"
     ]
    }
   ],
   "source": [
    "dogs = pd.read_csv('./datasets/dogs.csv')\n",
    "print(dogs)"
   ]
  },
  {
   "cell_type": "markdown",
   "id": "2a6e12a1-49a0-4398-b092-673d24c5db30",
   "metadata": {},
   "source": [
    "- `df.sort_values('column_name')` changes the order of the row by sorting, passing in a _column_name_ that we want to sort by. Defaultly, ascending order. \n",
    "- `df.sort_values('column_name', ascending=False)` will sort the data the other way around.\n",
    "- `df.sort_values(['column_name_1', column name 2])` will sort first by _column_name_1_, and then by _column_name_2_. This works if there are more than one entry with the same value in the column_name_1.\n",
    "- `df.sort_values(['column_name_1', column name 2], ascending=[True,False])` will sort _column_name_1_ in ascending order, _column_name_2_ in descending order.\n",
    "- `df['column_name']` displays the column _column_name_.\n",
    "- To select multiple columns: `df[['column_name_1', column_name_2]]`. Pay attention to two pairs of square brackets.\n",
    "  - __the outer square bracket is for subsetting__ the DataFrame,\n",
    "  - __the inner square bracket is for creating a list of column names__ to subset.\n",
    "  - We can create a separate list of column names as a variable and use that list to perform  same subsetting\n",
    "        `cols_to_subset = ['column_name_1', column_name_2]`\n",
    "        <br>\n",
    "        `df[cols_to_subset]`\n",
    "- `df['column_name'] > 50` creates a subset of boolean datatype where relevant row is __True__ if it is grater than 50, __False__ if it it less than 50, within the column _column_name_."
   ]
  },
  {
   "cell_type": "code",
   "execution_count": 28,
   "id": "5dc31f19-17b3-40b7-a5cc-894df6492556",
   "metadata": {},
   "outputs": [
    {
     "data": {
      "text/plain": [
       "0     True\n",
       "1    False\n",
       "2    False\n",
       "3    False\n",
       "4     True\n",
       "5    False\n",
       "6     True\n",
       "Name: height_cm, dtype: bool"
      ]
     },
     "execution_count": 28,
     "metadata": {},
     "output_type": "execute_result"
    }
   ],
   "source": [
    "dogs['height_cm'] > 50"
   ]
  },
  {
   "cell_type": "markdown",
   "id": "9a4e38cd-74bf-4d14-bb66-05d3ab1f59f6",
   "metadata": {},
   "source": [
    "- We can also write `df[df['column_name'] > 50]`. This creates a subset of all of the rows and columns, where _column_name > 50_."
   ]
  },
  {
   "cell_type": "code",
   "execution_count": 29,
   "id": "2ceae0b3-9030-4e66-b2d7-c7096e541b5e",
   "metadata": {},
   "outputs": [
    {
     "data": {
      "text/html": [
       "<div>\n",
       "<style scoped>\n",
       "    .dataframe tbody tr th:only-of-type {\n",
       "        vertical-align: middle;\n",
       "    }\n",
       "\n",
       "    .dataframe tbody tr th {\n",
       "        vertical-align: top;\n",
       "    }\n",
       "\n",
       "    .dataframe thead th {\n",
       "        text-align: right;\n",
       "    }\n",
       "</style>\n",
       "<table border=\"1\" class=\"dataframe\">\n",
       "  <thead>\n",
       "    <tr style=\"text-align: right;\">\n",
       "      <th></th>\n",
       "      <th>name</th>\n",
       "      <th>breed</th>\n",
       "      <th>color</th>\n",
       "      <th>height_cm</th>\n",
       "      <th>weight_kg</th>\n",
       "      <th>date_of_birth</th>\n",
       "    </tr>\n",
       "  </thead>\n",
       "  <tbody>\n",
       "    <tr>\n",
       "      <th>0</th>\n",
       "      <td>Bella</td>\n",
       "      <td>Labrador</td>\n",
       "      <td>Brown</td>\n",
       "      <td>56</td>\n",
       "      <td>24</td>\n",
       "      <td>2013-07-11</td>\n",
       "    </tr>\n",
       "    <tr>\n",
       "      <th>4</th>\n",
       "      <td>Max</td>\n",
       "      <td>Labrador</td>\n",
       "      <td>Black</td>\n",
       "      <td>59</td>\n",
       "      <td>29</td>\n",
       "      <td>2017-01-20</td>\n",
       "    </tr>\n",
       "    <tr>\n",
       "      <th>6</th>\n",
       "      <td>Bernie</td>\n",
       "      <td>St. Bernard</td>\n",
       "      <td>White</td>\n",
       "      <td>77</td>\n",
       "      <td>74</td>\n",
       "      <td>2018-02-27</td>\n",
       "    </tr>\n",
       "  </tbody>\n",
       "</table>\n",
       "</div>"
      ],
      "text/plain": [
       "     name        breed  color  height_cm  weight_kg date_of_birth\n",
       "0   Bella     Labrador  Brown         56         24    2013-07-11\n",
       "4     Max     Labrador  Black         59         29    2017-01-20\n",
       "6  Bernie  St. Bernard  White         77         74    2018-02-27"
      ]
     },
     "execution_count": 29,
     "metadata": {},
     "output_type": "execute_result"
    }
   ],
   "source": [
    "dogs[dogs['height_cm'] > 50]"
   ]
  },
  {
   "cell_type": "markdown",
   "id": "c63c2bca-eaca-42d8-8b88-91fc79458769",
   "metadata": {},
   "source": [
    "Notice that all the __True__ rows in the table one above, are now displayed in full detals in the above sub-DataFrame with the corresponding index.\n",
    "\n",
    "- We can use the text data as well: `df[df['column_name_2'] == 'text']`. This creates a sub-DataFrame where the inputs in _column_name_ are equal to _'text'_. Say, in _column_name_2_, index 0 and index 4 are _'text'_. Then we get something like. So, in df, we filter the 'text' that are in the class column_name_2."
   ]
  },
  {
   "cell_type": "code",
   "execution_count": 30,
   "id": "cd1059f2-7010-4b56-aced-3d2860e9cecf",
   "metadata": {},
   "outputs": [
    {
     "data": {
      "text/html": [
       "<div>\n",
       "<style scoped>\n",
       "    .dataframe tbody tr th:only-of-type {\n",
       "        vertical-align: middle;\n",
       "    }\n",
       "\n",
       "    .dataframe tbody tr th {\n",
       "        vertical-align: top;\n",
       "    }\n",
       "\n",
       "    .dataframe thead th {\n",
       "        text-align: right;\n",
       "    }\n",
       "</style>\n",
       "<table border=\"1\" class=\"dataframe\">\n",
       "  <thead>\n",
       "    <tr style=\"text-align: right;\">\n",
       "      <th></th>\n",
       "      <th>name</th>\n",
       "      <th>breed</th>\n",
       "      <th>color</th>\n",
       "      <th>height_cm</th>\n",
       "      <th>weight_kg</th>\n",
       "      <th>date_of_birth</th>\n",
       "    </tr>\n",
       "  </thead>\n",
       "  <tbody>\n",
       "    <tr>\n",
       "      <th>0</th>\n",
       "      <td>Bella</td>\n",
       "      <td>Labrador</td>\n",
       "      <td>Brown</td>\n",
       "      <td>56</td>\n",
       "      <td>24</td>\n",
       "      <td>2013-07-11</td>\n",
       "    </tr>\n",
       "    <tr>\n",
       "      <th>4</th>\n",
       "      <td>Max</td>\n",
       "      <td>Labrador</td>\n",
       "      <td>Black</td>\n",
       "      <td>59</td>\n",
       "      <td>29</td>\n",
       "      <td>2017-01-20</td>\n",
       "    </tr>\n",
       "  </tbody>\n",
       "</table>\n",
       "</div>"
      ],
      "text/plain": [
       "    name     breed  color  height_cm  weight_kg date_of_birth\n",
       "0  Bella  Labrador  Brown         56         24    2013-07-11\n",
       "4    Max  Labrador  Black         59         29    2017-01-20"
      ]
     },
     "execution_count": 30,
     "metadata": {},
     "output_type": "execute_result"
    }
   ],
   "source": [
    "dogs[dogs['breed'] == 'Labrador']"
   ]
  },
  {
   "cell_type": "markdown",
   "id": "170cb87f-17b3-49e0-aa19-e09af85cc523",
   "metadata": {},
   "source": [
    "- We can also filter the DataFrame within the selected date. Date is YYYY_MM_DD, so it would be\n",
    "  `df[df['column_name_5'] == 'YYYY-MM-DD']`\n",
    "  Notice the date is written in quotes."
   ]
  },
  {
   "cell_type": "code",
   "execution_count": 31,
   "id": "325e789a-73c4-4eb7-afeb-19d1ad5ee5b3",
   "metadata": {},
   "outputs": [
    {
     "data": {
      "text/html": [
       "<div>\n",
       "<style scoped>\n",
       "    .dataframe tbody tr th:only-of-type {\n",
       "        vertical-align: middle;\n",
       "    }\n",
       "\n",
       "    .dataframe tbody tr th {\n",
       "        vertical-align: top;\n",
       "    }\n",
       "\n",
       "    .dataframe thead th {\n",
       "        text-align: right;\n",
       "    }\n",
       "</style>\n",
       "<table border=\"1\" class=\"dataframe\">\n",
       "  <thead>\n",
       "    <tr style=\"text-align: right;\">\n",
       "      <th></th>\n",
       "      <th>name</th>\n",
       "      <th>breed</th>\n",
       "      <th>color</th>\n",
       "      <th>height_cm</th>\n",
       "      <th>weight_kg</th>\n",
       "      <th>date_of_birth</th>\n",
       "    </tr>\n",
       "  </thead>\n",
       "  <tbody>\n",
       "    <tr>\n",
       "      <th>1</th>\n",
       "      <td>Charlie</td>\n",
       "      <td>Poodle</td>\n",
       "      <td>Black</td>\n",
       "      <td>43</td>\n",
       "      <td>24</td>\n",
       "      <td>2016-09-16</td>\n",
       "    </tr>\n",
       "    <tr>\n",
       "      <th>2</th>\n",
       "      <td>Lucy</td>\n",
       "      <td>Chow Chow</td>\n",
       "      <td>Brown</td>\n",
       "      <td>46</td>\n",
       "      <td>24</td>\n",
       "      <td>2014-08-25</td>\n",
       "    </tr>\n",
       "    <tr>\n",
       "      <th>4</th>\n",
       "      <td>Max</td>\n",
       "      <td>Labrador</td>\n",
       "      <td>Black</td>\n",
       "      <td>59</td>\n",
       "      <td>29</td>\n",
       "      <td>2017-01-20</td>\n",
       "    </tr>\n",
       "    <tr>\n",
       "      <th>5</th>\n",
       "      <td>Stella</td>\n",
       "      <td>Chihuahua</td>\n",
       "      <td>Tan</td>\n",
       "      <td>18</td>\n",
       "      <td>2</td>\n",
       "      <td>2015-04-20</td>\n",
       "    </tr>\n",
       "    <tr>\n",
       "      <th>6</th>\n",
       "      <td>Bernie</td>\n",
       "      <td>St. Bernard</td>\n",
       "      <td>White</td>\n",
       "      <td>77</td>\n",
       "      <td>74</td>\n",
       "      <td>2018-02-27</td>\n",
       "    </tr>\n",
       "  </tbody>\n",
       "</table>\n",
       "</div>"
      ],
      "text/plain": [
       "      name        breed  color  height_cm  weight_kg date_of_birth\n",
       "1  Charlie       Poodle  Black         43         24    2016-09-16\n",
       "2     Lucy    Chow Chow  Brown         46         24    2014-08-25\n",
       "4      Max     Labrador  Black         59         29    2017-01-20\n",
       "5   Stella    Chihuahua    Tan         18          2    2015-04-20\n",
       "6   Bernie  St. Bernard  White         77         74    2018-02-27"
      ]
     },
     "execution_count": 31,
     "metadata": {},
     "output_type": "execute_result"
    }
   ],
   "source": [
    "dogs[dogs['date_of_birth'] > '2014-01-01']"
   ]
  },
  {
   "cell_type": "markdown",
   "id": "dd17a1dd-b473-4bc2-b467-419af545f0e6",
   "metadata": {},
   "source": [
    "- We can also combine conditions to subset the rows: <br>\n",
    "        `is_one = df['column_name_1'] == 'D'`\n",
    "        <br>\n",
    "        `is_four = df['column_name_4'] == 'M'`\n",
    "        <br>\n",
    "        `df[is_one & is_four]`  <br>\n",
    "        \n",
    "    This means that we filter the DataFrame with 'D' in column_name_1 and 'M' in column_name_4.\n",
    "\n"
   ]
  },
  {
   "cell_type": "code",
   "execution_count": 32,
   "id": "2dad1448-bbc5-4bb2-9f4f-fbad6ffa81a3",
   "metadata": {},
   "outputs": [
    {
     "data": {
      "text/html": [
       "<div>\n",
       "<style scoped>\n",
       "    .dataframe tbody tr th:only-of-type {\n",
       "        vertical-align: middle;\n",
       "    }\n",
       "\n",
       "    .dataframe tbody tr th {\n",
       "        vertical-align: top;\n",
       "    }\n",
       "\n",
       "    .dataframe thead th {\n",
       "        text-align: right;\n",
       "    }\n",
       "</style>\n",
       "<table border=\"1\" class=\"dataframe\">\n",
       "  <thead>\n",
       "    <tr style=\"text-align: right;\">\n",
       "      <th></th>\n",
       "      <th>name</th>\n",
       "      <th>breed</th>\n",
       "      <th>color</th>\n",
       "      <th>height_cm</th>\n",
       "      <th>weight_kg</th>\n",
       "      <th>date_of_birth</th>\n",
       "    </tr>\n",
       "  </thead>\n",
       "  <tbody>\n",
       "    <tr>\n",
       "      <th>0</th>\n",
       "      <td>Bella</td>\n",
       "      <td>Labrador</td>\n",
       "      <td>Brown</td>\n",
       "      <td>56</td>\n",
       "      <td>24</td>\n",
       "      <td>2013-07-11</td>\n",
       "    </tr>\n",
       "  </tbody>\n",
       "</table>\n",
       "</div>"
      ],
      "text/plain": [
       "    name     breed  color  height_cm  weight_kg date_of_birth\n",
       "0  Bella  Labrador  Brown         56         24    2013-07-11"
      ]
     },
     "execution_count": 32,
     "metadata": {},
     "output_type": "execute_result"
    }
   ],
   "source": [
    "is_lab = dogs['breed'] == 'Labrador'\n",
    "is_brown = dogs['color'] == 'Brown'\n",
    "dogs[is_lab & is_brown]"
   ]
  },
  {
   "cell_type": "markdown",
   "id": "0467730d-e2b1-4cdf-8410-7f3f3117ac9d",
   "metadata": {},
   "source": [
    "  We can also do this in one line of code: <br>\n",
    "  `df[(df['column_name_1'] == 'D') & (df['column_name_4'] == 'M')]`\n",
    "  But we add parantheses around each condition."
   ]
  },
  {
   "cell_type": "code",
   "execution_count": 33,
   "id": "946b533e-ecdb-42f7-9304-c3af9f6b639d",
   "metadata": {},
   "outputs": [
    {
     "data": {
      "text/html": [
       "<div>\n",
       "<style scoped>\n",
       "    .dataframe tbody tr th:only-of-type {\n",
       "        vertical-align: middle;\n",
       "    }\n",
       "\n",
       "    .dataframe tbody tr th {\n",
       "        vertical-align: top;\n",
       "    }\n",
       "\n",
       "    .dataframe thead th {\n",
       "        text-align: right;\n",
       "    }\n",
       "</style>\n",
       "<table border=\"1\" class=\"dataframe\">\n",
       "  <thead>\n",
       "    <tr style=\"text-align: right;\">\n",
       "      <th></th>\n",
       "      <th>name</th>\n",
       "      <th>breed</th>\n",
       "      <th>color</th>\n",
       "      <th>height_cm</th>\n",
       "      <th>weight_kg</th>\n",
       "      <th>date_of_birth</th>\n",
       "    </tr>\n",
       "  </thead>\n",
       "  <tbody>\n",
       "    <tr>\n",
       "      <th>0</th>\n",
       "      <td>Bella</td>\n",
       "      <td>Labrador</td>\n",
       "      <td>Brown</td>\n",
       "      <td>56</td>\n",
       "      <td>24</td>\n",
       "      <td>2013-07-11</td>\n",
       "    </tr>\n",
       "  </tbody>\n",
       "</table>\n",
       "</div>"
      ],
      "text/plain": [
       "    name     breed  color  height_cm  weight_kg date_of_birth\n",
       "0  Bella  Labrador  Brown         56         24    2013-07-11"
      ]
     },
     "execution_count": 33,
     "metadata": {},
     "output_type": "execute_result"
    }
   ],
   "source": [
    "dogs[(dogs['breed'] == 'Labrador') & (dogs['color'] == 'Brown')]"
   ]
  },
  {
   "cell_type": "markdown",
   "id": "24084e16-dfd5-4746-a2be-706a48a05f3d",
   "metadata": {},
   "source": [
    "- If we want to filter on multiple values of a categorical variable, the easiest way is to use the isin method.  This takes in a list of values to filter for. <br>\n",
    "  `is_K_or_M = df['column_name_4'].isin(['K', 'M'])`\n",
    "\n",
    "Here, we check the column_name_4 is 'K' or 'M'."
   ]
  },
  {
   "cell_type": "code",
   "execution_count": 36,
   "id": "ccf4dc42-f458-4676-8a5a-79c9f3d3bcc5",
   "metadata": {},
   "outputs": [
    {
     "data": {
      "text/html": [
       "<div>\n",
       "<style scoped>\n",
       "    .dataframe tbody tr th:only-of-type {\n",
       "        vertical-align: middle;\n",
       "    }\n",
       "\n",
       "    .dataframe tbody tr th {\n",
       "        vertical-align: top;\n",
       "    }\n",
       "\n",
       "    .dataframe thead th {\n",
       "        text-align: right;\n",
       "    }\n",
       "</style>\n",
       "<table border=\"1\" class=\"dataframe\">\n",
       "  <thead>\n",
       "    <tr style=\"text-align: right;\">\n",
       "      <th></th>\n",
       "      <th>name</th>\n",
       "      <th>breed</th>\n",
       "      <th>color</th>\n",
       "      <th>height_cm</th>\n",
       "      <th>weight_kg</th>\n",
       "      <th>date_of_birth</th>\n",
       "    </tr>\n",
       "  </thead>\n",
       "  <tbody>\n",
       "    <tr>\n",
       "      <th>0</th>\n",
       "      <td>Bella</td>\n",
       "      <td>Labrador</td>\n",
       "      <td>Brown</td>\n",
       "      <td>56</td>\n",
       "      <td>24</td>\n",
       "      <td>2013-07-11</td>\n",
       "    </tr>\n",
       "    <tr>\n",
       "      <th>1</th>\n",
       "      <td>Charlie</td>\n",
       "      <td>Poodle</td>\n",
       "      <td>Black</td>\n",
       "      <td>43</td>\n",
       "      <td>24</td>\n",
       "      <td>2016-09-16</td>\n",
       "    </tr>\n",
       "    <tr>\n",
       "      <th>2</th>\n",
       "      <td>Lucy</td>\n",
       "      <td>Chow Chow</td>\n",
       "      <td>Brown</td>\n",
       "      <td>46</td>\n",
       "      <td>24</td>\n",
       "      <td>2014-08-25</td>\n",
       "    </tr>\n",
       "    <tr>\n",
       "      <th>4</th>\n",
       "      <td>Max</td>\n",
       "      <td>Labrador</td>\n",
       "      <td>Black</td>\n",
       "      <td>59</td>\n",
       "      <td>29</td>\n",
       "      <td>2017-01-20</td>\n",
       "    </tr>\n",
       "  </tbody>\n",
       "</table>\n",
       "</div>"
      ],
      "text/plain": [
       "      name      breed  color  height_cm  weight_kg date_of_birth\n",
       "0    Bella   Labrador  Brown         56         24    2013-07-11\n",
       "1  Charlie     Poodle  Black         43         24    2016-09-16\n",
       "2     Lucy  Chow Chow  Brown         46         24    2014-08-25\n",
       "4      Max   Labrador  Black         59         29    2017-01-20"
      ]
     },
     "execution_count": 36,
     "metadata": {},
     "output_type": "execute_result"
    }
   ],
   "source": [
    "is_black_or_brown = dogs['color'].isin(['Black','Brown'])\n",
    "dogs[is_black_or_brown]"
   ]
  },
  {
   "cell_type": "markdown",
   "id": "eb671c8f-60d6-4782-87d0-f33889cac40c",
   "metadata": {},
   "source": [
    "## Let's go back to our dataset Homelessness."
   ]
  },
  {
   "cell_type": "code",
   "execution_count": 20,
   "id": "d761c590-2ef0-4128-a7f6-0fcb06098d09",
   "metadata": {},
   "outputs": [
    {
     "name": "stdout",
     "output_type": "stream",
     "text": [
      "    Unnamed: 0              region      state  individuals  family_members  state_pop\n",
      "13          13  East North Central   Illinois       6752.0          3891.0   12723071\n",
      "35          35  East North Central       Ohio       6929.0          3320.0   11676341\n",
      "22          22  East North Central   Michigan       5209.0          3142.0    9984072\n",
      "49          49  East North Central  Wisconsin       2740.0          2167.0    5807406\n",
      "14          14  East North Central    Indiana       3776.0          1482.0    6695497\n"
     ]
    }
   ],
   "source": [
    "# Sort homelessness by region, then descending family members\n",
    "homelessness_reg_fam = homelessness.sort_values(['region','family_members'], ascending=[True,False])\n",
    "\n",
    "# Print the top few rows\n",
    "print(homelessness_reg_fam.head())"
   ]
  },
  {
   "cell_type": "code",
   "execution_count": 23,
   "id": "b6ad8175-1035-40fb-97a8-4666871708ea",
   "metadata": {},
   "outputs": [
    {
     "name": "stdout",
     "output_type": "stream",
     "text": [
      "   individuals       state\n",
      "0       2570.0     Alabama\n",
      "1       1434.0      Alaska\n",
      "2       7259.0     Arizona\n",
      "3       2280.0    Arkansas\n",
      "4     109008.0  California\n"
     ]
    }
   ],
   "source": [
    "# Select only the individuals and state columns, in that order\n",
    "ind_state = homelessness[['individuals','state']]\n",
    "\n",
    "print(ind_state.head())"
   ]
  },
  {
   "cell_type": "code",
   "execution_count": 24,
   "id": "1cb865d0-96f5-4e79-a17d-09a4a992d85a",
   "metadata": {},
   "outputs": [
    {
     "name": "stdout",
     "output_type": "stream",
     "text": [
      "    Unnamed: 0              region       state  individuals  family_members  state_pop\n",
      "4            4             Pacific  California     109008.0         20964.0   39461588\n",
      "9            9      South Atlantic     Florida      21443.0          9587.0   21244317\n",
      "32          32        Mid-Atlantic    New York      39827.0         52070.0   19530351\n",
      "37          37             Pacific      Oregon      11139.0          3337.0    4181886\n",
      "43          43  West South Central       Texas      19199.0          6111.0   28628666\n",
      "47          47             Pacific  Washington      16424.0          5880.0    7523869\n"
     ]
    }
   ],
   "source": [
    "# Filter for rows where individuals is greater than 10000\n",
    "ind_gt_10k = homelessness[homelessness['individuals'] > 10000]\n",
    "\n",
    "# See the result\n",
    "print(ind_gt_10k)"
   ]
  },
  {
   "cell_type": "code",
   "execution_count": 25,
   "id": "dda10f42-f536-4ef3-9dda-e4045558a5ae",
   "metadata": {},
   "outputs": [
    {
     "name": "stdout",
     "output_type": "stream",
     "text": [
      "    Unnamed: 0    region       state  individuals  family_members  state_pop\n",
      "2            2  Mountain     Arizona       7259.0          2606.0    7158024\n",
      "5            5  Mountain    Colorado       7607.0          3250.0    5691287\n",
      "12          12  Mountain       Idaho       1297.0           715.0    1750536\n",
      "26          26  Mountain     Montana        983.0           422.0    1060665\n",
      "28          28  Mountain      Nevada       7058.0           486.0    3027341\n",
      "31          31  Mountain  New Mexico       1949.0           602.0    2092741\n",
      "44          44  Mountain        Utah       1904.0           972.0    3153550\n",
      "50          50  Mountain     Wyoming        434.0           205.0     577601\n"
     ]
    }
   ],
   "source": [
    "# Filter for rows where region is Mountain\n",
    "mountain_reg = homelessness[homelessness['region'] == 'Mountain']\n",
    "\n",
    "# See the result\n",
    "print(mountain_reg)"
   ]
  },
  {
   "cell_type": "code",
   "execution_count": 26,
   "id": "a78a02ad-67fb-40ba-aa82-02ed3b1d4ca0",
   "metadata": {},
   "outputs": [
    {
     "name": "stdout",
     "output_type": "stream",
     "text": [
      "   Unnamed: 0   region   state  individuals  family_members  state_pop\n",
      "1           1  Pacific  Alaska       1434.0           582.0     735139\n"
     ]
    }
   ],
   "source": [
    "# Filter for rows where family_members is less than 1000 \n",
    "# and region is Pacific\n",
    "fam_lt_1k_pac = homelessness[(homelessness['family_members'] < 1000) & (homelessness['region'] == 'Pacific')]\n",
    "\n",
    "# See the result\n",
    "print(fam_lt_1k_pac)"
   ]
  },
  {
   "cell_type": "code",
   "execution_count": 27,
   "id": "e152492d-bb7a-459f-bdc4-4a7eaa3513c3",
   "metadata": {},
   "outputs": [
    {
     "name": "stdout",
     "output_type": "stream",
     "text": [
      "    Unnamed: 0    region       state  individuals  family_members  state_pop\n",
      "2            2  Mountain     Arizona       7259.0          2606.0    7158024\n",
      "4            4   Pacific  California     109008.0         20964.0   39461588\n",
      "28          28  Mountain      Nevada       7058.0           486.0    3027341\n",
      "44          44  Mountain        Utah       1904.0           972.0    3153550\n"
     ]
    }
   ],
   "source": [
    "# The Mojave Desert states\n",
    "canu = [\"California\", \"Arizona\", \"Nevada\", \"Utah\"]\n",
    "\n",
    "# Filter for rows in the Mojave Desert states\n",
    "mojave_homelessness = homelessness[homelessness[\"state\"].isin(canu)]\n",
    "\n",
    "# See the result\n",
    "print(mojave_homelessness)"
   ]
  },
  {
   "cell_type": "markdown",
   "id": "f3a60cf0-719a-4a09-b8d4-2c8263adb3fb",
   "metadata": {},
   "source": [
    "## New columns \n",
    "\n",
    "This includes mutating a DataFrame, transforming a DataFrame, and _feature engineering_.\n",
    "\n",
    "`df['new_column'] = df['column_name_3'] / 100` <br>\n",
    "`print(df)`\n",
    "\n",
    "This creates a new column after the last column of the DataFrame, with the rows are the rows of column_name_3 divided by 100."
   ]
  },
  {
   "cell_type": "code",
   "execution_count": 41,
   "id": "adb9054b-cd45-4aa7-b47c-0a90604d9eb4",
   "metadata": {},
   "outputs": [
    {
     "name": "stdout",
     "output_type": "stream",
     "text": [
      "      name        breed  color  height_cm  weight_kg date_of_birth  height_m\n",
      "0    Bella     Labrador  Brown         56         24    2013-07-11      0.56\n",
      "1  Charlie       Poodle  Black         43         24    2016-09-16      0.43\n",
      "2     Lucy    Chow Chow  Brown         46         24    2014-08-25      0.46\n",
      "3   Cooper    Schnauzer   Gray         49         17    2011-12-11      0.49\n",
      "4      Max     Labrador  Black         59         29    2017-01-20      0.59\n",
      "5   Stella    Chihuahua    Tan         18          2    2015-04-20      0.18\n",
      "6   Bernie  St. Bernard  White         77         74    2018-02-27      0.77\n"
     ]
    }
   ],
   "source": [
    "dogs['height_m'] = dogs['height_cm'] / 100\n",
    "print(dogs)"
   ]
  },
  {
   "cell_type": "markdown",
   "id": "45b1189a-ff24-4d78-9e84-5496d3183867",
   "metadata": {},
   "source": [
    "Let us calculate BMI for dogs, $$BMI = \\frac{\\text{weight in kg}}{(\\text{height in m})^2}$$ "
   ]
  },
  {
   "cell_type": "code",
   "execution_count": 43,
   "id": "df1ef460-5993-476e-b55b-b7cfbe5cb8fe",
   "metadata": {},
   "outputs": [
    {
     "name": "stdout",
     "output_type": "stream",
     "text": [
      "      name        breed  color  height_cm  weight_kg date_of_birth  height_m         bmi\n",
      "0    Bella     Labrador  Brown         56         24    2013-07-11      0.56   76.530612\n",
      "1  Charlie       Poodle  Black         43         24    2016-09-16      0.43  129.799892\n",
      "2     Lucy    Chow Chow  Brown         46         24    2014-08-25      0.46  113.421550\n",
      "3   Cooper    Schnauzer   Gray         49         17    2011-12-11      0.49   70.803832\n",
      "4      Max     Labrador  Black         59         29    2017-01-20      0.59   83.309394\n",
      "5   Stella    Chihuahua    Tan         18          2    2015-04-20      0.18   61.728395\n",
      "6   Bernie  St. Bernard  White         77         74    2018-02-27      0.77  124.810255\n"
     ]
    }
   ],
   "source": [
    "dogs['bmi'] = dogs['weight_kg'] / dogs['height_m'] ** 2\n",
    "print(dogs)"
   ]
  },
  {
   "cell_type": "markdown",
   "id": "472e518c-d347-4644-9f45-cf7c7a6e3939",
   "metadata": {},
   "source": [
    "<br> __Now let's find skinny tall dogs, the dogs whose bmi is less than 100.__"
   ]
  },
  {
   "cell_type": "code",
   "execution_count": 49,
   "id": "dc2d97a8-9fc3-4c1b-9169-90204d698911",
   "metadata": {},
   "outputs": [
    {
     "data": {
      "text/html": [
       "<div>\n",
       "<style scoped>\n",
       "    .dataframe tbody tr th:only-of-type {\n",
       "        vertical-align: middle;\n",
       "    }\n",
       "\n",
       "    .dataframe tbody tr th {\n",
       "        vertical-align: top;\n",
       "    }\n",
       "\n",
       "    .dataframe thead th {\n",
       "        text-align: right;\n",
       "    }\n",
       "</style>\n",
       "<table border=\"1\" class=\"dataframe\">\n",
       "  <thead>\n",
       "    <tr style=\"text-align: right;\">\n",
       "      <th></th>\n",
       "      <th>name</th>\n",
       "      <th>height_cm</th>\n",
       "      <th>bmi</th>\n",
       "    </tr>\n",
       "  </thead>\n",
       "  <tbody>\n",
       "    <tr>\n",
       "      <th>4</th>\n",
       "      <td>Max</td>\n",
       "      <td>59</td>\n",
       "      <td>83.309394</td>\n",
       "    </tr>\n",
       "    <tr>\n",
       "      <th>0</th>\n",
       "      <td>Bella</td>\n",
       "      <td>56</td>\n",
       "      <td>76.530612</td>\n",
       "    </tr>\n",
       "    <tr>\n",
       "      <th>3</th>\n",
       "      <td>Cooper</td>\n",
       "      <td>49</td>\n",
       "      <td>70.803832</td>\n",
       "    </tr>\n",
       "    <tr>\n",
       "      <th>5</th>\n",
       "      <td>Stella</td>\n",
       "      <td>18</td>\n",
       "      <td>61.728395</td>\n",
       "    </tr>\n",
       "  </tbody>\n",
       "</table>\n",
       "</div>"
      ],
      "text/plain": [
       "     name  height_cm        bmi\n",
       "4     Max         59  83.309394\n",
       "0   Bella         56  76.530612\n",
       "3  Cooper         49  70.803832\n",
       "5  Stella         18  61.728395"
      ]
     },
     "execution_count": 49,
     "metadata": {},
     "output_type": "execute_result"
    }
   ],
   "source": [
    "bmi_less_100 = dogs[dogs['bmi'] < 100]\n",
    "\n",
    "# We sort the result in descending order of height in cm. We want to get tallest skinny at the top\n",
    "bmi_less_100 = bmi_less_100.sort_values('height_cm', ascending=False)  \n",
    "\n",
    "# Then, we keep only the columns we're interested in\n",
    "bmi_less_100[['name','height_cm','bmi']]     # Do not forget two square brackets!!"
   ]
  },
  {
   "cell_type": "markdown",
   "id": "2d989faf-11b8-463f-8f30-37986c65940c",
   "metadata": {},
   "source": [
    "## Let's get back to our Homelessness dataset"
   ]
  },
  {
   "cell_type": "code",
   "execution_count": 51,
   "id": "cb352b2b-fd7a-4824-b615-5b22b172aae2",
   "metadata": {},
   "outputs": [
    {
     "name": "stdout",
     "output_type": "stream",
     "text": [
      "   Unnamed: 0              region       state  individuals  family_members  state_pop     total  p_homeless\n",
      "0           0  East South Central     Alabama       2570.0           864.0    4887681    3434.0    0.000703\n",
      "1           1             Pacific      Alaska       1434.0           582.0     735139    2016.0    0.002742\n",
      "2           2            Mountain     Arizona       7259.0          2606.0    7158024    9865.0    0.001378\n",
      "3           3  West South Central    Arkansas       2280.0           432.0    3009733    2712.0    0.000901\n",
      "4           4             Pacific  California     109008.0         20964.0   39461588  129972.0    0.003294\n"
     ]
    }
   ],
   "source": [
    "# Add total col as sum of individuals and family_members\n",
    "homelessness['total'] = homelessness['individuals'] + homelessness['family_members']\n",
    "\n",
    "# Add p_homeless col as proportion of total homeless population to the state population\n",
    "homelessness['p_homeless'] = homelessness['total'] / homelessness['state_pop']\n",
    "\n",
    "# See the result\n",
    "print(homelessness.head())"
   ]
  },
  {
   "cell_type": "markdown",
   "id": "b79bd79f-07de-454f-af40-f02b893fac11",
   "metadata": {},
   "source": [
    "<br> __\"Which state has the highest number of homeless individuals per 10,000 people in the state?\"__"
   ]
  },
  {
   "cell_type": "code",
   "execution_count": null,
   "id": "a28dc627-430a-41b1-8e79-8311f080c488",
   "metadata": {},
   "outputs": [],
   "source": []
  },
  {
   "cell_type": "code",
   "execution_count": null,
   "id": "df509fe7-38dc-4417-99bf-f44007079d2e",
   "metadata": {},
   "outputs": [],
   "source": []
  },
  {
   "cell_type": "code",
   "execution_count": 52,
   "id": "cfe62bd1-25a3-4c4d-9db8-a6c871d238bd",
   "metadata": {},
   "outputs": [
    {
     "name": "stdout",
     "output_type": "stream",
     "text": [
      "                   state  indiv_per_10k\n",
      "8   District of Columbia      53.738381\n",
      "11                Hawaii      29.079406\n",
      "4             California      27.623825\n",
      "37                Oregon      26.636307\n",
      "28                Nevada      23.314189\n",
      "47            Washington      21.829195\n",
      "32              New York      20.392363\n"
     ]
    }
   ],
   "source": [
    "# Create indiv_per_10k col as homeless individuals per 10k state pop\n",
    "homelessness[\"indiv_per_10k\"] = 10000 * homelessness['individuals'] / homelessness['state_pop'] \n",
    "\n",
    "# Subset rows for indiv_per_10k greater than 20\n",
    "high_homelessness = homelessness[homelessness['indiv_per_10k'] > 20]\n",
    "\n",
    "# Sort high_homelessness by descending indiv_per_10k\n",
    "high_homelessness_srt = high_homelessness.sort_values('indiv_per_10k', ascending=False)\n",
    "\n",
    "# From high_homelessness_srt, select the state and indiv_per_10k cols\n",
    "result = high_homelessness_srt[['state', 'indiv_per_10k']]\n",
    "\n",
    "# See the result\n",
    "print(result)"
   ]
  },
  {
   "cell_type": "markdown",
   "id": "3c8d84d2-a817-4d3c-accc-4e643296f9c2",
   "metadata": {},
   "source": [
    "__Observation:__ District of Columbia has the highest number of homeless individuals - almost 54 per ten thousand people. This is almost double the number of the next-highest state, Hawaii."
   ]
  }
 ],
 "metadata": {
  "kernelspec": {
   "display_name": "Python 3",
   "language": "python",
   "name": "python3"
  },
  "language_info": {
   "codemirror_mode": {
    "name": "ipython",
    "version": 3
   },
   "file_extension": ".py",
   "mimetype": "text/x-python",
   "name": "python",
   "nbconvert_exporter": "python",
   "pygments_lexer": "ipython3",
   "version": "3.12.4"
  }
 },
 "nbformat": 4,
 "nbformat_minor": 5
}
