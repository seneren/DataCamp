{
 "cells": [
  {
   "cell_type": "markdown",
   "id": "344f6295-b676-4f76-831a-8bd776bd11b8",
   "metadata": {},
   "source": [
    "## Summary Statistics"
   ]
  },
  {
   "cell_type": "code",
   "execution_count": 1,
   "id": "c61cc60e-6f35-44a2-9f35-b8c4d5722f33",
   "metadata": {},
   "outputs": [
    {
     "name": "stdout",
     "output_type": "stream",
     "text": [
      "      name        breed  color  height_cm  weight_kg date_of_birth\n",
      "0    Bella     Labrador  Brown         56         24    2013-07-11\n",
      "1  Charlie       Poodle  Black         43         24    2016-09-16\n",
      "2     Lucy    Chow Chow  Brown         46         24    2014-08-25\n",
      "3   Cooper    Schnauzer   Gray         49         17    2011-12-11\n",
      "4      Max     Labrador  Black         59         29    2017-01-20\n",
      "5   Stella    Chihuahua    Tan         18          2    2015-04-20\n",
      "6   Bernie  St. Bernard  White         77         74    2018-02-27\n"
     ]
    }
   ],
   "source": [
    "import pandas as pd\n",
    "dogs = pd.read_csv('./datasets/dogs.csv')\n",
    "print(dogs)"
   ]
  },
  {
   "cell_type": "markdown",
   "id": "c7339066-e80b-4e0c-96cb-5d85ee4cbb4e",
   "metadata": {},
   "source": [
    "<br> __Mean:__ `dogs['height_cm'].mean()`\n",
    "\n",
    "Mean tells us that where the _center_ of our data is. \n",
    "The other summary statistics, `.median()`, `.mode()`, `.min()`, `.max()`, `.var()`, `.std()`, median, mode, minimum, maximum, variance and standard devaition, respectively."
   ]
  },
  {
   "cell_type": "code",
   "execution_count": 5,
   "id": "89ad85d3-f977-4526-93b0-8e414b3a3247",
   "metadata": {},
   "outputs": [
    {
     "name": "stdout",
     "output_type": "stream",
     "text": [
      "Mean height is 49.714285714285715 and the oldest dog's dob is 2011-12-11\n"
     ]
    }
   ],
   "source": [
    "print('Mean height is ' + str(dogs['height_cm'].mean()) + ' and ' + \"the oldest dog's dob is \" + str(dogs['date_of_birth'].min()))"
   ]
  },
  {
   "cell_type": "markdown",
   "id": "bdd8ad31-8033-4d42-9115-39018a32a4ae",
   "metadata": {},
   "source": [
    "## The .agg() method\n",
    "\n",
    "The aggregate, or agg, method allows us to compute __custom__ summary statistics. We create a funtion called __pct30__ that computes the thirtieth percentile of a DataFrame column. The function takles in a column and spits out the column's thirtieth percentile."
   ]
  },
  {
   "cell_type": "code",
   "execution_count": 8,
   "id": "a8594b03",
   "metadata": {},
   "outputs": [
    {
     "name": "stdout",
     "output_type": "stream",
     "text": [
      "22.599999999999998\n"
     ]
    }
   ],
   "source": [
    "def pct30(column):                      # Defining the function pct30 on the column.\n",
    "    return column.quantile(0.3)\n",
    "\n",
    "print(dogs['weight_kg'].agg(pct30))           # Subsetting the weight column of dogs df and call .agg(pct30)."
   ]
  },
  {
   "cell_type": "markdown",
   "id": "62609958",
   "metadata": {},
   "source": [
    "The output 22.59 means the following: 30% of the dogs weigh less than or equal to 22.59 kg.\n",
    "\n",
    "Agg can also be used on more than one column."
   ]
  },
  {
   "cell_type": "code",
   "execution_count": 9,
   "id": "36a60070",
   "metadata": {},
   "outputs": [
    {
     "name": "stdout",
     "output_type": "stream",
     "text": [
      "weight_kg    22.6\n",
      "height_cm    45.4\n",
      "dtype: float64\n"
     ]
    }
   ],
   "source": [
    "print(dogs[['weight_kg', 'height_cm']].agg(pct30))"
   ]
  },
  {
   "cell_type": "markdown",
   "id": "55ea5462",
   "metadata": {},
   "source": [
    "Here, additionally we calculated that, 30% of the dogs' height are less than 45.4 cm.\n",
    "\n",
    "We can also use agg to get multiple summary statistics at once."
   ]
  },
  {
   "cell_type": "code",
   "execution_count": 12,
   "id": "3ff1e3b5",
   "metadata": {},
   "outputs": [
    {
     "name": "stdout",
     "output_type": "stream",
     "text": [
      "pct30    22.6\n",
      "pct40    24.0\n",
      "Name: weight_kg, dtype: float64\n"
     ]
    }
   ],
   "source": [
    "def pct40(column):\n",
    "    return column.quantile(0.4)\n",
    "\n",
    "print(dogs['weight_kg'].agg([pct30,pct40]))             # Notice we used [] inside .agg to be able to compute both functions!"
   ]
  },
  {
   "cell_type": "markdown",
   "id": "2b819c48",
   "metadata": {},
   "source": [
    "To be able to print out the dogs within the 30th percentile, we can write"
   ]
  },
  {
   "cell_type": "code",
   "execution_count": 20,
   "id": "5447ed66",
   "metadata": {},
   "outputs": [
    {
     "name": "stdout",
     "output_type": "stream",
     "text": [
      "     name      breed color  height_cm  weight_kg date_of_birth\n",
      "3  Cooper  Schnauzer  Gray         49         17    2011-12-11\n",
      "5  Stella  Chihuahua   Tan         18          2    2015-04-20\n"
     ]
    }
   ],
   "source": [
    "print(dogs[dogs['weight_kg'] < dogs['weight_kg'].agg(pct30)])      # filtering and subsetting dogs df with .agg(pct30). "
   ]
  },
  {
   "cell_type": "markdown",
   "id": "7350566e",
   "metadata": {},
   "source": [
    "### Cumulative sum"
   ]
  },
  {
   "cell_type": "code",
   "execution_count": 26,
   "id": "41562e41",
   "metadata": {},
   "outputs": [
    {
     "data": {
      "text/plain": [
       "0     24\n",
       "1     48\n",
       "2     72\n",
       "3     89\n",
       "4    118\n",
       "5    120\n",
       "6    194\n",
       "Name: weight_kg, dtype: int64"
      ]
     },
     "execution_count": 26,
     "metadata": {},
     "output_type": "execute_result"
    }
   ],
   "source": [
    "dogs['weight_kg'].cumsum()     # Results in a number for each row of df, where the number of each row is added to previous row's number. "
   ]
  },
  {
   "cell_type": "markdown",
   "id": "d5eb27b7",
   "metadata": {},
   "source": [
    "Other cumulative statistics: `.cummax()`, `cummin()`, `cumprod()`."
   ]
  },
  {
   "cell_type": "markdown",
   "id": "76251f49",
   "metadata": {},
   "source": [
    "## EXERCISE"
   ]
  },
  {
   "cell_type": "code",
   "execution_count": 2,
   "id": "44e7acaf",
   "metadata": {},
   "outputs": [
    {
     "name": "stdout",
     "output_type": "stream",
     "text": [
      "   Unnamed: 0  store type  department        date  weekly_sales  is_holiday  \\\n",
      "0           0      1    A           1  2010-02-05      24924.50       False   \n",
      "1           1      1    A           1  2010-03-05      21827.90       False   \n",
      "2           2      1    A           1  2010-04-02      57258.43       False   \n",
      "3           3      1    A           1  2010-05-07      17413.94       False   \n",
      "4           4      1    A           1  2010-06-04      17558.09       False   \n",
      "\n",
      "   temperature_c  fuel_price_usd_per_l  unemployment  \n",
      "0       5.727778              0.679451         8.106  \n",
      "1       8.055556              0.693452         8.106  \n",
      "2      16.816667              0.718284         7.808  \n",
      "3      22.527778              0.748928         7.808  \n",
      "4      27.050000              0.714586         7.808  \n"
     ]
    }
   ],
   "source": [
    "sales = pd.read_csv('./datasets/sales_subset.csv')\n",
    "\n",
    "#pd.set_option('display.expand_frame_repr', False)   # Make the display wider. Otherwise, last few columns are displayed in next line.\n",
    "\n",
    "print(sales.head())"
   ]
  },
  {
   "cell_type": "code",
   "execution_count": 50,
   "id": "f8cbb336",
   "metadata": {},
   "outputs": [
    {
     "name": "stdout",
     "output_type": "stream",
     "text": [
      "Mean of the weekly sales is 23843.95014850566\n",
      "Median of the weekly sales is 12049.064999999999\n",
      "2012-10-26\n",
      "2010-02-05\n"
     ]
    }
   ],
   "source": [
    "print(\"Mean of the weekly sales is \" + str(sales['weekly_sales'].mean()))\n",
    "\n",
    "print(\"Median of the weekly sales is \" + str(sales['weekly_sales'].median()))\n",
    "\n",
    "print(sales['date'].max())              # Prints out max of the date column\n",
    "\n",
    "print(sales['date'].min())              # Prints out min of the date column"
   ]
  },
  {
   "cell_type": "markdown",
   "id": "f621da3c",
   "metadata": {},
   "source": [
    "We know compute, _Inter-Quartile range_, which is the 75th percentile minus the 25th percentile. It's an alternative to standard deviation that is helpful if our data contains outliers."
   ]
  },
  {
   "cell_type": "code",
   "execution_count": 64,
   "id": "6001fb31",
   "metadata": {},
   "outputs": [
    {
     "name": "stdout",
     "output_type": "stream",
     "text": [
      "        temperature_c  fuel_price_usd_per_l  unemployment\n",
      "iqr         16.583333              0.073176         0.565\n",
      "median      16.966667              0.743381         8.099\n"
     ]
    },
    {
     "name": "stderr",
     "output_type": "stream",
     "text": [
      "/var/folders/yt/fwrb16td2kl11zsy9jl7s5xc0000gn/T/ipykernel_1159/3174008845.py:6: FutureWarning: The provided callable <function median at 0x1068e9800> is currently using Series.median. In a future version of pandas, the provided callable will be used directly. To keep current behavior pass the string \"median\" instead.\n",
      "  print(sales[[\"temperature_c\", 'fuel_price_usd_per_l', 'unemployment']].agg([iqr, np.median]))\n",
      "/var/folders/yt/fwrb16td2kl11zsy9jl7s5xc0000gn/T/ipykernel_1159/3174008845.py:6: FutureWarning: The provided callable <function median at 0x1068e9800> is currently using Series.median. In a future version of pandas, the provided callable will be used directly. To keep current behavior pass the string \"median\" instead.\n",
      "  print(sales[[\"temperature_c\", 'fuel_price_usd_per_l', 'unemployment']].agg([iqr, np.median]))\n",
      "/var/folders/yt/fwrb16td2kl11zsy9jl7s5xc0000gn/T/ipykernel_1159/3174008845.py:6: FutureWarning: The provided callable <function median at 0x1068e9800> is currently using Series.median. In a future version of pandas, the provided callable will be used directly. To keep current behavior pass the string \"median\" instead.\n",
      "  print(sales[[\"temperature_c\", 'fuel_price_usd_per_l', 'unemployment']].agg([iqr, np.median]))\n"
     ]
    }
   ],
   "source": [
    "import numpy as np\n",
    "# A custom IQR function\n",
    "def iqr(column):\n",
    "    return column.quantile(0.75) - column.quantile(0.25)\n",
    "\n",
    "print(sales[[\"temperature_c\", 'fuel_price_usd_per_l', 'unemployment']].agg([iqr, np.median]))"
   ]
  },
  {
   "cell_type": "markdown",
   "id": "f9bb8316",
   "metadata": {},
   "source": [
    "The _error_ we get above, can be bypassed by using \"median\" instead of writing np.median: `.agg([iqr, \"median\"])`\n",
    "\n",
    "Or it can be bypassed by a custom function lambda: `agg([iqr, lambda x: np.median(x)])`"
   ]
  },
  {
   "cell_type": "code",
   "execution_count": 73,
   "id": "31f15d4e",
   "metadata": {},
   "outputs": [
    {
     "name": "stdout",
     "output_type": "stream",
     "text": [
      "          date  weekly_sales  cum_weekly_sales  cum_max_sales\n",
      "0   2010-02-05      24924.50          24924.50       24924.50\n",
      "1   2010-03-05      21827.90          46752.40       24924.50\n",
      "2   2010-04-02      57258.43         104010.83       57258.43\n",
      "3   2010-05-07      17413.94         121424.77       57258.43\n",
      "4   2010-06-04      17558.09         138982.86       57258.43\n",
      "5   2010-07-02      16333.14         155316.00       57258.43\n",
      "6   2010-08-06      17508.41         172824.41       57258.43\n",
      "7   2010-09-03      16241.78         189066.19       57258.43\n",
      "8   2010-10-01      20094.19         209160.38       57258.43\n",
      "9   2010-11-05      34238.88         243399.26       57258.43\n",
      "10  2010-12-03      22517.56         265916.82       57258.43\n",
      "11  2011-01-07      15984.24         281901.06       57258.43\n"
     ]
    }
   ],
   "source": [
    "sales_1_1 = sales[(sales['store'] == 1) & (sales['department'] == 1)]\n",
    "\n",
    "sales_1_1 = sales_1_1.sort_values('date')\n",
    "\n",
    "# Get the cumulative sum of weekly_sales, add as cum_weekly_sales col\n",
    "sales_1_1['cum_weekly_sales'] = sales_1_1['weekly_sales'].cumsum()\n",
    "\n",
    "# Get the cumulative max of weekly_sales, add as cum_max_sales col\n",
    "sales_1_1['cum_max_sales'] = sales_1_1['weekly_sales'].cummax()\n",
    "\n",
    "# See the columns you calculated\n",
    "print(sales_1_1[[\"date\", \"weekly_sales\", \"cum_weekly_sales\", \"cum_max_sales\"]])"
   ]
  },
  {
   "cell_type": "code",
   "execution_count": null,
   "id": "77ec4cfd",
   "metadata": {},
   "outputs": [],
   "source": []
  }
 ],
 "metadata": {
  "kernelspec": {
   "display_name": "Python 3",
   "language": "python",
   "name": "python3"
  },
  "language_info": {
   "codemirror_mode": {
    "name": "ipython",
    "version": 3
   },
   "file_extension": ".py",
   "mimetype": "text/x-python",
   "name": "python",
   "nbconvert_exporter": "python",
   "pygments_lexer": "ipython3",
   "version": "3.12.4"
  }
 },
 "nbformat": 4,
 "nbformat_minor": 5
}
