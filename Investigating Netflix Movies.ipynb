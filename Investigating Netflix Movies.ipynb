{
 "cells": [
  {
   "cell_type": "markdown",
   "id": "bf28d4f4-7c73-4e06-b56f-5e02deb786cf",
   "metadata": {},
   "source": [
    "# Investigating Netflix Movies\n",
    "\n",
    "### Project Instructions\n",
    "\n",
    "- Perform exploratory data analysis on the netflix_data.csv data to understand more about movies from the 1990s decade.\n",
    "\n",
    "- What was the most frequent movie duration in the 1990s? Save an approximate answer as an integer called duration (use 1990 as the decade's start year).\n",
    "\n",
    "- A movie is considered short if it is less than 90 minutes. Count the number of short action movies released in the 1990s and save this integer as short_movie_count.\n",
    "\n",
    "_Feel free to experiment after submitting the project!_"
   ]
  },
  {
   "cell_type": "code",
   "execution_count": null,
   "id": "b5d9bf77-7349-44a2-ace4-02dccd814a71",
   "metadata": {},
   "outputs": [
    {
     "name": "stdout",
     "output_type": "stream",
     "text": [
      "(7787, 11)\n"
     ]
    },
    {
     "data": {
      "text/html": [
       "<div>\n",
       "<style scoped>\n",
       "    .dataframe tbody tr th:only-of-type {\n",
       "        vertical-align: middle;\n",
       "    }\n",
       "\n",
       "    .dataframe tbody tr th {\n",
       "        vertical-align: top;\n",
       "    }\n",
       "\n",
       "    .dataframe thead th {\n",
       "        text-align: right;\n",
       "    }\n",
       "</style>\n",
       "<table border=\"1\" class=\"dataframe\">\n",
       "  <thead>\n",
       "    <tr style=\"text-align: right;\">\n",
       "      <th></th>\n",
       "      <th>show_id</th>\n",
       "      <th>type</th>\n",
       "      <th>title</th>\n",
       "      <th>director</th>\n",
       "      <th>cast</th>\n",
       "      <th>country</th>\n",
       "      <th>date_added</th>\n",
       "      <th>release_year</th>\n",
       "      <th>duration</th>\n",
       "      <th>description</th>\n",
       "      <th>genre</th>\n",
       "    </tr>\n",
       "  </thead>\n",
       "  <tbody>\n",
       "    <tr>\n",
       "      <th>0</th>\n",
       "      <td>s1</td>\n",
       "      <td>TV Show</td>\n",
       "      <td>3%</td>\n",
       "      <td>NaN</td>\n",
       "      <td>João Miguel, Bianca Comparato, Michel Gomes, R...</td>\n",
       "      <td>Brazil</td>\n",
       "      <td>August 14, 2020</td>\n",
       "      <td>2020</td>\n",
       "      <td>4</td>\n",
       "      <td>In a future where the elite inhabit an island ...</td>\n",
       "      <td>International TV</td>\n",
       "    </tr>\n",
       "    <tr>\n",
       "      <th>1</th>\n",
       "      <td>s2</td>\n",
       "      <td>Movie</td>\n",
       "      <td>7:19</td>\n",
       "      <td>Jorge Michel Grau</td>\n",
       "      <td>Demián Bichir, Héctor Bonilla, Oscar Serrano, ...</td>\n",
       "      <td>Mexico</td>\n",
       "      <td>December 23, 2016</td>\n",
       "      <td>2016</td>\n",
       "      <td>93</td>\n",
       "      <td>After a devastating earthquake hits Mexico Cit...</td>\n",
       "      <td>Dramas</td>\n",
       "    </tr>\n",
       "    <tr>\n",
       "      <th>2</th>\n",
       "      <td>s3</td>\n",
       "      <td>Movie</td>\n",
       "      <td>23:59</td>\n",
       "      <td>Gilbert Chan</td>\n",
       "      <td>Tedd Chan, Stella Chung, Henley Hii, Lawrence ...</td>\n",
       "      <td>Singapore</td>\n",
       "      <td>December 20, 2018</td>\n",
       "      <td>2011</td>\n",
       "      <td>78</td>\n",
       "      <td>When an army recruit is found dead, his fellow...</td>\n",
       "      <td>Horror Movies</td>\n",
       "    </tr>\n",
       "    <tr>\n",
       "      <th>3</th>\n",
       "      <td>s4</td>\n",
       "      <td>Movie</td>\n",
       "      <td>9</td>\n",
       "      <td>Shane Acker</td>\n",
       "      <td>Elijah Wood, John C. Reilly, Jennifer Connelly...</td>\n",
       "      <td>United States</td>\n",
       "      <td>November 16, 2017</td>\n",
       "      <td>2009</td>\n",
       "      <td>80</td>\n",
       "      <td>In a postapocalyptic world, rag-doll robots hi...</td>\n",
       "      <td>Action</td>\n",
       "    </tr>\n",
       "    <tr>\n",
       "      <th>4</th>\n",
       "      <td>s5</td>\n",
       "      <td>Movie</td>\n",
       "      <td>21</td>\n",
       "      <td>Robert Luketic</td>\n",
       "      <td>Jim Sturgess, Kevin Spacey, Kate Bosworth, Aar...</td>\n",
       "      <td>United States</td>\n",
       "      <td>January 1, 2020</td>\n",
       "      <td>2008</td>\n",
       "      <td>123</td>\n",
       "      <td>A brilliant group of students become card-coun...</td>\n",
       "      <td>Dramas</td>\n",
       "    </tr>\n",
       "  </tbody>\n",
       "</table>\n",
       "</div>"
      ],
      "text/plain": [
       "  show_id     type  title           director  \\\n",
       "0      s1  TV Show     3%                NaN   \n",
       "1      s2    Movie   7:19  Jorge Michel Grau   \n",
       "2      s3    Movie  23:59       Gilbert Chan   \n",
       "3      s4    Movie      9        Shane Acker   \n",
       "4      s5    Movie     21     Robert Luketic   \n",
       "\n",
       "                                                cast        country  \\\n",
       "0  João Miguel, Bianca Comparato, Michel Gomes, R...         Brazil   \n",
       "1  Demián Bichir, Héctor Bonilla, Oscar Serrano, ...         Mexico   \n",
       "2  Tedd Chan, Stella Chung, Henley Hii, Lawrence ...      Singapore   \n",
       "3  Elijah Wood, John C. Reilly, Jennifer Connelly...  United States   \n",
       "4  Jim Sturgess, Kevin Spacey, Kate Bosworth, Aar...  United States   \n",
       "\n",
       "          date_added  release_year  duration  \\\n",
       "0    August 14, 2020          2020         4   \n",
       "1  December 23, 2016          2016        93   \n",
       "2  December 20, 2018          2011        78   \n",
       "3  November 16, 2017          2009        80   \n",
       "4    January 1, 2020          2008       123   \n",
       "\n",
       "                                         description             genre  \n",
       "0  In a future where the elite inhabit an island ...  International TV  \n",
       "1  After a devastating earthquake hits Mexico Cit...            Dramas  \n",
       "2  When an army recruit is found dead, his fellow...     Horror Movies  \n",
       "3  In a postapocalyptic world, rag-doll robots hi...            Action  \n",
       "4  A brilliant group of students become card-coun...            Dramas  "
      ]
     },
     "execution_count": 6,
     "metadata": {},
     "output_type": "execute_result"
    }
   ],
   "source": [
    "import pandas as pd\n",
    "import matplotlib.pyplot as plt\n",
    "\n",
    "# The netflix_titles database has a larger set and sorted already.\n",
    "\n",
    "# Read in the Netflix CSV as a DataFrame (Uncomment by removing #) \n",
    "#netflix_df = pd.read_csv('../DataCamp/Databases/netflix_titles.csv')\n",
    "\n",
    "# Read in the Netflix CSV as a DataFrame\n",
    "netflix_df = pd.read_csv('../DataCamp/Databases/netflix_data.csv')\n",
    "\n",
    "# First, we do a little investigation\n",
    "print(netflix_df.shape)          # Shows how many rows & columns in the DataFrame\n",
    "\n",
    "netflix_df.head()                # Prints out first 5 rows of the DataFrame"
   ]
  },
  {
   "cell_type": "code",
   "execution_count": 10,
   "id": "d351fdd8-4412-4784-9481-3e07363b10cb",
   "metadata": {},
   "outputs": [
    {
     "data": {
      "text/plain": [
       "(type\n",
       " Movie      5377\n",
       " TV Show    2410\n",
       " Name: count, dtype: int64,\n",
       " 2)"
      ]
     },
     "execution_count": 10,
     "metadata": {},
     "output_type": "execute_result"
    }
   ],
   "source": [
    "# Count the number of unique types of shows in the data and display the type names\n",
    "show_types = netflix_df['type'].value_counts()\n",
    "num_show_types = netflix_df['type'].nunique()\n",
    "show_types, num_show_types"
   ]
  },
  {
   "cell_type": "code",
   "execution_count": 8,
   "id": "2633023d-5e72-4df6-ab84-97bb8cda3add",
   "metadata": {},
   "outputs": [
    {
     "data": {
      "text/html": [
       "<div>\n",
       "<style scoped>\n",
       "    .dataframe tbody tr th:only-of-type {\n",
       "        vertical-align: middle;\n",
       "    }\n",
       "\n",
       "    .dataframe tbody tr th {\n",
       "        vertical-align: top;\n",
       "    }\n",
       "\n",
       "    .dataframe thead th {\n",
       "        text-align: right;\n",
       "    }\n",
       "</style>\n",
       "<table border=\"1\" class=\"dataframe\">\n",
       "  <thead>\n",
       "    <tr style=\"text-align: right;\">\n",
       "      <th></th>\n",
       "      <th>title</th>\n",
       "      <th>country</th>\n",
       "      <th>genre</th>\n",
       "      <th>release_year</th>\n",
       "      <th>duration</th>\n",
       "    </tr>\n",
       "  </thead>\n",
       "  <tbody>\n",
       "    <tr>\n",
       "      <th>1</th>\n",
       "      <td>7:19</td>\n",
       "      <td>Mexico</td>\n",
       "      <td>Dramas</td>\n",
       "      <td>2016</td>\n",
       "      <td>93</td>\n",
       "    </tr>\n",
       "    <tr>\n",
       "      <th>2</th>\n",
       "      <td>23:59</td>\n",
       "      <td>Singapore</td>\n",
       "      <td>Horror Movies</td>\n",
       "      <td>2011</td>\n",
       "      <td>78</td>\n",
       "    </tr>\n",
       "    <tr>\n",
       "      <th>3</th>\n",
       "      <td>9</td>\n",
       "      <td>United States</td>\n",
       "      <td>Action</td>\n",
       "      <td>2009</td>\n",
       "      <td>80</td>\n",
       "    </tr>\n",
       "    <tr>\n",
       "      <th>4</th>\n",
       "      <td>21</td>\n",
       "      <td>United States</td>\n",
       "      <td>Dramas</td>\n",
       "      <td>2008</td>\n",
       "      <td>123</td>\n",
       "    </tr>\n",
       "    <tr>\n",
       "      <th>6</th>\n",
       "      <td>122</td>\n",
       "      <td>Egypt</td>\n",
       "      <td>Horror Movies</td>\n",
       "      <td>2019</td>\n",
       "      <td>95</td>\n",
       "    </tr>\n",
       "  </tbody>\n",
       "</table>\n",
       "</div>"
      ],
      "text/plain": [
       "   title        country          genre  release_year  duration\n",
       "1   7:19         Mexico         Dramas          2016        93\n",
       "2  23:59      Singapore  Horror Movies          2011        78\n",
       "3      9  United States         Action          2009        80\n",
       "4     21  United States         Dramas          2008       123\n",
       "6    122          Egypt  Horror Movies          2019        95"
      ]
     },
     "execution_count": 8,
     "metadata": {},
     "output_type": "execute_result"
    }
   ],
   "source": [
    "# Chooses the \"Movie\" type rows in the dataframe.\n",
    "netflix_df_movies_only = netflix_df[netflix_df['type'] == 'Movie']\n",
    "\n",
    "# We select only the columns of interest\n",
    "netflix_movies_col_subset = netflix_df_movies_only[['title', 'country', 'genre', 'release_year', 'duration']]\n",
    "\n",
    "# Print the first five rows of the new DataFrame\n",
    "netflix_movies_col_subset.head()"
   ]
  },
  {
   "cell_type": "code",
   "execution_count": 9,
   "id": "bb1fc1d2-f6c5-4314-a60e-2fae8857fb57",
   "metadata": {},
   "outputs": [
    {
     "data": {
      "image/png": "[encoded data removed]",
      "text/plain": [
       "<Figure size 640x480 with 1 Axes>"
      ]
     },
     "metadata": {},
     "output_type": "display_data"
    },
    {
     "name": "stdout",
     "output_type": "stream",
     "text": [
      "There are 194 movies released in 90's.\n",
      "Most frequent movie duration: 94 minutes.\n"
     ]
    }
   ],
   "source": [
    "# Chooses the \"Movie\" type rows in the dataframe.\n",
    "netflix_df_movie = netflix_df[netflix_df['type'] == 'Movie']\n",
    "\n",
    "# Filter the movies released between 1990 & 1999\n",
    "netflix_nineties = netflix_df_movie[(netflix_df_movie['release_year'] <=1999) & (netflix_df_movie['release_year'] >= 1990)]\n",
    "\n",
    "plt.hist(netflix_nineties['duration'], ec='blue', lw=0.5)  # ec stands for edgecolor, lw stands for linewidth.\n",
    "plt.xlabel('Duration')\n",
    "plt.ylabel('Nr. of Movies')\n",
    "plt.title(\"Distribution of movies released in 90's\")\n",
    "plt.show()\n",
    "\n",
    "nr_of_nineties = netflix_nineties.shape[0]   # Gives the number of rows in DataFrame.\n",
    "print(\"There are \" + str(nr_of_nineties) + \" movies released in 90's.\")\n",
    "\n",
    "# Most frequent movie duration, with mode() function\n",
    "duration = netflix_nineties['duration'].mode()[0]\n",
    "print('Most frequent movie duration: ' + str(duration) + ' minutes.')"
   ]
  },
  {
   "cell_type": "code",
   "execution_count": 10,
   "id": "32741b14-a73b-41b0-be5c-cc5162333c75",
   "metadata": {},
   "outputs": [
    {
     "data": {
      "image/png": "[encoded data removed]",
      "text/plain": [
       "<Figure size 640x480 with 1 Axes>"
      ]
     },
     "metadata": {},
     "output_type": "display_data"
    },
    {
     "name": "stdout",
     "output_type": "stream",
     "text": [
      "There are 40 short movies released in 90's.\n"
     ]
    }
   ],
   "source": [
    "# Visualize the duration column of your filtered data to see the distribution of movie durations\n",
    "# See which bar is the highest and save the duration value, this doesn't need to be exact!\n",
    "netflix_nineties_short = netflix_nineties[netflix_nineties['duration'] < 90]\n",
    "\n",
    "plt.hist(netflix_nineties_short['duration'], ec='blue', lw=0.5) \n",
    "plt.xlabel('Duration')\n",
    "plt.ylabel('Nr. of Movies')\n",
    "plt.title(\"Distribution of short movies released in 90's\")\n",
    "plt.show()\n",
    "\n",
    "nr_of_short = netflix_nineties_short.shape[0]\n",
    "print(\"There are \" + str(nr_of_short) + \" short movies released in 90's.\")"
   ]
  },
  {
   "cell_type": "code",
   "execution_count": 11,
   "id": "37ad7e02-5f2a-49ea-9485-d428dfa66df6",
   "metadata": {},
   "outputs": [
    {
     "name": "stdout",
     "output_type": "stream",
     "text": [
      "There are 8 short action movies released in 90's.\n",
      "Most frequent short movie duration: 89 minutes.\n"
     ]
    }
   ],
   "source": [
    "# Filter the \"Action\" genre in the short movies DataFrame\n",
    "netflix_nineties_short_action = netflix_nineties_short[netflix_nineties_short['genre'] == 'Action']\n",
    "short_movie_count = netflix_nineties_short_action.shape[0]\n",
    "\n",
    "print('There are ' + str(short_movie_count) + \" short action movies released in 90's.\")\n",
    "\n",
    "# Most frequent movie duration, with mode() function\n",
    "duration_short = netflix_nineties_short_action['duration'].mode()[0]\n",
    "print('Most frequent short movie duration: ' + str(duration_short) + ' minutes.')"
   ]
  },
  {
   "cell_type": "markdown",
   "id": "701f5124-848a-4326-828d-e760c311c606",
   "metadata": {},
   "source": [
    "### Below is the solution of Datacamp AI."
   ]
  },
  {
   "cell_type": "code",
   "execution_count": null,
   "id": "bd2f3d72-7e7d-48a1-ab71-dee4193764ea",
   "metadata": {},
   "outputs": [
    {
     "data": {
      "image/png": "[encoded data removed]",
      "text/plain": [
       "<Figure size 640x480 with 1 Axes>"
      ]
     },
     "metadata": {},
     "output_type": "display_data"
    },
    {
     "name": "stdout",
     "output_type": "stream",
     "text": [
      "8\n"
     ]
    }
   ],
   "source": [
    "# Importing pandas and matplotlib\n",
    "import pandas as pd\n",
    "import matplotlib.pyplot as plt\n",
    "\n",
    "# Read in the Netflix CSV as a DataFrame\n",
    "netflix_df = pd.read_csv(\"../DataCamp/Databases/netflix_data.csv\")\n",
    "\n",
    "# Subset the DataFrame for type \"Movie\"\n",
    "netflix_subset = netflix_df[netflix_df[\"type\"] == \"Movie\"]\n",
    "\n",
    "# Filter the to keep only movies released in the 1990s\n",
    "# Start by filtering out movies that were released before 1990\n",
    "subset = netflix_subset[(netflix_subset[\"release_year\"] >= 1990)]\n",
    "\n",
    "# And then do the same to filter out movies released on or after 2000\n",
    "movies_1990s = subset[(subset[\"release_year\"] < 2000)]\n",
    "\n",
    "# Another way to do this step is to use the & operator which allows you to do this type of filtering in one step\n",
    "# movies_1990s = netflix_subset[(netflix_subset[\"release_year\"] >= 1990) & (netflix_subset[\"release_year\"] < 2000)]\n",
    "\n",
    "# Visualize the duration column of your filtered data to see the distribution of movie durations\n",
    "# See which bar is the highest and save the duration value, this doesn't need to be exact!\n",
    "plt.hist(movies_1990s[\"duration\"])\n",
    "plt.title('Distribution of Movie Durations in the 1990s')\n",
    "plt.xlabel('Duration (minutes)')\n",
    "plt.ylabel('Number of Movies')\n",
    "plt.show()\n",
    "\n",
    "duration = 100\n",
    "\n",
    "# Filter the data again to keep only the Action movies\n",
    "action_movies_1990s = movies_1990s[movies_1990s[\"genre\"] == \"Action\"]\n",
    "\n",
    "# Use a for loop and a counter to count how many short action movies there were in the 1990s\n",
    "\n",
    "# Start the counter\n",
    "short_movie_count = 0\n",
    "\n",
    "# Iterate over the labels and rows of the DataFrame and check if the duration is less than 90, if it is, add 1 to the counter, if it isn't, the counter should remain the same\n",
    "for label, row in action_movies_1990s.iterrows() :\n",
    "    if row[\"duration\"] < 90 :\n",
    "        short_movie_count = short_movie_count + 1\n",
    "    else:\n",
    "        short_movie_count = short_movie_count\n",
    "\n",
    "print(short_movie_count)\n",
    "\n",
    "# A quicker way of counting values in a column is to use .sum() on the desired column\n",
    "# (action_movies_1990s[\"duration\"] < 90).sum()"
   ]
  },
  {
   "cell_type": "code",
   "execution_count": null,
   "id": "c53118ce-b766-4e08-a941-37cf6933d421",
   "metadata": {},
   "outputs": [],
   "source": []
  }
 ],
 "metadata": {
  "kernelspec": {
   "display_name": "Python 3",
   "language": "python",
   "name": "python3"
  },
  "language_info": {
   "codemirror_mode": {
    "name": "ipython",
    "version": 3
   },
   "file_extension": ".py",
   "mimetype": "text/x-python",
   "name": "python",
   "nbconvert_exporter": "python",
   "pygments_lexer": "ipython3",
   "version": "3.12.4"
  }
 },
 "nbformat": 4,
 "nbformat_minor": 5
}
