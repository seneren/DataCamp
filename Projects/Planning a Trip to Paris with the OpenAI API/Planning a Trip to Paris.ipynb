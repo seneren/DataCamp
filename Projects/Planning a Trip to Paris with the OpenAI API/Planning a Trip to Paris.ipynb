{
 "cells": [
  {
   "cell_type": "markdown",
   "metadata": {},
   "source": [
    "![Eiffel Tower](eiffel-tower.png)\n",
    "\n",
    "As a distinguished AI Developer, you've been selected by Peterman Reality Tours, an internationally acclaimed tourism company, to undertake an influential project. This project requires you to harness the potential of OpenAI's API, specifically using its state-of-the-art language model, GPT-3.5 Turbo, to create an AI-powered travel guide for the culturally rich city of Paris.\n",
    "\n",
    "Your creation will become a virtual Parisian expert, delivering valuable insights into the city's iconic landmarks and hidden treasures. The AI will respond intelligently to a set of common questions, providing a more engaging and immersive travel planning experience for the clientele of Peterman Reality Tours.\n",
    "\n",
    "The ultimate aspiration is a user-friendly, AI-driven travel guide that significantly enhances the exploration of Paris. Users will be able to pre-define their questions and receive well-informed answers from the AI, providing a seamless and intuitive travel planning process."
   ]
  },
  {
   "cell_type": "markdown",
   "metadata": {},
   "source": [
    "## **Project Instructions**\n",
    "\n",
    "You'll create a chatbot using the OpenAI API to generate responses to the following Parisian tourist questions:\n",
    "\n",
    "1. How far away is the Louvre from the Eiffel Tower (in miles) if you are driving?\n",
    "2. Where is the Arc de Triomphe?\n",
    "3. What are the must-see artworks at the Louvre Museum?\n",
    "\n",
    "- Create a list of dictionaries called `conversation` that lists the `'role'` and `'content'` for each question and response. You should start the conversation with a `'system'` message to set the model's behavior, and use a `temperature` of `0.0` and maximum number of tokens of `100`:\n",
    "```python\n",
    "[ {\"role\": \"system\", \"content\": ...}, {\"role\": \"user\", \"content\": ...}, ... ]\n",
    "```"
   ]
  },
  {
   "cell_type": "code",
   "execution_count": 6,
   "metadata": {},
   "outputs": [
    {
     "name": "stdout",
     "output_type": "stream",
     "text": [
      "The Louvre is approximately 2.5 miles away from the Eiffel Tower.\n",
      "The Arc de Triomphe is located at the western end of the Champs-Élysées avenue in Paris.\n",
      "Some of the must-see artworks at the Louvre Museum include the Mona Lisa, the Venus de Milo, and the Winged Victory of Samothrace.\n"
     ]
    }
   ],
   "source": [
    "# Start your code here!\n",
    "import os\n",
    "from openai import OpenAI\n",
    "import openai\n",
    "\n",
    "openai.api_key = os.environ[\"OPENAI_API_KEY\"]\n",
    "\n",
    "# Define the model to use\n",
    "model = \"gpt-3.5-turbo\"\n",
    "\n",
    "# Define the client\n",
    "client = OpenAI(api_key=openai.api_key)\n",
    "\n",
    "# Define the conversation\n",
    "conversation =[\n",
    "    {\n",
    "        \"role\": \"system\",\n",
    "        \"content\":\"You are a travel guide designed to provide information about landmarks that tourists should explore in Paris. You speak in a concise manner.\"\n",
    "    },\n",
    "    {\n",
    "        \"role\":\"user\",\n",
    "        \"content\":\"What is the most famous landmark in Paris?\"\n",
    "    },\n",
    "    {\n",
    "        \"role\":\"assistant\",\n",
    "        \"content\":\"The most famous landmark in Paris is the Eiffel Tower.\"\n",
    "    },\n",
    "]\n",
    "\n",
    "# Define a list of questions\n",
    "questions = [\n",
    "    \"How far away is the Louvre from the Eiffel Tower (in driving miles)?\",\n",
    "    \"Where is the Arc de Triomphe?\",\n",
    "    \"What are the must-see artworks at the Louvre Museum?\",\n",
    "]\n",
    "\n",
    "# Loop through each question to generate responses\n",
    "for question in questions:\n",
    "\n",
    "    # Format the user input into dictionary form\n",
    "    input_dict = {\"role\": \"user\", \"content\": question}\n",
    "    \n",
    "    # Add the user input dictionary to the conversation\n",
    "    conversation.append(input_dict)  \n",
    "\n",
    "    # Make the next API call\n",
    "    response = client.chat.completions.create(\n",
    "        model=model,\n",
    "        messages=conversation,\n",
    "        temperature=0.0,\n",
    "        max_tokens=200\n",
    "    )\n",
    "\n",
    "    # Print the response from the model\n",
    "    resp = response.choices[0].message.content\n",
    "    print(resp)\n",
    "\n",
    "    # Convert the response into the dictionary\n",
    "    resp_dict = {\"role\": \"assistant\", \"content\": resp}\n",
    "    \n",
    "    # Append the response to the conversation\n",
    "    conversation.append(resp_dict)"
   ]
  }
 ],
 "metadata": {
  "kernelspec": {
   "display_name": "Python 3",
   "language": "python",
   "name": "python3"
  },
  "language_info": {
   "codemirror_mode": {
    "name": "ipython",
    "version": 3
   },
   "file_extension": ".py",
   "mimetype": "text/x-python",
   "name": "python",
   "nbconvert_exporter": "python",
   "pygments_lexer": "ipython3",
   "version": "3.12.4"
  }
 },
 "nbformat": 4,
 "nbformat_minor": 2
}
