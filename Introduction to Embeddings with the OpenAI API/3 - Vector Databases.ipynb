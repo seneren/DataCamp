{
 "cells": [
  {
   "cell_type": "markdown",
   "metadata": {},
   "source": [
    "# **Vector databases for embedding systems**\n",
    "\n",
    "<img src = './images/limits-of-current-approach.png' width=50% height=50%>\n",
    "\n",
    "So far, we've created embeddings using the OpenAI API and stored them in-memory. \n",
    "\n",
    "* Loading all the embeddings into memory (1536 floats ~ 13kB/embedding), which becomes impractical to load for 100,000s or millions of embeddings. \n",
    "* Recalculated these embeddings with every query rather than storing them for later use. \n",
    "* We computed cosine distances for every embedded document and sorted the results, which are both slow processes that scale linearly. \n",
    "\n",
    "To enable embeddings applications with larger datasets in production, we'll need a better solution: __vector databases__!"
   ]
  },
  {
   "cell_type": "markdown",
   "metadata": {},
   "source": [
    "## **Vector databases**\n",
    "\n",
    "Here's a typical embeddings application: \n",
    "\n",
    "<img src = './images/embedding-app-arch.png' width=50% height=50%>\n",
    "\n",
    "* Embedded documents are _stored_ and _queried_ from the __vector database__\n",
    "\n",
    "- The documents to query are embedded and stored in the vector database. \n",
    "- A query is sent from the application interface, embedded, and used to query the embeddings in the database. This query can be a semantic search query or data to base recommendations on. \n",
    "- Finally, these results are returned by to the user via the application interface. \n",
    "\n",
    "Because the embedded documents are stored in the vector database, they don't have to created with each query or stored in-memory. Additionally, due to the architecture of the database, the similarity calculation is computed much more efficiently.\n",
    "\n",
    "### **NoSQL databases vs SQL databases**\n",
    "\n",
    "The majority of vector databases are what's called NoSQL databases, which contrasts conventional databases.\n",
    "\n",
    "<div style=\"display: flex;\">\n",
    "    <div style=\"flex: 50%; padding: 5px; border-right: 2px solid DodgerBlue;\">\n",
    "        **NoSQL Database**  <br>\n",
    "        <div style=\"text-align: center;\">\n",
    "            <img src='./images/nosql-db.png' width=75% height=80%>\n",
    "        </div>\n",
    "        NoSQL databases don't use tables\n",
    "        <ul>\n",
    "            <li>More flexible structure that allows for <i>faster querying</i></li>\n",
    "            <li>Three examples are shown above: including key:value, document, and graph databases</li>\n",
    "        </ul>\n",
    "    </div>\n",
    "    <div style=\"flex: 50%; padding: 5px;\">\n",
    "        **SQL/Relational Database**  <br>\n",
    "        <div style=\"text-align: center;\">\n",
    "            <img src='./images/sql-db.png' width=75% height=80%>\n",
    "        </div>\n",
    "        <ul>\n",
    "            <li>Structured data into tables, rows. and columns</li>\n",
    "        </ul>\n",
    "    </div>\n",
    "</div>\n",
    "\n",
    "### **The vector database landscape**\n",
    "\n",
    "<img src='./images/vector-db-options.png' width=60% height=60%>\n",
    "\n",
    "When deciding which database solution to go with, there are several factors to consider.\n",
    "\n",
    "### **Which solution is best?**\n",
    "\n",
    "<div style=\"display: flex;\">\n",
    "    <div style=\"flex: 50%; padding: 5px; border-right: 2px solid DodgerBlue;\">\n",
    "        <ul>\n",
    "           <li><b>Database management</b></li>\n",
    "           <ul>\n",
    "               <li>Managed &#x2192; more expensive but lowers workload.</li>\n",
    "               <li>Self-managed &#x2192; cheaper but requires time and expertise\n",
    "            </ul>\n",
    "        </ul>\n",
    "        <ul>\n",
    "            <li><b>Open source or commercial?</b></li>\n",
    "            <ul>\n",
    "               <li>Open source &#x2192; flexible and cost-effective if budgets are tight</li>\n",
    "               <li>Commercial &#x2192; offers better support, more advanced features, and compliance</li>\n",
    "        </ul>\n",
    "    </div>\n",
    "    <div style=\"flex: 50%; padding: 5px;\">\n",
    "        <ul>\n",
    "            <li><b>Data models</b>: does the type of data lend itself to a particular database type?</li>\n",
    "            <li><b> Specific features</b>: does your use case depend on specific functionality, like embedding and storung both text and images for a multi-modal application?</li>\n",
    "        </ul>\n",
    "        In this course, we'll be using Chroma, as it's open-source and quick to set up.\n",
    "        <div style=\"text-align: center;\">\n",
    "            <img src='./images/chroma.png' width=50% height=50%>\n",
    "        </div>\n",
    "    </div>\n",
    "</div>\n",
    "\n"
   ]
  },
  {
   "cell_type": "markdown",
   "metadata": {},
   "source": [
    "## **Creating vector databases with ChromaDB**"
   ]
  },
  {
   "cell_type": "markdown",
   "metadata": {},
   "source": []
  }
 ],
 "metadata": {
  "kernelspec": {
   "display_name": "Python 3",
   "language": "python",
   "name": "python3"
  },
  "language_info": {
   "name": "python",
   "version": "3.12.4"
  }
 },
 "nbformat": 4,
 "nbformat_minor": 2
}
