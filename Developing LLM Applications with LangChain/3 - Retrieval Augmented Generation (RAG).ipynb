{
 "cells": [
  {
   "cell_type": "markdown",
   "metadata": {},
   "source": [
    "## **Integrating document loaders**\n",
    "\n",
    "Pre-trained language models don't have access to external data sources - their understanding comes purely from their training data. This means that if we require our model to have knowledge that goes beyond its training data, such as\n",
    "- company data,\n",
    "- knowledge of more recent world events,\n",
    "- or even a specific document,\n",
    "\n",
    "we need a way of integrating that data.\n",
    "\n",
    "<img src='./images/rag.png' width=60%>\n",
    "\n",
    "In RAG,\n",
    "- Use __embeddings__ to _retrieve_ relevant information to integrate into the _prompt_\n",
    "\n",
    "so that the model has extra context to inform its response.\n",
    "\n",
    "### **RAG development steps**\n",
    "\n",
    "<img src='./images/rag-dev-steps.png' width=60%>\n",
    "\n",
    "There are three primary steps to RAG development in LangChain. \n",
    "\n",
    "1. Document loader; loading the documents into LangChain\n",
    "2. Splitting; is the step if splitting the documents into chunks. Chunks are units of information that we can index and process individually.\n",
    "3. Storage + Retrieval; is the step that encodes and stores the chunks for retrieval, which could utilize a vector database if that meets the needs of the use case.\n",
    "\n",
    "### **1. LangChain document loaders**\n",
    "\n",
    "- LangChain document loaders are classes desined to _load_ and _configure_ documents for system integration.\n",
    "- LancChain provides document loader classes for common file types such as CSV and PDFs.\n",
    "- There are also additional loaders provided by 3rd parties for managing unique document formats, including\n",
    "  - Amazon S3 files\n",
    "  - Jupyter notebooks (.ipynb)\n",
    "  - Audio transcripts (.wav, etc.)\n",
    "  - and many more.\n",
    "\n",
    "In this chapter, we will practice loading data from three common formats: PDFs, CSVs, and HTML.\n",
    "\n",
    "LangChain has documentation on all of its document loaders, and there's a lot of overlap in sytax. Check it out, [here](https://python.langchain.com/docs/integrations/document_loaders)!\n",
    "\n",
    "1. __PDF document loader__\n",
    "\n",
    "    There are a few different types of PDF loaders in LangChain, and there is documentation available online for each. Here we will use `PyPDFLoader`.\n",
    "    \n",
    "    We instantiate the PyPDFLoader class passing in the path to the PDF file we're loading.\n",
    "\n",
    "    Finally, we use the.load() method to load the document into memory, and assing the resulting object to the data variable."
   ]
  },
  {
   "cell_type": "markdown",
   "metadata": {},
   "source": []
  },
  {
   "cell_type": "code",
   "execution_count": 5,
   "metadata": {},
   "outputs": [
    {
     "name": "stdout",
     "output_type": "stream",
     "text": [
      "page_content='Provided proper attribution is provided, Google hereby grants permission to\n",
      "reproduce the tables and figures in this paper solely for use in journalistic or\n",
      "scholarly works.\n",
      "Attention Is All You Need\n",
      "Ashish Vaswani∗\n",
      "Google Brain\n",
      "avaswani@google.com\n",
      "Noam Shazeer∗\n",
      "Google Brain\n",
      "noam@google.com\n",
      "Niki Parmar∗\n",
      "Google Research\n",
      "nikip@google.com\n",
      "Jakob Uszkoreit∗\n",
      "Google Research\n",
      "usz@google.com\n",
      "Llion Jones∗\n",
      "Google Research\n",
      "llion@google.com\n",
      "Aidan N. Gomez∗ †\n",
      "University of Toronto\n",
      "aidan@cs.toronto.edu\n",
      "Łukasz Kaiser∗\n",
      "Google Brain\n",
      "lukaszkaiser@google.com\n",
      "Illia Polosukhin∗ ‡\n",
      "illia.polosukhin@gmail.com\n",
      "Abstract\n",
      "The dominant sequence transduction models are based on complex recurrent or\n",
      "convolutional neural networks that include an encoder and a decoder. The best\n",
      "performing models also connect the encoder and decoder through an attention\n",
      "mechanism. We propose a new simple network architecture, the Transformer,\n",
      "based solely on attention mechanisms, dispensing with recurrence and convolutions\n",
      "entirely. Experiments on two machine translation tasks show these models to\n",
      "be superior in quality while being more parallelizable and requiring significantly\n",
      "less time to train. Our model achieves 28.4 BLEU on the WMT 2014 English-\n",
      "to-German translation task, improving over the existing best results, including\n",
      "ensembles, by over 2 BLEU. On the WMT 2014 English-to-French translation task,\n",
      "our model establishes a new single-model state-of-the-art BLEU score of 41.8 after\n",
      "training for 3.5 days on eight GPUs, a small fraction of the training costs of the\n",
      "best models from the literature. We show that the Transformer generalizes well to\n",
      "other tasks by applying it successfully to English constituency parsing both with\n",
      "large and limited training data.\n",
      "∗Equal contribution. Listing order is random. Jakob proposed replacing RNNs with self-attention and started\n",
      "the effort to evaluate this idea. Ashish, with Illia, designed and implemented the first Transformer models and\n",
      "has been crucially involved in every aspect of this work. Noam proposed scaled dot-product attention, multi-head\n",
      "attention and the parameter-free position representation and became the other person involved in nearly every\n",
      "detail. Niki designed, implemented, tuned and evaluated countless model variants in our original codebase and\n",
      "tensor2tensor. Llion also experimented with novel model variants, was responsible for our initial codebase, and\n",
      "efficient inference and visualizations. Lukasz and Aidan spent countless long days designing various parts of and\n",
      "implementing tensor2tensor, replacing our earlier codebase, greatly improving results and massively accelerating\n",
      "our research.\n",
      "†Work performed while at Google Brain.\n",
      "‡Work performed while at Google Research.\n",
      "31st Conference on Neural Information Processing Systems (NIPS 2017), Long Beach, CA, USA.\n",
      "arXiv:1706.03762v7  [cs.CL]  2 Aug 2023' metadata={'producer': 'pdfTeX-1.40.25', 'creator': 'LaTeX with hyperref', 'creationdate': '2024-04-10T21:11:43+00:00', 'author': '', 'keywords': '', 'moddate': '2024-04-10T21:11:43+00:00', 'ptex.fullbanner': 'This is pdfTeX, Version 3.141592653-2.6-1.40.25 (TeX Live 2023) kpathsea version 6.3.5', 'subject': '', 'title': '', 'trapped': '/False', 'source': './datasets/attention_is_all_you_need.pdf', 'total_pages': 15, 'page': 0, 'page_label': '1'}\n"
     ]
    }
   ],
   "source": [
    "from langchain_community.document_loaders import PyPDFLoader\n",
    "\n",
    "loader = PyPDFLoader('./datasets/attention_is_all_you_need.pdf')\n",
    "\n",
    "data = loader.load()\n",
    "\n",
    "print(data[0])"
   ]
  },
  {
   "cell_type": "markdown",
   "metadata": {},
   "source": [
    "2. __CSV document loader__\n",
    "\n",
    "    When loading CSV's, the syntax is very similar to the PDF loader, but instead we use `CSVLoader` class."
   ]
  },
  {
   "cell_type": "code",
   "execution_count": 19,
   "metadata": {},
   "outputs": [
    {
     "name": "stdout",
     "output_type": "stream",
     "text": [
      "[Document(metadata={'source': './datasets/fifa_countries_audience.csv', 'row': 0}, page_content='country: United States\\nconfederation: CONCACAF\\npopulation_share: 4.5\\ntv_audience_share: 4.3\\ngdp_weighted_share: 11.3'), Document(metadata={'source': './datasets/fifa_countries_audience.csv', 'row': 1}, page_content='country: Japan\\nconfederation: AFC\\npopulation_share: 1.9\\ntv_audience_share: 4.9\\ngdp_weighted_share: 9.1'), Document(metadata={'source': './datasets/fifa_countries_audience.csv', 'row': 2}, page_content='country: China\\nconfederation: AFC\\npopulation_share: 19.5\\ntv_audience_share: 14.8\\ngdp_weighted_share: 7.3'), Document(metadata={'source': './datasets/fifa_countries_audience.csv', 'row': 3}, page_content='country: Germany\\nconfederation: UEFA\\npopulation_share: 1.2\\ntv_audience_share: 2.9\\ngdp_weighted_share: 6.3'), Document(metadata={'source': './datasets/fifa_countries_audience.csv', 'row': 4}, page_content='country: Brazil\\nconfederation: CONMEBOL\\npopulation_share: 2.8\\ntv_audience_share: 7.1\\ngdp_weighted_share: 5.4'), Document(metadata={'source': './datasets/fifa_countries_audience.csv', 'row': 5}, page_content='country: United Kingdom\\nconfederation: UEFA\\npopulation_share: 0.9\\ntv_audience_share: 2.1\\ngdp_weighted_share: 4.2'), Document(metadata={'source': './datasets/fifa_countries_audience.csv', 'row': 6}, page_content='country: Italy\\nconfederation: UEFA\\npopulation_share: 0.9\\ntv_audience_share: 2.1\\ngdp_weighted_share: 4.0'), Document(metadata={'source': './datasets/fifa_countries_audience.csv', 'row': 7}, page_content='country: France\\nconfederation: UEFA\\npopulation_share: 0.9\\ntv_audience_share: 2.0\\ngdp_weighted_share: 4.0'), Document(metadata={'source': './datasets/fifa_countries_audience.csv', 'row': 8}, page_content='country: Russia\\nconfederation: UEFA\\npopulation_share: 2.1\\ntv_audience_share: 3.1\\ngdp_weighted_share: 3.5'), Document(metadata={'source': './datasets/fifa_countries_audience.csv', 'row': 9}, page_content='country: Spain\\nconfederation: UEFA\\npopulation_share: 0.7\\ntv_audience_share: 1.8\\ngdp_weighted_share: 3.1'), Document(metadata={'source': './datasets/fifa_countries_audience.csv', 'row': 10}, page_content='country: South Korea\\nconfederation: AFC\\npopulation_share: 0.7\\ntv_audience_share: 1.8\\ngdp_weighted_share: 3.0'), Document(metadata={'source': './datasets/fifa_countries_audience.csv', 'row': 11}, page_content='country: Indonesia\\nconfederation: AFC\\npopulation_share: 3.5\\ntv_audience_share: 6.7\\ngdp_weighted_share: 2.9'), Document(metadata={'source': './datasets/fifa_countries_audience.csv', 'row': 12}, page_content='country: Mexico\\nconfederation: CONCACAF\\npopulation_share: 1.7\\ntv_audience_share: 3.2\\ngdp_weighted_share: 2.6'), Document(metadata={'source': './datasets/fifa_countries_audience.csv', 'row': 13}, page_content='country: Turkey\\nconfederation: UEFA\\npopulation_share: 1.1\\ntv_audience_share: 2.3\\ngdp_weighted_share: 2.0'), Document(metadata={'source': './datasets/fifa_countries_audience.csv', 'row': 14}, page_content='country: Thailand\\nconfederation: AFC\\npopulation_share: 1.0\\ntv_audience_share: 2.4\\ngdp_weighted_share: 1.6'), Document(metadata={'source': './datasets/fifa_countries_audience.csv', 'row': 15}, page_content='country: Argentina\\nconfederation: CONMEBOL\\npopulation_share: 0.6\\ntv_audience_share: 1.5\\ngdp_weighted_share: 1.6'), Document(metadata={'source': './datasets/fifa_countries_audience.csv', 'row': 16}, page_content='country: Netherlands\\nconfederation: UEFA\\npopulation_share: 0.2\\ntv_audience_share: 0.6\\ngdp_weighted_share: 1.5'), Document(metadata={'source': './datasets/fifa_countries_audience.csv', 'row': 17}, page_content='country: Poland\\nconfederation: UEFA\\npopulation_share: 0.6\\ntv_audience_share: 1.2\\ngdp_weighted_share: 1.3'), Document(metadata={'source': './datasets/fifa_countries_audience.csv', 'row': 18}, page_content='country: Saudi Arabia\\nconfederation: AFC\\npopulation_share: 0.4\\ntv_audience_share: 0.5\\ngdp_weighted_share: 1.2'), Document(metadata={'source': './datasets/fifa_countries_audience.csv', 'row': 19}, page_content='country: Taiwan\\nconfederation: AFC\\npopulation_share: 0.3\\ntv_audience_share: 0.5\\ngdp_weighted_share: 1.0'), Document(metadata={'source': './datasets/fifa_countries_audience.csv', 'row': 20}, page_content='country: Canada\\nconfederation: CONCACAF\\npopulation_share: 0.5\\ntv_audience_share: 0.5\\ngdp_weighted_share: 1.0'), Document(metadata={'source': './datasets/fifa_countries_audience.csv', 'row': 21}, page_content='country: Colombia\\nconfederation: CONMEBOL\\npopulation_share: 0.7\\ntv_audience_share: 1.6\\ngdp_weighted_share: 0.9'), Document(metadata={'source': './datasets/fifa_countries_audience.csv', 'row': 22}, page_content='country: Venezuela\\nconfederation: CONMEBOL\\npopulation_share: 0.4\\ntv_audience_share: 1.0\\ngdp_weighted_share: 0.9'), Document(metadata={'source': './datasets/fifa_countries_audience.csv', 'row': 23}, page_content='country: South Africa\\nconfederation: CAF\\npopulation_share: 0.7\\ntv_audience_share: 1.3\\ngdp_weighted_share: 0.8'), Document(metadata={'source': './datasets/fifa_countries_audience.csv', 'row': 24}, page_content='country: Malaysia\\nconfederation: AFC\\npopulation_share: 0.4\\ntv_audience_share: 0.7\\ngdp_weighted_share: 0.7'), Document(metadata={'source': './datasets/fifa_countries_audience.csv', 'row': 25}, page_content='country: Switzerland\\nconfederation: UEFA\\npopulation_share: 0.1\\ntv_audience_share: 0.3\\ngdp_weighted_share: 0.7'), Document(metadata={'source': './datasets/fifa_countries_audience.csv', 'row': 26}, page_content='country: Nigeria\\nconfederation: CAF\\npopulation_share: 2.3\\ntv_audience_share: 2.6\\ngdp_weighted_share: 0.7'), Document(metadata={'source': './datasets/fifa_countries_audience.csv', 'row': 27}, page_content='country: Belgium\\nconfederation: UEFA\\npopulation_share: 0.2\\ntv_audience_share: 0.3\\ngdp_weighted_share: 0.7'), Document(metadata={'source': './datasets/fifa_countries_audience.csv', 'row': 28}, page_content='country: Sweden\\nconfederation: UEFA\\npopulation_share: 0.1\\ntv_audience_share: 0.3\\ngdp_weighted_share: 0.7'), Document(metadata={'source': './datasets/fifa_countries_audience.csv', 'row': 29}, page_content='country: Vietnam\\nconfederation: AFC\\npopulation_share: 1.3\\ntv_audience_share: 2.6\\ngdp_weighted_share: 0.6'), Document(metadata={'source': './datasets/fifa_countries_audience.csv', 'row': 30}, page_content='country: Iran\\nconfederation: AFC\\npopulation_share: 1.1\\ntv_audience_share: 0.7\\ngdp_weighted_share: 0.6'), Document(metadata={'source': './datasets/fifa_countries_audience.csv', 'row': 31}, page_content='country: Chile\\nconfederation: CONMEBOL\\npopulation_share: 0.3\\ntv_audience_share: 0.6\\ngdp_weighted_share: 0.6'), Document(metadata={'source': './datasets/fifa_countries_audience.csv', 'row': 32}, page_content='country: Romania\\nconfederation: UEFA\\npopulation_share: 0.3\\ntv_audience_share: 0.7\\ngdp_weighted_share: 0.6'), Document(metadata={'source': './datasets/fifa_countries_audience.csv', 'row': 33}, page_content='country: Austria\\nconfederation: UEFA\\npopulation_share: 0.1\\ntv_audience_share: 0.3\\ngdp_weighted_share: 0.6'), Document(metadata={'source': './datasets/fifa_countries_audience.csv', 'row': 34}, page_content='country: Singapore\\nconfederation: AFC\\npopulation_share: 0.1\\ntv_audience_share: 0.2\\ngdp_weighted_share: 0.6'), Document(metadata={'source': './datasets/fifa_countries_audience.csv', 'row': 35}, page_content='country: Australia\\nconfederation: AFC\\npopulation_share: 0.3\\ntv_audience_share: 0.3\\ngdp_weighted_share: 0.5'), Document(metadata={'source': './datasets/fifa_countries_audience.csv', 'row': 36}, page_content='country: Greece\\nconfederation: UEFA\\npopulation_share: 0.2\\ntv_audience_share: 0.3\\ngdp_weighted_share: 0.5'), Document(metadata={'source': './datasets/fifa_countries_audience.csv', 'row': 37}, page_content='country: Portugal\\nconfederation: UEFA\\npopulation_share: 0.2\\ntv_audience_share: 0.4\\ngdp_weighted_share: 0.5'), Document(metadata={'source': './datasets/fifa_countries_audience.csv', 'row': 38}, page_content='country: India\\nconfederation: AFC\\npopulation_share: 17.6\\ntv_audience_share: 2.0\\ngdp_weighted_share: 0.5'), Document(metadata={'source': './datasets/fifa_countries_audience.csv', 'row': 39}, page_content='country: Czech Republic\\nconfederation: UEFA\\npopulation_share: 0.2\\ntv_audience_share: 0.3\\ngdp_weighted_share: 0.5'), Document(metadata={'source': './datasets/fifa_countries_audience.csv', 'row': 40}, page_content='country: Egypt\\nconfederation: CAF\\npopulation_share: 1.1\\ntv_audience_share: 0.8\\ngdp_weighted_share: 0.5'), Document(metadata={'source': './datasets/fifa_countries_audience.csv', 'row': 41}, page_content='country: Denmark\\nconfederation: UEFA\\npopulation_share: 0.1\\ntv_audience_share: 0.2\\ngdp_weighted_share: 0.5'), Document(metadata={'source': './datasets/fifa_countries_audience.csv', 'row': 42}, page_content='country: Norway\\nconfederation: UEFA\\npopulation_share: 0.1\\ntv_audience_share: 0.1\\ngdp_weighted_share: 0.4'), Document(metadata={'source': './datasets/fifa_countries_audience.csv', 'row': 43}, page_content='country: Peru\\nconfederation: CONMEBOL\\npopulation_share: 0.4\\ntv_audience_share: 0.8\\ngdp_weighted_share: 0.4'), Document(metadata={'source': './datasets/fifa_countries_audience.csv', 'row': 44}, page_content='country: Ukraine\\nconfederation: UEFA\\npopulation_share: 0.7\\ntv_audience_share: 0.9\\ngdp_weighted_share: 0.4'), Document(metadata={'source': './datasets/fifa_countries_audience.csv', 'row': 45}, page_content='country: Iraq\\nconfederation: AFC\\npopulation_share: 0.5\\ntv_audience_share: 0.5\\ngdp_weighted_share: 0.4'), Document(metadata={'source': './datasets/fifa_countries_audience.csv', 'row': 46}, page_content='country: Hungary\\nconfederation: UEFA\\npopulation_share: 0.1\\ntv_audience_share: 0.3\\ngdp_weighted_share: 0.4'), Document(metadata={'source': './datasets/fifa_countries_audience.csv', 'row': 47}, page_content='country: Kazakhstan\\nconfederation: UEFA\\npopulation_share: 0.2\\ntv_audience_share: 0.3\\ngdp_weighted_share: 0.3'), Document(metadata={'source': './datasets/fifa_countries_audience.csv', 'row': 48}, page_content='country: Finland\\nconfederation: UEFA\\npopulation_share: 0.1\\ntv_audience_share: 0.2\\ngdp_weighted_share: 0.3'), Document(metadata={'source': './datasets/fifa_countries_audience.csv', 'row': 49}, page_content='country: Ireland\\nconfederation: UEFA\\npopulation_share: 0.1\\ntv_audience_share: 0.1\\ngdp_weighted_share: 0.3'), Document(metadata={'source': './datasets/fifa_countries_audience.csv', 'row': 50}, page_content='country: Algeria\\nconfederation: CAF\\npopulation_share: 0.5\\ntv_audience_share: 0.4\\ngdp_weighted_share: 0.3'), Document(metadata={'source': './datasets/fifa_countries_audience.csv', 'row': 51}, page_content='country: Cuba\\nconfederation: CONCACAF\\npopulation_share: 0.2\\ntv_audience_share: 0.3\\ngdp_weighted_share: 0.3'), Document(metadata={'source': './datasets/fifa_countries_audience.csv', 'row': 52}, page_content='country: Ecuador\\nconfederation: CONMEBOL\\npopulation_share: 0.2\\ntv_audience_share: 0.5\\ngdp_weighted_share: 0.3'), Document(metadata={'source': './datasets/fifa_countries_audience.csv', 'row': 53}, page_content='country: Slovakia\\nconfederation: UEFA\\npopulation_share: 0.1\\ntv_audience_share: 0.2\\ngdp_weighted_share: 0.3'), Document(metadata={'source': './datasets/fifa_countries_audience.csv', 'row': 54}, page_content='country: Qatar\\nconfederation: AFC\\npopulation_share: 0.0\\ntv_audience_share: 0.0\\ngdp_weighted_share: 0.2'), Document(metadata={'source': './datasets/fifa_countries_audience.csv', 'row': 55}, page_content='country: Kuwait\\nconfederation: AFC\\npopulation_share: 0.0\\ntv_audience_share: 0.1\\ngdp_weighted_share: 0.2'), Document(metadata={'source': './datasets/fifa_countries_audience.csv', 'row': 56}, page_content='country: Bulgaria\\nconfederation: UEFA\\npopulation_share: 0.1\\ntv_audience_share: 0.2\\ngdp_weighted_share: 0.2'), Document(metadata={'source': './datasets/fifa_countries_audience.csv', 'row': 57}, page_content='country: Serbia\\nconfederation: UEFA\\npopulation_share: 0.1\\ntv_audience_share: 0.3\\ngdp_weighted_share: 0.2'), Document(metadata={'source': './datasets/fifa_countries_audience.csv', 'row': 58}, page_content='country: Belarus\\nconfederation: UEFA\\npopulation_share: 0.1\\ntv_audience_share: 0.2\\ngdp_weighted_share: 0.2'), Document(metadata={'source': './datasets/fifa_countries_audience.csv', 'row': 59}, page_content='country: Hong Kong\\nconfederation: AFC\\npopulation_share: 0.1\\ntv_audience_share: 0.1\\ngdp_weighted_share: 0.2'), Document(metadata={'source': './datasets/fifa_countries_audience.csv', 'row': 60}, page_content='country: Croatia\\nconfederation: UEFA\\npopulation_share: 0.1\\ntv_audience_share: 0.1\\ngdp_weighted_share: 0.1'), Document(metadata={'source': './datasets/fifa_countries_audience.csv', 'row': 61}, page_content='country: Oman\\nconfederation: AFC\\npopulation_share: 0.0\\ntv_audience_share: 0.0\\ngdp_weighted_share: 0.1'), Document(metadata={'source': './datasets/fifa_countries_audience.csv', 'row': 62}, page_content='country: Dominica Republic\\nconfederation: CONCACAF\\npopulation_share: 0.1\\ntv_audience_share: 0.2\\ngdp_weighted_share: 0.1'), Document(metadata={'source': './datasets/fifa_countries_audience.csv', 'row': 63}, page_content='country: Azerbaijan\\nconfederation: UEFA\\npopulation_share: 0.1\\ntv_audience_share: 0.1\\ngdp_weighted_share: 0.1'), Document(metadata={'source': './datasets/fifa_countries_audience.csv', 'row': 64}, page_content='country: New Zealand\\nconfederation: OFC\\npopulation_share: 0.1\\ntv_audience_share: 0.1\\ngdp_weighted_share: 0.1'), Document(metadata={'source': './datasets/fifa_countries_audience.csv', 'row': 65}, page_content='country: Lithuania\\nconfederation: UEFA\\npopulation_share: 0.0\\ntv_audience_share: 0.1\\ngdp_weighted_share: 0.1'), Document(metadata={'source': './datasets/fifa_countries_audience.csv', 'row': 66}, page_content='country: Slovenia\\nconfederation: UEFA\\npopulation_share: 0.0\\ntv_audience_share: 0.1\\ngdp_weighted_share: 0.1'), Document(metadata={'source': './datasets/fifa_countries_audience.csv', 'row': 67}, page_content='country: Uruguay\\nconfederation: CONMEBOL\\npopulation_share: 0.0\\ntv_audience_share: 0.1\\ngdp_weighted_share: 0.1'), Document(metadata={'source': './datasets/fifa_countries_audience.csv', 'row': 68}, page_content='country: Costa Rica\\nconfederation: CONCACAF\\npopulation_share: 0.1\\ntv_audience_share: 0.2\\ngdp_weighted_share: 0.1'), Document(metadata={'source': './datasets/fifa_countries_audience.csv', 'row': 69}, page_content='country: Uzbekistan\\nconfederation: AFC\\npopulation_share: 0.4\\ntv_audience_share: 0.5\\ngdp_weighted_share: 0.1'), Document(metadata={'source': './datasets/fifa_countries_audience.csv', 'row': 70}, page_content='country: Yemen\\nconfederation: CAF\\npopulation_share: 0.3\\ntv_audience_share: 0.4\\ngdp_weighted_share: 0.1'), Document(metadata={'source': './datasets/fifa_countries_audience.csv', 'row': 71}, page_content='country: Israel\\nconfederation: UEFA\\npopulation_share: 0.1\\ntv_audience_share: 0.1\\ngdp_weighted_share: 0.1'), Document(metadata={'source': './datasets/fifa_countries_audience.csv', 'row': 72}, page_content='country: El Salvador\\nconfederation: CONCACAF\\npopulation_share: 0.1\\ntv_audience_share: 0.2\\ngdp_weighted_share: 0.1'), Document(metadata={'source': './datasets/fifa_countries_audience.csv', 'row': 73}, page_content='country: Syria\\nconfederation: AFC\\npopulation_share: 0.3\\ntv_audience_share: 0.3\\ngdp_weighted_share: 0.1'), Document(metadata={'source': './datasets/fifa_countries_audience.csv', 'row': 74}, page_content='country: Pakistan\\nconfederation: AFC\\npopulation_share: 2.5\\ntv_audience_share: 0.4\\ngdp_weighted_share: 0.1'), Document(metadata={'source': './datasets/fifa_countries_audience.csv', 'row': 75}, page_content='country: Guatemala\\nconfederation: CONCACAF\\npopulation_share: 0.2\\ntv_audience_share: 0.2\\ngdp_weighted_share: 0.1'), Document(metadata={'source': './datasets/fifa_countries_audience.csv', 'row': 76}, page_content='country: Paraguay\\nconfederation: CONMEBOL\\npopulation_share: 0.1\\ntv_audience_share: 0.2\\ngdp_weighted_share: 0.1'), Document(metadata={'source': './datasets/fifa_countries_audience.csv', 'row': 77}, page_content='country: Panama\\nconfederation: CONCACAF\\npopulation_share: 0.1\\ntv_audience_share: 0.1\\ngdp_weighted_share: 0.1'), Document(metadata={'source': './datasets/fifa_countries_audience.csv', 'row': 78}, page_content='country: Bosnia-Herzegovina\\nconfederation: UEFA\\npopulation_share: 0.1\\ntv_audience_share: 0.1\\ngdp_weighted_share: 0.1'), Document(metadata={'source': './datasets/fifa_countries_audience.csv', 'row': 79}, page_content='country: Cambodia\\nconfederation: AFC\\npopulation_share: 0.2\\ntv_audience_share: 0.5\\ngdp_weighted_share: 0.1'), Document(metadata={'source': './datasets/fifa_countries_audience.csv', 'row': 80}, page_content='country: Ivory Coast\\nconfederation: CAF\\npopulation_share: 0.3\\ntv_audience_share: 0.4\\ngdp_weighted_share: 0.1'), Document(metadata={'source': './datasets/fifa_countries_audience.csv', 'row': 81}, page_content='country: Macau\\nconfederation: AFC\\npopulation_share: 0.0\\ntv_audience_share: 0.0\\ngdp_weighted_share: 0.1'), Document(metadata={'source': './datasets/fifa_countries_audience.csv', 'row': 82}, page_content='country: Latvia\\nconfederation: UEFA\\npopulation_share: 0.0\\ntv_audience_share: 0.1\\ngdp_weighted_share: 0.1'), Document(metadata={'source': './datasets/fifa_countries_audience.csv', 'row': 83}, page_content='country: Lebanon\\nconfederation: AFC\\npopulation_share: 0.1\\ntv_audience_share: 0.1\\ngdp_weighted_share: 0.1'), Document(metadata={'source': './datasets/fifa_countries_audience.csv', 'row': 84}, page_content='country: Jordan\\nconfederation: AFC\\npopulation_share: 0.1\\ntv_audience_share: 0.1\\ngdp_weighted_share: 0.1'), Document(metadata={'source': './datasets/fifa_countries_audience.csv', 'row': 85}, page_content='country: Honduras\\nconfederation: CONCACAF\\npopulation_share: 0.1\\ntv_audience_share: 0.3\\ngdp_weighted_share: 0.1'), Document(metadata={'source': './datasets/fifa_countries_audience.csv', 'row': 86}, page_content='country: Brunei\\nconfederation: AFC\\npopulation_share: 0.0\\ntv_audience_share: 0.0\\ngdp_weighted_share: 0.1'), Document(metadata={'source': './datasets/fifa_countries_audience.csv', 'row': 87}, page_content='country: Albania\\nconfederation: UEFA\\npopulation_share: 0.0\\ntv_audience_share: 0.1\\ngdp_weighted_share: 0.1'), Document(metadata={'source': './datasets/fifa_countries_audience.csv', 'row': 88}, page_content='country: Turkmenistan\\nconfederation: AFC\\npopulation_share: 0.1\\ntv_audience_share: 0.1\\ngdp_weighted_share: 0.1'), Document(metadata={'source': './datasets/fifa_countries_audience.csv', 'row': 89}, page_content='country: Angola\\nconfederation: CAF\\npopulation_share: 0.3\\ntv_audience_share: 0.1\\ngdp_weighted_share: 0.1'), Document(metadata={'source': './datasets/fifa_countries_audience.csv', 'row': 90}, page_content='country: Estonia\\nconfederation: UEFA\\npopulation_share: 0.0\\ntv_audience_share: 0.0\\ngdp_weighted_share: 0.0'), Document(metadata={'source': './datasets/fifa_countries_audience.csv', 'row': 91}, page_content='country: Bahrain\\nconfederation: AFC\\npopulation_share: 0.0\\ntv_audience_share: 0.0\\ngdp_weighted_share: 0.0'), Document(metadata={'source': './datasets/fifa_countries_audience.csv', 'row': 92}, page_content='country: Nepal\\nconfederation: AFC\\npopulation_share: 0.4\\ntv_audience_share: 0.4\\ngdp_weighted_share: 0.0'), Document(metadata={'source': './datasets/fifa_countries_audience.csv', 'row': 93}, page_content='country: Cyprus\\nconfederation: UEFA\\npopulation_share: 0.0\\ntv_audience_share: 0.0\\ngdp_weighted_share: 0.0'), Document(metadata={'source': './datasets/fifa_countries_audience.csv', 'row': 94}, page_content='country: Ghana\\nconfederation: CAF\\npopulation_share: 0.4\\ntv_audience_share: 0.2\\ngdp_weighted_share: 0.0'), Document(metadata={'source': './datasets/fifa_countries_audience.csv', 'row': 95}, page_content='country: Mauritius\\nconfederation: CAF\\npopulation_share: 0.0\\ntv_audience_share: 0.0\\ngdp_weighted_share: 0.0'), Document(metadata={'source': './datasets/fifa_countries_audience.csv', 'row': 96}, page_content='country: Macedonia\\nconfederation: UEFA\\npopulation_share: 0.0\\ntv_audience_share: 0.1\\ngdp_weighted_share: 0.0'), Document(metadata={'source': './datasets/fifa_countries_audience.csv', 'row': 97}, page_content='country: Kenya\\nconfederation: CAF\\npopulation_share: 0.6\\ntv_audience_share: 0.3\\ngdp_weighted_share: 0.0'), Document(metadata={'source': './datasets/fifa_countries_audience.csv', 'row': 98}, page_content='country: Trinidad &Tobago\\nconfederation: CONCACAF\\npopulation_share: 0.0\\ntv_audience_share: 0.0\\ngdp_weighted_share: 0.0'), Document(metadata={'source': './datasets/fifa_countries_audience.csv', 'row': 99}, page_content='country: Philippines\\nconfederation: AFC\\npopulation_share: 1.4\\ntv_audience_share: 0.1\\ngdp_weighted_share: 0.0'), Document(metadata={'source': './datasets/fifa_countries_audience.csv', 'row': 100}, page_content='country: Bolivia\\nconfederation: CONMEBOL\\npopulation_share: 0.1\\ntv_audience_share: 0.1\\ngdp_weighted_share: 0.0'), Document(metadata={'source': './datasets/fifa_countries_audience.csv', 'row': 101}, page_content='country: Laos\\nconfederation: AFC\\npopulation_share: 0.1\\ntv_audience_share: 0.2\\ngdp_weighted_share: 0.0'), Document(metadata={'source': './datasets/fifa_countries_audience.csv', 'row': 102}, page_content='country: Armenia\\nconfederation: UEFA\\npopulation_share: 0.0\\ntv_audience_share: 0.1\\ngdp_weighted_share: 0.0'), Document(metadata={'source': './datasets/fifa_countries_audience.csv', 'row': 103}, page_content='country: Nicaragua\\nconfederation: CONCACAF\\npopulation_share: 0.1\\ntv_audience_share: 0.1\\ngdp_weighted_share: 0.0'), Document(metadata={'source': './datasets/fifa_countries_audience.csv', 'row': 104}, page_content='country: Afghanistan\\nconfederation: AFC\\npopulation_share: 0.4\\ntv_audience_share: 0.3\\ngdp_weighted_share: 0.0'), Document(metadata={'source': './datasets/fifa_countries_audience.csv', 'row': 105}, page_content='country: Kosovo\\nconfederation: UEFA\\npopulation_share: 0.0\\ntv_audience_share: 0.1\\ngdp_weighted_share: 0.0'), Document(metadata={'source': './datasets/fifa_countries_audience.csv', 'row': 106}, page_content='country: Cameroon\\nconfederation: CAF\\npopulation_share: 0.3\\ntv_audience_share: 0.2\\ngdp_weighted_share: 0.0'), Document(metadata={'source': './datasets/fifa_countries_audience.csv', 'row': 107}, page_content='country: Senegal\\nconfederation: CAF\\npopulation_share: 0.2\\ntv_audience_share: 0.2\\ngdp_weighted_share: 0.0'), Document(metadata={'source': './datasets/fifa_countries_audience.csv', 'row': 108}, page_content='country: Jamaica\\nconfederation: CONCACAF\\npopulation_share: 0.0\\ntv_audience_share: 0.1\\ngdp_weighted_share: 0.0'), Document(metadata={'source': './datasets/fifa_countries_audience.csv', 'row': 109}, page_content='country: Sri Lanka\\nconfederation: AFC\\npopulation_share: 0.3\\ntv_audience_share: 0.1\\ngdp_weighted_share: 0.0'), Document(metadata={'source': './datasets/fifa_countries_audience.csv', 'row': 110}, page_content='country: Myanmar\\nconfederation: AFC\\npopulation_share: 0.8\\ntv_audience_share: 0.1\\ngdp_weighted_share: 0.0'), Document(metadata={'source': './datasets/fifa_countries_audience.csv', 'row': 111}, page_content='country: Moldova\\nconfederation: UEFA\\npopulation_share: 0.1\\ntv_audience_share: 0.1\\ngdp_weighted_share: 0.0'), Document(metadata={'source': './datasets/fifa_countries_audience.csv', 'row': 112}, page_content='country: Malta\\nconfederation: UEFA\\npopulation_share: 0.0\\ntv_audience_share: 0.0\\ngdp_weighted_share: 0.0'), Document(metadata={'source': './datasets/fifa_countries_audience.csv', 'row': 113}, page_content='country: Bangladesh\\nconfederation: AFC\\npopulation_share: 2.2\\ntv_audience_share: 0.1\\ngdp_weighted_share: 0.0'), Document(metadata={'source': './datasets/fifa_countries_audience.csv', 'row': 114}, page_content='country: Zambia\\nconfederation: CAF\\npopulation_share: 0.2\\ntv_audience_share: 0.1\\ngdp_weighted_share: 0.0'), Document(metadata={'source': './datasets/fifa_countries_audience.csv', 'row': 115}, page_content='country: Morocco\\nconfederation: CAF\\npopulation_share: 0.5\\ntv_audience_share: 0.1\\ngdp_weighted_share: 0.0'), Document(metadata={'source': './datasets/fifa_countries_audience.csv', 'row': 116}, page_content='country: North Korea\\nconfederation: AFC\\npopulation_share: 0.4\\ntv_audience_share: 0.2\\ngdp_weighted_share: 0.0'), Document(metadata={'source': './datasets/fifa_countries_audience.csv', 'row': 117}, page_content='country: Botswana\\nconfederation: CAF\\npopulation_share: 0.0\\ntv_audience_share: 0.0\\ngdp_weighted_share: 0.0'), Document(metadata={'source': './datasets/fifa_countries_audience.csv', 'row': 118}, page_content='country: Tajikistan\\nconfederation: AFC\\npopulation_share: 0.1\\ntv_audience_share: 0.1\\ngdp_weighted_share: 0.0'), Document(metadata={'source': './datasets/fifa_countries_audience.csv', 'row': 119}, page_content='country: Iceland\\nconfederation: UEFA\\npopulation_share: 0.0\\ntv_audience_share: 0.0\\ngdp_weighted_share: 0.0'), Document(metadata={'source': './datasets/fifa_countries_audience.csv', 'row': 120}, page_content='country: Uganda\\nconfederation: CAF\\npopulation_share: 0.5\\ntv_audience_share: 0.2\\ngdp_weighted_share: 0.0'), Document(metadata={'source': './datasets/fifa_countries_audience.csv', 'row': 121}, page_content='country: Libya\\nconfederation: CAF\\npopulation_share: 0.1\\ntv_audience_share: 0.0\\ngdp_weighted_share: 0.0'), Document(metadata={'source': './datasets/fifa_countries_audience.csv', 'row': 122}, page_content='country: Palestine\\nconfederation: AFC\\npopulation_share: 0.1\\ntv_audience_share: 0.1\\ngdp_weighted_share: 0.0'), Document(metadata={'source': './datasets/fifa_countries_audience.csv', 'row': 123}, page_content='country: Kyrgyzstan\\nconfederation: AFC\\npopulation_share: 0.1\\ntv_audience_share: 0.1\\ngdp_weighted_share: 0.0'), Document(metadata={'source': './datasets/fifa_countries_audience.csv', 'row': 124}, page_content='country: Mongolia\\nconfederation: AFC\\npopulation_share: 0.0\\ntv_audience_share: 0.0\\ngdp_weighted_share: 0.0'), Document(metadata={'source': './datasets/fifa_countries_audience.csv', 'row': 125}, page_content='country: Montenegro\\nconfederation: UEFA\\npopulation_share: 0.0\\ntv_audience_share: 0.0\\ngdp_weighted_share: 0.0'), Document(metadata={'source': './datasets/fifa_countries_audience.csv', 'row': 126}, page_content='country: Tanzania\\nconfederation: CAF\\npopulation_share: 0.7\\ntv_audience_share: 0.1\\ngdp_weighted_share: 0.0'), Document(metadata={'source': './datasets/fifa_countries_audience.csv', 'row': 127}, page_content='country: Georgia\\nconfederation: UEFA\\npopulation_share: 0.1\\ntv_audience_share: 0.0\\ngdp_weighted_share: 0.0'), Document(metadata={'source': './datasets/fifa_countries_audience.csv', 'row': 128}, page_content='country: Suriname\\nconfederation: CONCACAF\\npopulation_share: 0.0\\ntv_audience_share: 0.0\\ngdp_weighted_share: 0.0'), Document(metadata={'source': './datasets/fifa_countries_audience.csv', 'row': 129}, page_content='country: Sudan\\nconfederation: CAF\\npopulation_share: 0.5\\ntv_audience_share: 0.1\\ngdp_weighted_share: 0.0'), Document(metadata={'source': './datasets/fifa_countries_audience.csv', 'row': 130}, page_content='country: Gabon\\nconfederation: CAF\\npopulation_share: 0.0\\ntv_audience_share: 0.0\\ngdp_weighted_share: 0.0'), Document(metadata={'source': './datasets/fifa_countries_audience.csv', 'row': 131}, page_content='country: Madagascar\\nconfederation: CAF\\npopulation_share: 0.3\\ntv_audience_share: 0.1\\ngdp_weighted_share: 0.0'), Document(metadata={'source': './datasets/fifa_countries_audience.csv', 'row': 132}, page_content='country: Tunisia\\nconfederation: AFC\\npopulation_share: 0.2\\ntv_audience_share: 0.0\\ngdp_weighted_share: 0.0'), Document(metadata={'source': './datasets/fifa_countries_audience.csv', 'row': 133}, page_content='country: Ethiopia\\nconfederation: CAF\\npopulation_share: 1.3\\ntv_audience_share: 0.2\\ngdp_weighted_share: 0.0'), Document(metadata={'source': './datasets/fifa_countries_audience.csv', 'row': 134}, page_content='country: Zimbabwe\\nconfederation: CAF\\npopulation_share: 0.2\\ntv_audience_share: 0.1\\ngdp_weighted_share: 0.0'), Document(metadata={'source': './datasets/fifa_countries_audience.csv', 'row': 135}, page_content='country: Namibia\\nconfederation: CAF\\npopulation_share: 0.0\\ntv_audience_share: 0.0\\ngdp_weighted_share: 0.0'), Document(metadata={'source': './datasets/fifa_countries_audience.csv', 'row': 136}, page_content='country: Bahamas\\nconfederation: CONCACAF\\npopulation_share: 0.0\\ntv_audience_share: 0.0\\ngdp_weighted_share: 0.0'), Document(metadata={'source': './datasets/fifa_countries_audience.csv', 'row': 137}, page_content='country: Papua New Guinea\\nconfederation: OFC\\npopulation_share: 0.1\\ntv_audience_share: 0.1\\ngdp_weighted_share: 0.0'), Document(metadata={'source': './datasets/fifa_countries_audience.csv', 'row': 138}, page_content='country: Guyana\\nconfederation: CONCACAF\\npopulation_share: 0.0\\ntv_audience_share: 0.0\\ngdp_weighted_share: 0.0'), Document(metadata={'source': './datasets/fifa_countries_audience.csv', 'row': 139}, page_content='country: Turks & Caicos\\nconfederation: CONCACAF\\npopulation_share: 0.0\\ntv_audience_share: 0.0\\ngdp_weighted_share: 0.0'), Document(metadata={'source': './datasets/fifa_countries_audience.csv', 'row': 140}, page_content='country: Congo DR\\nconfederation: CAF\\npopulation_share: 0.9\\ntv_audience_share: 0.2\\ngdp_weighted_share: 0.0'), Document(metadata={'source': './datasets/fifa_countries_audience.csv', 'row': 141}, page_content='country: Burkina Faso\\nconfederation: CAF\\npopulation_share: 0.2\\ntv_audience_share: 0.1\\ngdp_weighted_share: 0.0'), Document(metadata={'source': './datasets/fifa_countries_audience.csv', 'row': 142}, page_content='country: Guinea\\nconfederation: CAF\\npopulation_share: 0.2\\ntv_audience_share: 0.1\\ngdp_weighted_share: 0.0'), Document(metadata={'source': './datasets/fifa_countries_audience.csv', 'row': 143}, page_content='country: Haiti\\nconfederation: CONCACAF\\npopulation_share: 0.1\\ntv_audience_share: 0.1\\ngdp_weighted_share: 0.0'), Document(metadata={'source': './datasets/fifa_countries_audience.csv', 'row': 144}, page_content='country: Fiji\\nconfederation: OFC\\npopulation_share: 0.0\\ntv_audience_share: 0.0\\ngdp_weighted_share: 0.0'), Document(metadata={'source': './datasets/fifa_countries_audience.csv', 'row': 145}, page_content='country: Barbados\\nconfederation: CONCACAF\\npopulation_share: 0.0\\ntv_audience_share: 0.0\\ngdp_weighted_share: 0.0'), Document(metadata={'source': './datasets/fifa_countries_audience.csv', 'row': 146}, page_content='country: Mali\\nconfederation: CAF\\npopulation_share: 0.2\\ntv_audience_share: 0.0\\ngdp_weighted_share: 0.0'), Document(metadata={'source': './datasets/fifa_countries_audience.csv', 'row': 147}, page_content='country: Bermuda\\nconfederation: CONCACAF\\npopulation_share: 0.0\\ntv_audience_share: 0.0\\ngdp_weighted_share: 0.0'), Document(metadata={'source': './datasets/fifa_countries_audience.csv', 'row': 148}, page_content='country: St. Maarten\\nconfederation: CONCACAF\\npopulation_share: 0.0\\ntv_audience_share: 0.0\\ngdp_weighted_share: 0.0'), Document(metadata={'source': './datasets/fifa_countries_audience.csv', 'row': 149}, page_content='country: Equatorial Guinea\\nconfederation: CAF\\npopulation_share: 0.0\\ntv_audience_share: 0.0\\ngdp_weighted_share: 0.0'), Document(metadata={'source': './datasets/fifa_countries_audience.csv', 'row': 150}, page_content='country: Mozambique\\nconfederation: CAF\\npopulation_share: 0.3\\ntv_audience_share: 0.1\\ngdp_weighted_share: 0.0'), Document(metadata={'source': './datasets/fifa_countries_audience.csv', 'row': 151}, page_content='country: Seychelles\\nconfederation: CAF\\npopulation_share: 0.0\\ntv_audience_share: 0.0\\ngdp_weighted_share: 0.0'), Document(metadata={'source': './datasets/fifa_countries_audience.csv', 'row': 152}, page_content='country: Cape Verde\\nconfederation: CAF\\npopulation_share: 0.0\\ntv_audience_share: 0.0\\ngdp_weighted_share: 0.0'), Document(metadata={'source': './datasets/fifa_countries_audience.csv', 'row': 153}, page_content='country: Benin\\nconfederation: CAF\\npopulation_share: 0.1\\ntv_audience_share: 0.0\\ngdp_weighted_share: 0.0'), Document(metadata={'source': './datasets/fifa_countries_audience.csv', 'row': 154}, page_content='country: Swaziland\\nconfederation: CAF\\npopulation_share: 0.0\\ntv_audience_share: 0.0\\ngdp_weighted_share: 0.0'), Document(metadata={'source': './datasets/fifa_countries_audience.csv', 'row': 155}, page_content='country: Cayman Islands\\nconfederation: CONCACAF\\npopulation_share: 0.0\\ntv_audience_share: 0.0\\ngdp_weighted_share: 0.0'), Document(metadata={'source': './datasets/fifa_countries_audience.csv', 'row': 156}, page_content='country: Aruba\\nconfederation: CONCACAF\\npopulation_share: 0.0\\ntv_audience_share: 0.0\\ngdp_weighted_share: 0.0'), Document(metadata={'source': './datasets/fifa_countries_audience.csv', 'row': 157}, page_content='country: Maldives\\nconfederation: AFC\\npopulation_share: 0.0\\ntv_audience_share: 0.0\\ngdp_weighted_share: 0.0'), Document(metadata={'source': './datasets/fifa_countries_audience.csv', 'row': 158}, page_content='country: Niger\\nconfederation: CAF\\npopulation_share: 0.2\\ntv_audience_share: 0.1\\ngdp_weighted_share: 0.0'), Document(metadata={'source': './datasets/fifa_countries_audience.csv', 'row': 159}, page_content='country: Curacao\\nconfederation: CONCACAF\\npopulation_share: 0.0\\ntv_audience_share: 0.0\\ngdp_weighted_share: 0.0'), Document(metadata={'source': './datasets/fifa_countries_audience.csv', 'row': 160}, page_content='country: St. Lucia\\nconfederation: CONCACAF\\npopulation_share: 0.0\\ntv_audience_share: 0.0\\ngdp_weighted_share: 0.0'), Document(metadata={'source': './datasets/fifa_countries_audience.csv', 'row': 161}, page_content='country: Togo\\nconfederation: CAF\\npopulation_share: 0.1\\ntv_audience_share: 0.0\\ngdp_weighted_share: 0.0'), Document(metadata={'source': './datasets/fifa_countries_audience.csv', 'row': 162}, page_content='country: Burundi\\nconfederation: CAF\\npopulation_share: 0.1\\ntv_audience_share: 0.1\\ngdp_weighted_share: 0.0'), Document(metadata={'source': './datasets/fifa_countries_audience.csv', 'row': 163}, page_content='country: Congo, Rep.\\nconfederation: CAF\\npopulation_share: 0.1\\ntv_audience_share: 0.0\\ngdp_weighted_share: 0.0'), Document(metadata={'source': './datasets/fifa_countries_audience.csv', 'row': 164}, page_content='country: Antigua & Barbuda\\nconfederation: CONCACAF\\npopulation_share: 0.0\\ntv_audience_share: 0.0\\ngdp_weighted_share: 0.0'), Document(metadata={'source': './datasets/fifa_countries_audience.csv', 'row': 165}, page_content='country: Chad\\nconfederation: CAF\\npopulation_share: 0.2\\ntv_audience_share: 0.0\\ngdp_weighted_share: 0.0'), Document(metadata={'source': './datasets/fifa_countries_audience.csv', 'row': 166}, page_content='country: Eritrea\\nconfederation: CAF\\npopulation_share: 0.1\\ntv_audience_share: 0.0\\ngdp_weighted_share: 0.0'), Document(metadata={'source': './datasets/fifa_countries_audience.csv', 'row': 167}, page_content='country: Grenada\\nconfederation: CONCACAF\\npopulation_share: 0.0\\ntv_audience_share: 0.0\\ngdp_weighted_share: 0.0'), Document(metadata={'source': './datasets/fifa_countries_audience.csv', 'row': 168}, page_content='country: Lesotho\\nconfederation: CAF\\npopulation_share: 0.0\\ntv_audience_share: 0.0\\ngdp_weighted_share: 0.0'), Document(metadata={'source': './datasets/fifa_countries_audience.csv', 'row': 169}, page_content='country: St. Vincent\\nconfederation: CONCACAF\\npopulation_share: 0.0\\ntv_audience_share: 0.0\\ngdp_weighted_share: 0.0'), Document(metadata={'source': './datasets/fifa_countries_audience.csv', 'row': 170}, page_content='country: Malawi\\nconfederation: CAF\\npopulation_share: 0.2\\ntv_audience_share: 0.0\\ngdp_weighted_share: 0.0'), Document(metadata={'source': './datasets/fifa_countries_audience.csv', 'row': 171}, page_content='country: Sierra Leone\\nconfederation: CAF\\npopulation_share: 0.1\\ntv_audience_share: 0.0\\ngdp_weighted_share: 0.0'), Document(metadata={'source': './datasets/fifa_countries_audience.csv', 'row': 172}, page_content='country: Mauritania\\nconfederation: CAF\\npopulation_share: 0.1\\ntv_audience_share: 0.0\\ngdp_weighted_share: 0.0'), Document(metadata={'source': './datasets/fifa_countries_audience.csv', 'row': 173}, page_content='country: Solomon Islands\\nconfederation: OFC\\npopulation_share: 0.0\\ntv_audience_share: 0.0\\ngdp_weighted_share: 0.0'), Document(metadata={'source': './datasets/fifa_countries_audience.csv', 'row': 174}, page_content='country: Dominica\\nconfederation: CONCACAF\\npopulation_share: 0.0\\ntv_audience_share: 0.0\\ngdp_weighted_share: 0.0'), Document(metadata={'source': './datasets/fifa_countries_audience.csv', 'row': 175}, page_content='country: Timor\\nconfederation: AFC\\npopulation_share: 0.0\\ntv_audience_share: 0.0\\ngdp_weighted_share: 0.0'), Document(metadata={'source': './datasets/fifa_countries_audience.csv', 'row': 176}, page_content='country: St. Kitts\\nconfederation: CONCACAF\\npopulation_share: 0.0\\ntv_audience_share: 0.0\\ngdp_weighted_share: 0.0'), Document(metadata={'source': './datasets/fifa_countries_audience.csv', 'row': 177}, page_content='country: Rwanda\\nconfederation: CAF\\npopulation_share: 0.2\\ntv_audience_share: 0.0\\ngdp_weighted_share: 0.0'), Document(metadata={'source': './datasets/fifa_countries_audience.csv', 'row': 178}, page_content='country: Somalia\\nconfederation: CAF\\npopulation_share: 0.1\\ntv_audience_share: 0.0\\ngdp_weighted_share: 0.0'), Document(metadata={'source': './datasets/fifa_countries_audience.csv', 'row': 179}, page_content='country: Gambia\\nconfederation: CAF\\npopulation_share: 0.0\\ntv_audience_share: 0.0\\ngdp_weighted_share: 0.0'), Document(metadata={'source': './datasets/fifa_countries_audience.csv', 'row': 180}, page_content='country: Samoa\\nconfederation: OFC\\npopulation_share: 0.0\\ntv_audience_share: 0.0\\ngdp_weighted_share: 0.0'), Document(metadata={'source': './datasets/fifa_countries_audience.csv', 'row': 181}, page_content='country: Guinea-Bissau\\nconfederation: CAF\\npopulation_share: 0.0\\ntv_audience_share: 0.0\\ngdp_weighted_share: 0.0'), Document(metadata={'source': './datasets/fifa_countries_audience.csv', 'row': 182}, page_content='country: Central African Republic\\nconfederation: CAF\\npopulation_share: 0.1\\ntv_audience_share: 0.0\\ngdp_weighted_share: 0.0'), Document(metadata={'source': './datasets/fifa_countries_audience.csv', 'row': 183}, page_content='country: Vanuatu\\nconfederation: OFC\\npopulation_share: 0.0\\ntv_audience_share: 0.0\\ngdp_weighted_share: 0.0'), Document(metadata={'source': './datasets/fifa_countries_audience.csv', 'row': 184}, page_content='country: American Samoa\\nconfederation: OFC\\npopulation_share: 0.0\\ntv_audience_share: 0.0\\ngdp_weighted_share: 0.0'), Document(metadata={'source': './datasets/fifa_countries_audience.csv', 'row': 185}, page_content='country: Cook Islands\\nconfederation: OFC\\npopulation_share: 0.0\\ntv_audience_share: 0.0\\ngdp_weighted_share: 0.0'), Document(metadata={'source': './datasets/fifa_countries_audience.csv', 'row': 186}, page_content='country: Tonga\\nconfederation: OFC\\npopulation_share: 0.0\\ntv_audience_share: 0.0\\ngdp_weighted_share: 0.0'), Document(metadata={'source': './datasets/fifa_countries_audience.csv', 'row': 187}, page_content='country: Liberia\\nconfederation: CAF\\npopulation_share: 0.1\\ntv_audience_share: 0.0\\ngdp_weighted_share: 0.0'), Document(metadata={'source': './datasets/fifa_countries_audience.csv', 'row': 188}, page_content='country: Palau\\nconfederation: OFC\\npopulation_share: 0.0\\ntv_audience_share: 0.0\\ngdp_weighted_share: 0.0'), Document(metadata={'source': './datasets/fifa_countries_audience.csv', 'row': 189}, page_content='country: Nauru\\nconfederation: OFC\\npopulation_share: 0.0\\ntv_audience_share: 0.0\\ngdp_weighted_share: 0.0'), Document(metadata={'source': './datasets/fifa_countries_audience.csv', 'row': 190}, page_content='country: Niue\\nconfederation: OFC\\npopulation_share: 0.0\\ntv_audience_share: 0.0\\ngdp_weighted_share: 0.0')]\n"
     ]
    }
   ],
   "source": [
    "from langchain_community.document_loaders import CSVLoader\n",
    "\n",
    "loader = CSVLoader('./datasets/fifa_countries_audience.csv')\n",
    "\n",
    "data = loader.load()\n",
    "\n",
    "print(data)"
   ]
  },
  {
   "cell_type": "markdown",
   "metadata": {},
   "source": [
    "3. __HTML document loader__\n",
    "\n",
    "    Finally, we can load HTML files using the `UnstructuredHTMLLoader` class. We can access the document's contents, again, with subsetting, and extract the document's metadata with the metadata attribute."
   ]
  },
  {
   "cell_type": "code",
   "execution_count": null,
   "metadata": {},
   "outputs": [],
   "source": [
    "from langchain_community.document_loaders import UnstructuredHTMLLoader\n",
    "\n",
    "loader = UnstructuredHTMLLoader('./datasets/safe-secure-use-of-ai.html')\n",
    "\n",
    "data = loader.load()\n",
    "\n",
    "print(data[0])\n",
    "print(data[0].metadata)"
   ]
  },
  {
   "cell_type": "markdown",
   "metadata": {},
   "source": [
    "### **2. Splitting external data for retrieval**\n",
    "\n",
    "<img src=./images/intro.png width=60%>\n",
    "\n",
    "Let's examine the introduction from an academic paper, which is saved as a PDF. One naive splitting option would be to separate the document by-line.\n",
    "\n",
    "Line 1:<br>\n",
    "<img src=./images/intro-line1.png width=60%>\n",
    "\n",
    "Line 2: <br>\n",
    "<img src=./images/intro-line2.png width=60%>\n",
    "\n",
    "This would be simple to implement, but because sentences are often split over multiple lines, and because those lines are processed separately, key context might be lost.\n",
    "\n",
    "__Chunk overlap__\n",
    "\n",
    "To counteract lost context during chunk splitting, a chunk overlap is often implemented. We've selected two chunks and a chunk overlap shown in green. Having this extra overlap present in both chunks helps retain context. If a model shows signs of losing context and misunderstanding information when answering from external sources, we may need to increase this chunk overlap.\n",
    "\n",
    "<img src=./images/intro-chunk-overlap.png width=40%>\n",
    "\n",
    "There isn't one document splitting strategy that works for all situations. We should experiment with multiple methods, and see which one strikes the right balance between retaining context and managing chunk size. We will compare two document splitting methods:\n",
    "- `CharacterTextSplitter`\n",
    "- `RecursiveCharacterTextSplitter`\n",
    "\n",
    "As an example, let's split this quote by Elbert Hubbard, which contains 103 characters, into chunks. We'll compare how the two methods perform on this quote with a chunk_size of 24 characters and a small chunk_overlap of three.\n",
    "\n",
    "```python\n",
    "quote = '''One machine can do the work of fifty ordinary humans.\\nNo machine can do the work of one extraordinary human.'''\n",
    "chunk_size=24\n",
    "chunk_overlap=3\n",
    "len(quote)\n",
    "```\n",
    "Output:<br>\n",
    "`103`\n",
    "\n",
    "\n",
    "1. __CharacterTextSplitter__\n",
    "   \n",
    "    This method splits based on the separator first, then evaluates `chunk_size` and `chunk_overlap` to check if it's satisfied.\n",
    "\n",
    "    We call `CharacterTextSplitter`, passing the separator to split on, along with the chunk_size and `chunk_overlap`. Applying the splitter to the quote with the `.split_text()` method, and printing the output, we can see that we have a problem: "
   ]
  },
  {
   "cell_type": "code",
   "execution_count": 8,
   "metadata": {},
   "outputs": [
    {
     "name": "stderr",
     "output_type": "stream",
     "text": [
      "Created a chunk of size 52, which is longer than the specified 24\n"
     ]
    },
    {
     "name": "stdout",
     "output_type": "stream",
     "text": [
      "['One machine can do the work of fifty ordinary humans', 'No machine can do the work of one extraordinary human']\n",
      "[52, 53]\n"
     ]
    }
   ],
   "source": [
    "quote = '''One machine can do the work of fifty ordinary humans.\\nNo machine can do the work of one extraordinary human.'''\n",
    "chunk_size=24\n",
    "chunk_overlap=3\n",
    "\n",
    "from langchain.text_splitter import CharacterTextSplitter\n",
    "\n",
    "ct_splitter = CharacterTextSplitter(\n",
    "    separator=\".\",\n",
    "    chunk_size=chunk_size,\n",
    "    chunk_overlap=chunk_overlap\n",
    ")\n",
    "\n",
    "docs = ct_splitter.split_text(quote)\n",
    "print(docs)\n",
    "print([len(doc) for doc in docs])"
   ]
  },
  {
   "cell_type": "markdown",
   "metadata": {},
   "source": [
    "Each of these chunks contains more characters than our specified `chunk_size`. `CharacterTextSplitter` splits on the separator in an attempt to make chunks smaller than `chunk_size`, but in this case, splitting on the separator was unable to return chunks below our `chunk_size`. Let's take a look at a more robust splitting method!\n",
    "\n",
    "2. __RecursiveCharacterTextSplitter__\n",
    "   \n",
    "   `RecursiveCharacterSplitter` takes a list of separators to split on, and it works through the list from left to right, splitting the document using each separator in turn, and seeing if these chunks can be combined while remaining under `chunk_size`. Let's split the quote using the same `chunk_size` and `chunk_overlap`."
   ]
  },
  {
   "cell_type": "code",
   "execution_count": null,
   "metadata": {},
   "outputs": [
    {
     "name": "stdout",
     "output_type": "stream",
     "text": [
      "['One machine can do the', 'work of fifty ordinary', 'humans.', 'No machine can do the', 'work of one', 'extraordinary human.']\n"
     ]
    }
   ],
   "source": [
    "from langchain.text_splitter import RecursiveCharacterTextSplitter\n",
    "\n",
    "rc_splitter = RecursiveCharacterTextSplitter(\n",
    "    separators=[\"\\n\\n\", \"\\n\", \" \", \"\"],\n",
    "    chunk_size=chunk_size,\n",
    "    chunk_overlap=chunk_overlap\n",
    ")\n",
    "\n",
    "docs = rc_splitter.split_text(quote)\n",
    "print(docs)"
   ]
  },
  {
   "cell_type": "markdown",
   "metadata": {},
   "source": [
    "Notice how the length of each chunk varies. The class split by\n",
    "1. paragraphs first, and found that the chunk size was too big; (`\"\\n\\n\"`)\n",
    "2. likewise for sentences (`\"\\n\"`)\n",
    "3. It got to the third separator (`\" \"`): splitting words using the space separator, \n",
    "\n",
    "and found that words could be combined into chunks while remaining under the chunk_size character limit. \n",
    "\n",
    "However, some of these chunks are too small to contain meaningful context, but this recursive implementation may work better on larger documents."
   ]
  },
  {
   "cell_type": "markdown",
   "metadata": {},
   "source": [
    "__RecursiveCharacterTextSplitter with HTML__\n",
    "\n",
    "We can also use split other file formats, like HTML. Recall that we can load HTML using UnstructuredHTMLLoader. Defining the splitter is the same, but for splitting documents, we use the .split_documents() method instead of .split_text() to perform the split.\n",
    "\n",
    "NOTE: UnstucturedHTMLLoader requires Numpy to be 1.26 or lower. But this conflicts some of the packages we need for this course. So I skipped running codes for HTML. However, how the splitter works is essentially the same with above examples."
   ]
  },
  {
   "cell_type": "code",
   "execution_count": 15,
   "metadata": {},
   "outputs": [
    {
     "name": "stderr",
     "output_type": "stream",
     "text": [
      "Created a chunk of size 57, which is longer than the specified 24\n",
      "Created a chunk of size 29, which is longer than the specified 24\n"
     ]
    },
    {
     "name": "stdout",
     "output_type": "stream",
     "text": [
      "Chunks splitted by CharacterTextSplitter:\n",
      "['Words are flowing out like endless rain into a paper cup,', 'they slither while they pass,', 'they slip away across the universe.']\n",
      "[57, 29, 35] \n",
      "\n",
      "Chunks splitted by RecursiveCharacterTextSplitter:\n",
      "['Words are flowing out', 'out like endless rain', 'rain into a paper cup,', 'they slither while they', 'they pass,', 'they slip away across', 'across the universe.']\n",
      "[21, 21, 22, 23, 10, 21, 20]\n"
     ]
    }
   ],
   "source": [
    "# Import the character splitter\n",
    "from langchain_text_splitters import CharacterTextSplitter, RecursiveCharacterTextSplitter\n",
    "\n",
    "quote = 'Words are flowing out like endless rain into a paper cup,\\nthey slither while they pass,\\nthey slip away across the universe.'\n",
    "chunk_size = 24\n",
    "chunk_overlap = 10\n",
    "\n",
    "# Create an instance of the splitter class\n",
    "ct_splitter = CharacterTextSplitter(\n",
    "    separator=\"\\n\",\n",
    "    chunk_size=chunk_size,\n",
    "    chunk_overlap=chunk_overlap\n",
    ")\n",
    "\n",
    "rc_splitter = RecursiveCharacterTextSplitter(\n",
    "    separators=[\"\\n\", \" \", \"\"],\n",
    "    chunk_size=chunk_size,\n",
    "    chunk_overlap=chunk_overlap\n",
    ")\n",
    "\n",
    "# Split the string and print the chunks\n",
    "docs_ct = ct_splitter.split_text(quote)\n",
    "print(\"Chunks splitted by CharacterTextSplitter:\")\n",
    "print(docs_ct)\n",
    "print([len(doc) for doc in docs_ct], '\\n')\n",
    "\n",
    "print(\"Chunks splitted by RecursiveCharacterTextSplitter:\")\n",
    "docs_rc = rc_splitter.split_text(quote)\n",
    "print(docs_rc)\n",
    "print([len(doc) for doc in docs_rc])"
   ]
  },
  {
   "cell_type": "markdown",
   "metadata": {},
   "source": [
    "### **RAG storage and retrieval using vector databases**\n",
    "\n",
    "Now that we've covered document loading and splitting, we'll round-out the RAG workflow with learning about storing and retrieving this information using vector databases.\n",
    "\n",
    "We've now loaded documents and split them into chunks using an appropriate `chunk_size` and `chunk_overlap`. All that's left is to store them for retrieval.\n",
    "\n",
    "<img src='./images/rag.png' width=60%>\n",
    "\n",
    "We'll be using a vector database to store our documents and make them available for retrieval. This requires embedding our text documents to create vectors that capture the semantic meaning of the text. Then, a user query can be embedded to retrieve the most similar documents from the database and insert them into the model prompt.\n",
    "\n",
    "There are many vector databases available in LangChain. In this course, we will use `ChromaDB` because it is lightweight and quick to set up.\n",
    "\n",
    "We'll be storing documents containing guidelines for a company's marketing copy. There's two guidelines: one around brand capitalization, and another on how to refer to users."
   ]
  },
  {
   "cell_type": "code",
   "execution_count": 3,
   "metadata": {},
   "outputs": [
    {
     "data": {
      "text/plain": [
       "[Document(metadata={'id': '0', 'guideline': 'brand-capitalization'}, page_content='In all marketing copy, TechStack should always be written with the T and S capitalized. Incorrect: techstack, Techstack, etc.'),\n",
       " Document(metadata={'id': '1', 'guideline': 'referring-to-users'}, page_content='Our users should be referred to as techies in both internal and external communications.')]"
      ]
     },
     "execution_count": 3,
     "metadata": {},
     "output_type": "execute_result"
    }
   ],
   "source": [
    "import pickle\n",
    "\n",
    "# Load from file\n",
    "with open('./datasets/docs.pkl', 'rb') as f:\n",
    "    docs = pickle.load(f)\n",
    "\n",
    "with open('./datasets/docs_with_ids.pkl', 'rb') as f:\n",
    "    docs_with_ids = pickle.load(f)\n",
    "\n",
    "docs\n",
    "\n",
    "docs_with_ids"
   ]
  },
  {
   "cell_type": "markdown",
   "metadata": {},
   "source": [
    "__Setting up a Chroma vector database__\n",
    "\n",
    "Now that we've parsed the data, it's time to embed it. We'll use an embedding model from `OpenAI` by instantiating the `OpenAIEmbeddings` class, passing in our `openai_api_key`. \n",
    "\n",
    "To create a Chroma database from a set of documents, call the `.from_documents()` method on the Chroma class, passing the documents and embedding function to use. \n",
    "\n",
    "We'd like to persist this database to disk for future use, so provide a path to the `persist_directory` argument. \n",
    "\n",
    "Finally, to integrate the database with other LangChain components, we need to convert it into a retriever with the `.as_retriever()` method. Here, we specify that we want to perform a similarity search and return the top two most similar documents for each user query.\n",
    "\n",
    "__Building a prompt template__\n",
    "\n",
    "So the model know what to do, we'll construct a prompt template, which starts with the instruction: to review and fix the copy provided, insert the retrieved guidelines and copy to review, and an indication that the model should follow with a fixed version.\n",
    "\n",
    "__Chaining it all together__\n",
    "\n",
    "To chain together our `retriever`, `prompt_template`, and `LLM`, we use LCEL in a similar way as before, using pipes to connect the three components. The only difference is that we create a dictionary that assigns the retrieved documents to guidelines, and assigns the copy to review to the `RunnablePassthrough` function, which acts as a _placeholder_ to insert our input when we invoke the chain. Printing the result, we can see the model fixed the two guideline breaches."
   ]
  },
  {
   "cell_type": "code",
   "execution_count": 4,
   "metadata": {},
   "outputs": [
    {
     "name": "stdout",
     "output_type": "stream",
     "text": [
      "Here at TechStack, our techies are the best in the world!\n"
     ]
    }
   ],
   "source": [
    "from langchain_openai import OpenAIEmbeddings, ChatOpenAI\n",
    "from langchain_chroma import Chroma\n",
    "from langchain_core.runnables import RunnablePassthrough\n",
    "from langchain_core.prompts import ChatPromptTemplate\n",
    "from langchain_core.documents import Document\n",
    "import os\n",
    "import pickle\n",
    "from dotenv import load_dotenv\n",
    "\n",
    "load_dotenv()\n",
    "\n",
    "api_key = os.getenv(\"OPENAI_API_KEY\")\n",
    "\n",
    "embedding_function = OpenAIEmbeddings(\n",
    "    api_key=api_key,\n",
    "    model=\"text-embedding-3-small\"\n",
    ")\n",
    "\n",
    "vectorstore = Chroma.from_documents(\n",
    "    docs_with_ids,\n",
    "    embedding=embedding_function,\n",
    "    persist_directory=\"./datasets/\"\n",
    ")\n",
    "\n",
    "retriever = vectorstore.as_retriever(\n",
    "    search_type=\"similarity\",\n",
    "    search_kwargs={\"k\":2}\n",
    ")\n",
    "\n",
    "message=\"\"\"\n",
    "Review and fix the following TechStack marketing copy with the following guidelines in consideration:\n",
    "Guidelines:\n",
    "{guidelines}\n",
    "Copy:\n",
    "{copy}\n",
    "Fixed Copy:\n",
    "\"\"\"\n",
    "\n",
    "prompt_template = ChatPromptTemplate.from_messages([(\"human\", message)])\n",
    "\n",
    "llm = ChatOpenAI(model=\"gpt-4o-mini\", api_key=api_key)\n",
    "\n",
    "rag_chain= (\n",
    "    {\"guidelines\": retriever, \"copy\": RunnablePassthrough()}\n",
    "    | prompt_template\n",
    "    | llm\n",
    ")\n",
    "\n",
    "response = rag_chain.invoke(\"Here at techstack, our users are the best in the world`\")\n",
    "\n",
    "print(response.content)"
   ]
  },
  {
   "cell_type": "markdown",
   "metadata": {},
   "source": [
    "## Example"
   ]
  },
  {
   "cell_type": "code",
   "execution_count": null,
   "metadata": {},
   "outputs": [],
   "source": [
    "from langchain_community.document_loaders import PyPDFLoader\n",
    "from langchain.text_splitter import RecursiveCharacterTextSplitter\n",
    "from langchain_openai import OpenAIEmbeddings\n",
    "from langchain_chroma import Chroma\n",
    "import os\n",
    "from dotenv import load_dotenv\n",
    "\n",
    "load_dotenv()\n",
    "\n",
    "api_key = os.getenv(\"OPENAI_API_KEY\")\n",
    "\n",
    "loader = PyPDFLoader('./datasets/rag_vs_fine_tuning.pdf')\n",
    "data = loader.load()\n",
    "\n",
    "# Split the document using RecursiveCharacterTextSplitter\n",
    "splitter = RecursiveCharacterTextSplitter(\n",
    "    chunk_size=300,\n",
    "    chunk_overlap=50\n",
    ")\n",
    "docs = splitter.split_documents(data) \n",
    "\n",
    "# Embed the documents in a persistent Chroma vector database\n",
    "embedding_function = OpenAIEmbeddings(api_key=api_key, model='text-embedding-3-small')\n",
    "vectorstore = Chroma.from_documents(\n",
    "    docs,\n",
    "    embedding=embedding_function,\n",
    "    persist_directory='./datasets/example/'\n",
    ")\n",
    "\n",
    "# Configure the vector store as a retriever\n",
    "retriever = vectorstore.as_retriever(\n",
    "    search_type=\"similarity\",\n",
    "    search_kwargs={\"k\":3}\n",
    ")"
   ]
  },
  {
   "cell_type": "code",
   "execution_count": 5,
   "metadata": {},
   "outputs": [],
   "source": [
    "# Add placeholders to the message string\n",
    "message = \"\"\"\n",
    "Answer the following question using the context provided:\n",
    "\n",
    "Context:\n",
    "{context}\n",
    "\n",
    "Question:\n",
    "{question}\n",
    "\n",
    "Answer:\n",
    "\"\"\"\n",
    "\n",
    "# Create a chat prompt template from the message string\n",
    "prompt_template = ChatPromptTemplate.from_messages([(\"human\", message)])"
   ]
  },
  {
   "cell_type": "code",
   "execution_count": 6,
   "metadata": {},
   "outputs": [
    {
     "name": "stdout",
     "output_type": "stream",
     "text": [
      "The provided context does not include any information regarding popular LLMs (Large Language Models) considered in a paper. It only discusses the capitalization rules for the brand \"TechStack\" in marketing copy. Please provide additional context or details related to LLMs for a more accurate response.\n"
     ]
    }
   ],
   "source": [
    "# Create a chain to link retriever, prompt_template, and llm\n",
    "rag_chain = ({\"context\": retriever, \"question\":RunnablePassthrough()}\n",
    "            | prompt_template\n",
    "            | llm)\n",
    "\n",
    "# Invoke the chain\n",
    "response = rag_chain.invoke(\"Which popular LLMs were considered in the paper?\")\n",
    "print(response.content)"
   ]
  },
  {
   "cell_type": "code",
   "execution_count": null,
   "metadata": {},
   "outputs": [],
   "source": []
  }
 ],
 "metadata": {
  "kernelspec": {
   "display_name": "Python 3",
   "language": "python",
   "name": "python3"
  },
  "language_info": {
   "codemirror_mode": {
    "name": "ipython",
    "version": 3
   },
   "file_extension": ".py",
   "mimetype": "text/x-python",
   "name": "python",
   "nbconvert_exporter": "python",
   "pygments_lexer": "ipython3",
   "version": "3.12.4"
  }
 },
 "nbformat": 4,
 "nbformat_minor": 2
}
