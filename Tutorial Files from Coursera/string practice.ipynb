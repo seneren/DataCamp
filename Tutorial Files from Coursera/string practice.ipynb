{
  "metadata": {
    "kernelspec": {
      "name": "python",
      "display_name": "Python (Pyodide)",
      "language": "python"
    },
    "language_info": {
      "codemirror_mode": {
        "name": "python",
        "version": 3
      },
      "file_extension": ".py",
      "mimetype": "text/x-python",
      "name": "python",
      "nbconvert_exporter": "python",
      "pygments_lexer": "ipython3",
      "version": "3.8"
    }
  },
  "nbformat_minor": 4,
  "nbformat": 4,
  "cells": [
    {
      "cell_type": "code",
      "source": "name= 'George Michael'\nlen(name)        # length of string",
      "metadata": {
        "trusted": true
      },
      "outputs": [
        {
          "execution_count": 1,
          "output_type": "execute_result",
          "data": {
            "text/plain": "14"
          },
          "metadata": {}
        }
      ],
      "execution_count": 1
    },
    {
      "cell_type": "code",
      "source": "name[0::2]         # Gets every second element starting from 0th.  ",
      "metadata": {
        "trusted": true
      },
      "outputs": [
        {
          "execution_count": 5,
          "output_type": "execute_result",
          "data": {
            "text/plain": "'Gog ihe'"
          },
          "metadata": {}
        }
      ],
      "execution_count": 5
    },
    {
      "cell_type": "code",
      "source": "name_add = ' is the best'\nstatement = name + name_add\nprint(statement)\nna_up = name_add.upper()   # Make the relevant part uppercase\nstat_new = name + na_up\nprint(stat_new)",
      "metadata": {
        "trusted": true
      },
      "outputs": [
        {
          "name": "stdout",
          "text": "George Michael is the best\nGeorge Michael IS THE BEST\n",
          "output_type": "stream"
        }
      ],
      "execution_count": 10
    },
    {
      "cell_type": "code",
      "source": "split_string = (statement.split())    #splits the string into words\nsplit_string",
      "metadata": {
        "trusted": true
      },
      "outputs": [
        {
          "execution_count": 12,
          "output_type": "execute_result",
          "data": {
            "text/plain": "['George', 'Michael', 'is', 'the', 'best']"
          },
          "metadata": {}
        }
      ],
      "execution_count": 12
    },
    {
      "cell_type": "code",
      "source": "statement.find('el') ",
      "metadata": {
        "trusted": true
      },
      "outputs": [
        {
          "execution_count": 14,
          "output_type": "execute_result",
          "data": {
            "text/plain": "12"
          },
          "metadata": {}
        }
      ],
      "execution_count": 14
    },
    {
      "cell_type": "code",
      "source": "import re    # RegEx tool including earch, split, findall, sub functions\n\n# Define the pattern to search for\npattern = r'George'\n\n# Use the search() function to search for the pattern in the string\nresult = re.search(pattern, statement)\n\nprint(result)\n\n# Check if a match was found\nif statement.find(pattern) > -1:\n    print(\"Match found, and spans over indexes\", statement.find(pattern), \"and\", len(pattern))\nelse:\n    print(\"Match not found. Try again please.\")\n",
      "metadata": {
        "trusted": true
      },
      "outputs": [
        {
          "name": "stdout",
          "text": "<re.Match object; span=(0, 6), match='George'>\nMatch found, and spans over indexes 0 and 6\n",
          "output_type": "stream"
        }
      ],
      "execution_count": 35
    },
    {
      "cell_type": "code",
      "source": "nr = ' and has 538 songs'\nexp = statement + nr\n\npattern = r\"\\d\\d\\d\"  # Matches any three consecutive digits\nmatch = re.search(pattern, exp)\n\nif match:\n    print('He has', match.group(), 'songs.')\nelse:\n    print('There is no info for song number.')",
      "metadata": {
        "trusted": true
      },
      "outputs": [
        {
          "name": "stdout",
          "text": "He has 538 songs.\n",
          "output_type": "stream"
        }
      ],
      "execution_count": 44
    },
    {
      "cell_type": "code",
      "source": "pattern = r\"\\W\"      # Matches any non-word character\nmatches = re.findall(pattern, exp)\n\nprint(\"Matches:\", matches)\n\npattern = r\"\\D\\D\\D\\D\\D\"      # Matches any 5 consecutive non-digit character\nmatching = re.findall(pattern, exp)\n\nprint(\"Matches:\", matching)\n\nresult = re.findall(\"he\", exp)\nprint(result)",
      "metadata": {
        "trusted": true
      },
      "outputs": [
        {
          "name": "stdout",
          "text": "Matches: [' ', ' ', ' ', ' ', ' ', ' ', ' ', ' ']\nMatches: ['Georg', 'e Mic', 'hael ', 'is th', 'e bes', 't and', ' has ', ' song']\n['he']\n",
          "output_type": "stream"
        }
      ],
      "execution_count": 51
    },
    {
      "cell_type": "code",
      "source": "split_array = re.split(\"\\s\", exp)\n\nprint(split_array) # OR\nexp.split()",
      "metadata": {
        "trusted": true
      },
      "outputs": [
        {
          "name": "stderr",
          "text": "<unknown>:1: SyntaxWarning: invalid escape sequence '\\s'\n<>:1: SyntaxWarning: invalid escape sequence '\\s'\n<>:1: SyntaxWarning: invalid escape sequence '\\s'\n<ipython-input-55-4e672ffe45d2>:1: SyntaxWarning: invalid escape sequence '\\s'\n  split_array = re.split(\"\\s\", exp)\n",
          "output_type": "stream"
        },
        {
          "name": "stdout",
          "text": "['George', 'Michael', 'is', 'the', 'best', 'and', 'has', '538', 'songs']\n",
          "output_type": "stream"
        },
        {
          "execution_count": 55,
          "output_type": "execute_result",
          "data": {
            "text/plain": "['George', 'Michael', 'is', 'the', 'best', 'and', 'has', '538', 'songs']"
          },
          "metadata": {}
        }
      ],
      "execution_count": 55
    },
    {
      "cell_type": "code",
      "source": "# Define the regular expression pattern to search for\npattern = r\"the best\"\n\n# Define the replacement string\nreplacement = \"legend\"\n\n# Use the sub function to replace the pattern with the replacement string\nnew_string = re.sub(pattern, replacement, exp, flags=re.IGNORECASE)\n\n# The new_string contains the original string with the pattern replaced by the replacement string\nprint(new_string) ",
      "metadata": {
        "trusted": true
      },
      "outputs": [
        {
          "name": "stdout",
          "text": "George Michael is legend and has 538 songs\n",
          "output_type": "stream"
        }
      ],
      "execution_count": 53
    },
    {
      "cell_type": "code",
      "source": "",
      "metadata": {
        "trusted": true
      },
      "outputs": [],
      "execution_count": null
    }
  ]
}