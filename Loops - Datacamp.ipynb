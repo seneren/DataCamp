{
 "cells": [
  {
   "cell_type": "code",
   "execution_count": null,
   "id": "72dd9b49-9981-460e-b615-f6ba0f79a905",
   "metadata": {},
   "outputs": [],
   "source": [
    "# For loop example"
   ]
  },
  {
   "cell_type": "code",
   "execution_count": 1,
   "id": "bead01be-cbb9-48ba-b71c-0a5987c2ce31",
   "metadata": {},
   "outputs": [
    {
     "name": "stdout",
     "output_type": "stream",
     "text": [
      "the hallway is 11.25 sqm\n",
      "the kitchen is 18.0 sqm\n",
      "the living room is 20.0 sqm\n",
      "the bedroom is 10.75 sqm\n",
      "the bathroom is 9.5 sqm\n"
     ]
    }
   ],
   "source": [
    "# house list of lists\n",
    "house = [[\"hallway\", 11.25], \n",
    "         [\"kitchen\", 18.0], \n",
    "         [\"living room\", 20.0], \n",
    "         [\"bedroom\", 10.75], \n",
    "         [\"bathroom\", 9.50]]\n",
    "         \n",
    "# Build a for loop from scratch\n",
    "for room,area in house :\n",
    "    print('the ' + str(room) + ' is ' + str(area) + ' sqm')    #Prints out 'room' is 'area' sqm"
   ]
  },
  {
   "cell_type": "markdown",
   "id": "c4e5a7af-3f8c-4bbe-b49b-c7600d526ce0",
   "metadata": {},
   "source": [
    "# Loop over Dictionary"
   ]
  },
  {
   "cell_type": "code",
   "execution_count": 2,
   "id": "972385df-3080-4cf4-8e8c-f94da49a4ea0",
   "metadata": {},
   "outputs": [
    {
     "name": "stdout",
     "output_type": "stream",
     "text": [
      "the capital of spain is madrid\n",
      "the capital of france is paris\n",
      "the capital of germany is berlin\n",
      "the capital of norway is oslo\n",
      "the capital of italy is rome\n",
      "the capital of poland is warsaw\n",
      "the capital of austria is vienna\n"
     ]
    }
   ],
   "source": [
    "# Definition of dictionary\n",
    "europe = {'spain':'madrid', 'france':'paris', 'germany':'berlin',\n",
    "          'norway':'oslo', 'italy':'rome', 'poland':'warsaw', 'austria':'vienna' }\n",
    "          \n",
    "# Iterate over europe\n",
    "for key,value in europe.items() :\n",
    "    print('the capital of ' + key + ' is ' + value)"
   ]
  },
  {
   "cell_type": "markdown",
   "id": "ce043577-777b-42f8-b53e-69de60a32c49",
   "metadata": {},
   "source": [
    "# Loop over 1D and 2D Numpy arrays"
   ]
  },
  {
   "cell_type": "code",
   "execution_count": 2,
   "id": "d4d7be64-94ee-4576-8715-6400b5b92ae8",
   "metadata": {},
   "outputs": [
    {
     "name": "stdout",
     "output_type": "stream",
     "text": [
      "74 inches\n",
      "74 inches\n",
      "72 inches\n",
      "72 inches\n",
      "73 inches\n",
      "69 inches\n",
      "69 inches\n",
      "71 inches\n",
      "76 inches\n",
      "71 inches\n",
      "74\n",
      "74\n",
      "72\n",
      "72\n",
      "73\n",
      "69\n",
      "69\n",
      "71\n",
      "76\n",
      "71\n",
      "180\n",
      "215\n",
      "210\n",
      "210\n",
      "188\n",
      "176\n",
      "209\n",
      "200\n",
      "231\n",
      "180\n"
     ]
    }
   ],
   "source": [
    "# Import numpy as np\n",
    "import numpy as np\n",
    "\n",
    "# We only use 10 indexes of both height and weight from baseball.csv\n",
    "\n",
    "np_height = np.array([74, 74, 72, 72, 73, 69 ,69, 71, 76, 71])\n",
    "np_weight = np.array([180, 215, 210, 210, 188, 176, 209, 200, 231, 180])\n",
    "\n",
    "np_baseball = np.array([np_height, np_weight])       # We can create 2D array from two 1D arrays like that. Or like the following line.\n",
    "\n",
    "np_base = np.array([[74, 74, 72, 72, 73, 69 ,69, 71, 76, 71],[180, 215, 210, 210, 188, 176, 209, 200, 231, 180]])\n",
    "\n",
    "# For loop over np_height\n",
    "for h in np_height :                   # Iterating over 1D array is usual, no need to insert an extra function.\n",
    "    print(str(h) + ' inches')\n",
    "\n",
    "# For loop over np_baseball\n",
    "\n",
    "for v in np.nditer(np_baseball) :      # To iterate over each index in 2D array, we need \"np.nditer(my_array)\" function.\n",
    "    print(v)                           # Prints out each value separately."
   ]
  },
  {
   "cell_type": "markdown",
   "id": "06d66b0c-8c06-47e4-8883-3bea0269985f",
   "metadata": {},
   "source": [
    "# Loop over Dataframe"
   ]
  },
  {
   "cell_type": "code",
   "execution_count": null,
   "id": "064571ec-0879-445f-9c31-13d2253b3811",
   "metadata": {},
   "outputs": [
    {
     "name": "stdout",
     "output_type": "stream",
     "text": [
      "     cars_per_cap        country  drives_right\n",
      "US            809  United States          True\n",
      "AUS           731      Australia         False\n",
      "JAP           588          Japan         False\n",
      "IN             18          India         False\n",
      "RU            200         Russia          True\n",
      "MOR            70        Morocco          True\n",
      "EG             45          Egypt          True\n"
     ]
    }
   ],
   "source": [
    "import pandas as pd\n",
    "cars = pd.read_csv('../DataCamp/Databases/cars.csv', index_col = 0)  \n",
    "\n",
    "print(cars)"
   ]
  },
  {
   "cell_type": "markdown",
   "id": "293d8b49-5c74-43af-8abc-af86bc5b4d08",
   "metadata": {},
   "source": [
    "- .iterrows() does iterations over rows in DataFrame/Pandas Series. We need that function to pull info from a DataFrame/Pandas Series."
   ]
  },
  {
   "cell_type": "code",
   "execution_count": 13,
   "id": "272d6d88-cf88-4fa2-92d2-e6d7462294fe",
   "metadata": {},
   "outputs": [
    {
     "name": "stdout",
     "output_type": "stream",
     "text": [
      "US\n",
      "cars_per_cap              809\n",
      "country         United States\n",
      "drives_right             True\n",
      "Name: US, dtype: object \n",
      "\n",
      "AUS\n",
      "cars_per_cap          731\n",
      "country         Australia\n",
      "drives_right        False\n",
      "Name: AUS, dtype: object \n",
      "\n",
      "JAP\n",
      "cars_per_cap      588\n",
      "country         Japan\n",
      "drives_right    False\n",
      "Name: JAP, dtype: object \n",
      "\n",
      "IN\n",
      "cars_per_cap       18\n",
      "country         India\n",
      "drives_right    False\n",
      "Name: IN, dtype: object \n",
      "\n",
      "RU\n",
      "cars_per_cap       200\n",
      "country         Russia\n",
      "drives_right      True\n",
      "Name: RU, dtype: object \n",
      "\n",
      "MOR\n",
      "cars_per_cap         70\n",
      "country         Morocco\n",
      "drives_right       True\n",
      "Name: MOR, dtype: object \n",
      "\n",
      "EG\n",
      "cars_per_cap       45\n",
      "country         Egypt\n",
      "drives_right     True\n",
      "Name: EG, dtype: object \n",
      "\n"
     ]
    }
   ],
   "source": [
    " # Iterate over rows of cars\n",
    "for lab, row in cars.iterrows() :      #lab for labels and row for rows in cars DataFrame\n",
    "    print(lab)\n",
    "    print(row, '\\n')                   # '\\n' is for a linespace after printing out"
   ]
  },
  {
   "cell_type": "code",
   "execution_count": 15,
   "id": "90ed7a64-2cce-4872-a6ac-e9f6009fe9c2",
   "metadata": {},
   "outputs": [
    {
     "name": "stdout",
     "output_type": "stream",
     "text": [
      "US: 809\n",
      "AUS: 731\n",
      "JAP: 588\n",
      "IN: 18\n",
      "RU: 200\n",
      "MOR: 70\n",
      "EG: 45\n"
     ]
    }
   ],
   "source": [
    "# Print out the label of countries at each row and cars_per_cap info, using .iterrow()\n",
    "\n",
    "for lab, row in cars.iterrows() :\n",
    "    print(lab + ': ' + str(row['cars_per_cap']))"
   ]
  },
  {
   "cell_type": "markdown",
   "id": "e170e5e4-b7e5-4282-b314-0520cbbd1497",
   "metadata": {},
   "source": [
    "- Adding a column to a Pandas Series."
   ]
  },
  {
   "cell_type": "code",
   "execution_count": 16,
   "id": "b9fdbafd-c469-41dc-b20c-66f776c42031",
   "metadata": {},
   "outputs": [
    {
     "name": "stdout",
     "output_type": "stream",
     "text": [
      "     cars_per_cap        country  drives_right        COUNTRY\n",
      "US            809  United States          True  UNITED STATES\n",
      "AUS           731      Australia         False      AUSTRALIA\n",
      "JAP           588          Japan         False          JAPAN\n",
      "IN             18          India         False          INDIA\n",
      "RU            200         Russia          True         RUSSIA\n",
      "MOR            70        Morocco          True        MOROCCO\n",
      "EG             45          Egypt          True          EGYPT\n"
     ]
    }
   ],
   "source": [
    "# Code for loop that adds COUNTRY column\n",
    "for lab, row in cars.iterrows() :\n",
    "    cars.loc[lab, 'COUNTRY'] = row['country'].upper()\n",
    "\n",
    "# Print cars\n",
    "print(cars)"
   ]
  },
  {
   "cell_type": "markdown",
   "id": "aad8718e-f0d3-428d-9ae9-8cec0e92e746",
   "metadata": {},
   "source": [
    "- We can also use one-liner code to see the same effect with .apply() "
   ]
  },
  {
   "cell_type": "code",
   "execution_count": 19,
   "id": "7180ae22-b8db-420a-8060-b3e1b25f437c",
   "metadata": {},
   "outputs": [
    {
     "name": "stdout",
     "output_type": "stream",
     "text": [
      "     cars_per_cap        country  drives_right        COUNTRY\n",
      "US            809  United States          True  UNITED STATES\n",
      "AUS           731      Australia         False      AUSTRALIA\n",
      "JAP           588          Japan         False          JAPAN\n",
      "IN             18          India         False          INDIA\n",
      "RU            200         Russia          True         RUSSIA\n",
      "MOR            70        Morocco          True        MOROCCO\n",
      "EG             45          Egypt          True          EGYPT\n"
     ]
    }
   ],
   "source": [
    "cars['COUNTRY'] = cars['country'].apply(str.upper)\n",
    "print(cars)"
   ]
  },
  {
   "cell_type": "code",
   "execution_count": null,
   "id": "f443308f-4b90-45c2-b7a8-643326582d76",
   "metadata": {},
   "outputs": [],
   "source": []
  }
 ],
 "metadata": {
  "kernelspec": {
   "display_name": "Python 3",
   "language": "python",
   "name": "python3"
  },
  "language_info": {
   "codemirror_mode": {
    "name": "ipython",
    "version": 3
   },
   "file_extension": ".py",
   "mimetype": "text/x-python",
   "name": "python",
   "nbconvert_exporter": "python",
   "pygments_lexer": "ipython3",
   "version": "3.12.4"
  }
 },
 "nbformat": 4,
 "nbformat_minor": 5
}
